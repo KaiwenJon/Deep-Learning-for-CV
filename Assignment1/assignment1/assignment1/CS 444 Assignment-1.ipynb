{
 "cells": [
  {
   "cell_type": "code",
   "execution_count": 2,
   "metadata": {},
   "outputs": [],
   "source": [
    "import random\n",
    "import numpy as np\n",
    "from data_process import get_FASHION_data, get_MUSHROOM_data\n",
    "from scipy.spatial import distance\n",
    "from models import Perceptron, SVM, Softmax, Logistic\n",
    "from kaggle_submission import output_submission_csv\n",
    "%matplotlib inline\n",
    "\n",
    "# For auto-reloading external modules\n",
    "# See http://stackoverflow.com/questions/1907993/autoreload-of-modules-in-ipython\n",
    "%load_ext autoreload\n",
    "%autoreload 2"
   ]
  },
  {
   "cell_type": "markdown",
   "metadata": {},
   "source": [
    "# Loading Fashion-MNIST"
   ]
  },
  {
   "cell_type": "markdown",
   "metadata": {},
   "source": [
    "In the following cells we determine the number of images for each split and load the images.\n",
    "<br /> \n",
    "TRAIN_IMAGES + VAL_IMAGES = (0, 60000]\n",
    ", TEST_IMAGES = 10000"
   ]
  },
  {
   "cell_type": "code",
   "execution_count": 3,
   "metadata": {},
   "outputs": [],
   "source": [
    "# You can change these numbers for experimentation\n",
    "# For submission we will use the default values \n",
    "TRAIN_IMAGES = 50000\n",
    "VAL_IMAGES = 10000\n",
    "normalize = True"
   ]
  },
  {
   "cell_type": "code",
   "execution_count": 4,
   "metadata": {},
   "outputs": [],
   "source": [
    "data = get_FASHION_data(TRAIN_IMAGES, VAL_IMAGES, normalize=normalize)\n",
    "X_train_fashion, y_train_fashion = data['X_train'], data['y_train']\n",
    "X_val_fashion, y_val_fashion = data['X_val'], data['y_val']\n",
    "X_test_fashion, y_test_fashion = data['X_test'], data['y_test']\n",
    "n_class_fashion = len(np.unique(y_test_fashion))"
   ]
  },
  {
   "cell_type": "markdown",
   "metadata": {},
   "source": [
    "# Loading Mushroom"
   ]
  },
  {
   "cell_type": "markdown",
   "metadata": {},
   "source": [
    "In the following cells we determine the splitting of the mushroom dataset.\n",
    "<br /> TRAINING + VALIDATION = 0.8, TESTING = 0.2"
   ]
  },
  {
   "cell_type": "code",
   "execution_count": 5,
   "metadata": {},
   "outputs": [],
   "source": [
    "# TRAINING = 0.6 indicates 60% of the data is used as the training dataset.\n",
    "VALIDATION = 0.2"
   ]
  },
  {
   "cell_type": "code",
   "execution_count": 6,
   "metadata": {},
   "outputs": [
    {
     "name": "stdout",
     "output_type": "stream",
     "text": [
      "Number of train samples:  4874\n",
      "Number of val samples:  1625\n",
      "Number of test samples:  1625\n"
     ]
    }
   ],
   "source": [
    "data = get_MUSHROOM_data(VALIDATION)\n",
    "X_train_MR, y_train_MR = data['X_train'], data['y_train']\n",
    "X_val_MR, y_val_MR = data['X_val'], data['y_val']\n",
    "X_test_MR, y_test_MR = data['X_test'], data['y_test']\n",
    "n_class_MR = len(np.unique(y_test_MR))\n",
    "\n",
    "print(\"Number of train samples: \", X_train_MR.shape[0])\n",
    "print(\"Number of val samples: \", X_val_MR.shape[0])\n",
    "print(\"Number of test samples: \", X_test_MR.shape[0])"
   ]
  },
  {
   "cell_type": "markdown",
   "metadata": {},
   "source": [
    "### Get Accuracy"
   ]
  },
  {
   "cell_type": "markdown",
   "metadata": {},
   "source": [
    "This function computes how well your model performs using accuracy as a metric."
   ]
  },
  {
   "cell_type": "code",
   "execution_count": 7,
   "metadata": {},
   "outputs": [],
   "source": [
    "def get_acc(pred, y_test):\n",
    "    return np.sum(y_test == pred) / len(y_test) * 100"
   ]
  },
  {
   "cell_type": "markdown",
   "metadata": {},
   "source": [
    "# Perceptron"
   ]
  },
  {
   "cell_type": "markdown",
   "metadata": {},
   "source": [
    "Perceptron has 2 hyperparameters that you can experiment with:\n",
    "- **Learning rate** - controls how much we change the current weights of the classifier during each update. We set it at a default value of 0.5, but you should experiment with different values. We recommend changing the learning rate by factors of 10 and observing how the performance of the classifier changes. You should also try adding a **decay** which slowly reduces the learning rate over each epoch.\n",
    "- **Number of Epochs** - An epoch is a complete iterative pass over all of the data in the dataset. During an epoch we predict a label using the classifier and then update the weights of the classifier according to the perceptron update rule for each sample in the training set. You should try different values for the number of training epochs and report your results."
   ]
  },
  {
   "cell_type": "markdown",
   "metadata": {},
   "source": [
    "You will implement the Perceptron classifier in the **models/perceptron.py**\n",
    "\n",
    "The following code: \n",
    "- Creates an instance of the Perceptron classifier class \n",
    "- The train function of the Perceptron class is trained on the training data\n",
    "- We use the predict function to find the training accuracy as well as the testing accuracy\n"
   ]
  },
  {
   "cell_type": "markdown",
   "metadata": {},
   "source": [
    "## Train Perceptron on Fashion-MNIST"
   ]
  },
  {
   "cell_type": "code",
   "execution_count": 8,
   "metadata": {},
   "outputs": [],
   "source": [
    "lr = 0.5\n",
    "n_epochs = 10\n",
    "\n",
    "percept_fashion = Perceptron(n_class_fashion, lr, n_epochs)\n",
    "percept_fashion.train(X_train_fashion, y_train_fashion)"
   ]
  },
  {
   "cell_type": "code",
   "execution_count": 9,
   "metadata": {},
   "outputs": [
    {
     "name": "stdout",
     "output_type": "stream",
     "text": [
      "The training accuracy is given by: 0.000000\n"
     ]
    }
   ],
   "source": [
    "pred_percept = percept_fashion.predict(X_train_fashion)\n",
    "print('The training accuracy is given by: %f' % (get_acc(pred_percept, y_train_fashion)))"
   ]
  },
  {
   "cell_type": "markdown",
   "metadata": {},
   "source": [
    "### Validate Perceptron on Fashion-MNIST"
   ]
  },
  {
   "cell_type": "code",
   "execution_count": 10,
   "metadata": {},
   "outputs": [
    {
     "name": "stdout",
     "output_type": "stream",
     "text": [
      "The validation accuracy is given by: 0.000000\n"
     ]
    }
   ],
   "source": [
    "pred_percept = percept_fashion.predict(X_val_fashion)\n",
    "print('The validation accuracy is given by: %f' % (get_acc(pred_percept, y_val_fashion)))"
   ]
  },
  {
   "cell_type": "markdown",
   "metadata": {},
   "source": [
    "### Test Perceptron on Fashion-MNIST"
   ]
  },
  {
   "cell_type": "code",
   "execution_count": 11,
   "metadata": {},
   "outputs": [
    {
     "name": "stdout",
     "output_type": "stream",
     "text": [
      "The testing accuracy is given by: 0.000000\n"
     ]
    }
   ],
   "source": [
    "pred_percept = percept_fashion.predict(X_test_fashion)\n",
    "print('The testing accuracy is given by: %f' % (get_acc(pred_percept, y_test_fashion)))"
   ]
  },
  {
   "cell_type": "markdown",
   "metadata": {},
   "source": [
    "### Perceptron_Fashion-MNIST Kaggle Submission\n",
    "\n",
    "Once you are satisfied with your solution and test accuracy, output a file to submit your test set predictions to the Kaggle for Assignment 1 Fashion-MNIST. Use the following code to do so:"
   ]
  },
  {
   "cell_type": "code",
   "execution_count": 12,
   "metadata": {},
   "outputs": [
    {
     "ename": "TypeError",
     "evalue": "'NoneType' object is not iterable",
     "output_type": "error",
     "traceback": [
      "\u001b[0;31m---------------------------------------------------------------------------\u001b[0m",
      "\u001b[0;31mTypeError\u001b[0m                                 Traceback (most recent call last)",
      "Cell \u001b[0;32mIn [12], line 1\u001b[0m\n\u001b[0;32m----> 1\u001b[0m \u001b[43moutput_submission_csv\u001b[49m\u001b[43m(\u001b[49m\u001b[38;5;124;43m'\u001b[39;49m\u001b[38;5;124;43mkaggle/perceptron_submission_fashion.csv\u001b[39;49m\u001b[38;5;124;43m'\u001b[39;49m\u001b[43m,\u001b[49m\u001b[43m \u001b[49m\u001b[43mpercept_fashion\u001b[49m\u001b[38;5;241;43m.\u001b[39;49m\u001b[43mpredict\u001b[49m\u001b[43m(\u001b[49m\u001b[43mX_test_fashion\u001b[49m\u001b[43m)\u001b[49m\u001b[43m)\u001b[49m\n",
      "File \u001b[0;32m~/Documents/Spring2023/Deep-Learning-for-CV/Assignment1/assignment1/assignment1/kaggle_submission.py:30\u001b[0m, in \u001b[0;36moutput_submission_csv\u001b[0;34m(output_file_path, y_test)\u001b[0m\n\u001b[1;32m     23\u001b[0m \u001b[38;5;28;01mdef\u001b[39;00m \u001b[38;5;21moutput_submission_csv\u001b[39m(output_file_path: \u001b[38;5;28mstr\u001b[39m, y_test: np\u001b[38;5;241m.\u001b[39mndarray):\n\u001b[1;32m     24\u001b[0m     \u001b[38;5;124;03m\"\"\"Save predictions for Kaggle submission.\u001b[39;00m\n\u001b[1;32m     25\u001b[0m \n\u001b[1;32m     26\u001b[0m \u001b[38;5;124;03m    Parameters:\u001b[39;00m\n\u001b[1;32m     27\u001b[0m \u001b[38;5;124;03m        output_file_path: name of the file to save\u001b[39;00m\n\u001b[1;32m     28\u001b[0m \u001b[38;5;124;03m        y_test: y predictions\u001b[39;00m\n\u001b[1;32m     29\u001b[0m \u001b[38;5;124;03m    \"\"\"\u001b[39;00m\n\u001b[0;32m---> 30\u001b[0m     \u001b[43mwrite_csv\u001b[49m\u001b[43m(\u001b[49m\u001b[43moutput_file_path\u001b[49m\u001b[43m,\u001b[49m\u001b[43m \u001b[49m\u001b[43my_test\u001b[49m\u001b[43m)\u001b[49m\n",
      "File \u001b[0;32m~/Documents/Spring2023/Deep-Learning-for-CV/Assignment1/assignment1/assignment1/kaggle_submission.py:17\u001b[0m, in \u001b[0;36mwrite_csv\u001b[0;34m(file_path, y_list)\u001b[0m\n\u001b[1;32m     10\u001b[0m \u001b[38;5;124;03m\"\"\"Write a CSV file.\u001b[39;00m\n\u001b[1;32m     11\u001b[0m \n\u001b[1;32m     12\u001b[0m \u001b[38;5;124;03mParameters:\u001b[39;00m\n\u001b[1;32m     13\u001b[0m \u001b[38;5;124;03m    file_path: name of the file to save\u001b[39;00m\n\u001b[1;32m     14\u001b[0m \u001b[38;5;124;03m    y_list: y predictions\u001b[39;00m\n\u001b[1;32m     15\u001b[0m \u001b[38;5;124;03m\"\"\"\u001b[39;00m\n\u001b[1;32m     16\u001b[0m os\u001b[38;5;241m.\u001b[39mmakedirs(os\u001b[38;5;241m.\u001b[39mpath\u001b[38;5;241m.\u001b[39mdirname(file_path), exist_ok\u001b[38;5;241m=\u001b[39m\u001b[38;5;28;01mTrue\u001b[39;00m)\n\u001b[0;32m---> 17\u001b[0m solution_rows \u001b[38;5;241m=\u001b[39m [(\u001b[38;5;124m\"\u001b[39m\u001b[38;5;124mid\u001b[39m\u001b[38;5;124m\"\u001b[39m, \u001b[38;5;124m\"\u001b[39m\u001b[38;5;124mcategory\u001b[39m\u001b[38;5;124m\"\u001b[39m)] \u001b[38;5;241m+\u001b[39m [(i, y) \u001b[38;5;28;01mfor\u001b[39;00m (i, y) \u001b[38;5;129;01min\u001b[39;00m \u001b[38;5;28;43menumerate\u001b[39;49m\u001b[43m(\u001b[49m\u001b[43my_list\u001b[49m\u001b[43m)\u001b[49m]\n\u001b[1;32m     18\u001b[0m \u001b[38;5;28;01mwith\u001b[39;00m \u001b[38;5;28mopen\u001b[39m(file_path, \u001b[38;5;124m\"\u001b[39m\u001b[38;5;124mw\u001b[39m\u001b[38;5;124m\"\u001b[39m) \u001b[38;5;28;01mas\u001b[39;00m f:\n\u001b[1;32m     19\u001b[0m     writer \u001b[38;5;241m=\u001b[39m csv\u001b[38;5;241m.\u001b[39mwriter(f)\n",
      "\u001b[0;31mTypeError\u001b[0m: 'NoneType' object is not iterable"
     ]
    }
   ],
   "source": [
    "output_submission_csv('kaggle/perceptron_submission_fashion.csv', percept_fashion.predict(X_test_fashion))"
   ]
  },
  {
   "cell_type": "markdown",
   "metadata": {},
   "source": [
    "## Train Perceptron on Mushroom"
   ]
  },
  {
   "cell_type": "code",
   "execution_count": null,
   "metadata": {},
   "outputs": [],
   "source": [
    "lr = 0.5\n",
    "n_epochs = 10\n",
    "\n",
    "percept_MR = Perceptron(n_class_MR, lr, n_epochs)\n",
    "percept_MR.train(X_train_MR, y_train_MR)"
   ]
  },
  {
   "cell_type": "code",
   "execution_count": null,
   "metadata": {},
   "outputs": [],
   "source": [
    "pred_percept = percept_MR.predict(X_train_MR)\n",
    "print('The training accuracy is given by: %f' % (get_acc(pred_percept, y_train_MR)))"
   ]
  },
  {
   "cell_type": "markdown",
   "metadata": {},
   "source": [
    "### Validate Perceptron on Mushroom"
   ]
  },
  {
   "cell_type": "code",
   "execution_count": null,
   "metadata": {},
   "outputs": [],
   "source": [
    "pred_percept = percept_MR.predict(X_val_MR)\n",
    "print('The validation accuracy is given by: %f' % (get_acc(pred_percept, y_val_MR)))"
   ]
  },
  {
   "cell_type": "markdown",
   "metadata": {},
   "source": [
    "### Test Perceptron on Mushroom"
   ]
  },
  {
   "cell_type": "code",
   "execution_count": null,
   "metadata": {},
   "outputs": [],
   "source": [
    "pred_percept = percept_MR.predict(X_test_MR)\n",
    "print('The testing accuracy is given by: %f' % (get_acc(pred_percept, y_test_MR)))"
   ]
  },
  {
   "cell_type": "markdown",
   "metadata": {},
   "source": [
    "# Support Vector Machines (with SGD)"
   ]
  },
  {
   "cell_type": "markdown",
   "metadata": {},
   "source": [
    "Next, you will implement a \"soft margin\" SVM. In this formulation you will maximize the margin between positive and negative training examples and penalize margin violations using a hinge loss.\n",
    "\n",
    "We will optimize the SVM loss using SGD. This means you must compute the loss function with respect to model weights. You will use this gradient to update the model weights.\n",
    "\n",
    "SVM optimized with SGD has 3 hyperparameters that you can experiment with:\n",
    "- **Learning rate** - similar to as defined above in Perceptron, this parameter scales by how much the weights are changed according to the calculated gradient update. \n",
    "- **Epochs** - similar to as defined above in Perceptron.\n",
    "- **Regularization constant** - Hyperparameter to determine the strength of regularization. In this case it is a coefficient on the term which maximizes the margin. You could try different values. The default value is set to 0.05."
   ]
  },
  {
   "cell_type": "markdown",
   "metadata": {},
   "source": [
    "You will implement the SVM using SGD in the **models/svm.py**\n",
    "\n",
    "The following code: \n",
    "- Creates an instance of the SVM classifier class \n",
    "- The train function of the SVM class is trained on the training data\n",
    "- We use the predict function to find the training accuracy as well as the testing accuracy"
   ]
  },
  {
   "cell_type": "markdown",
   "metadata": {},
   "source": [
    "## Train SVM on Fashion-MNIST"
   ]
  },
  {
   "cell_type": "code",
   "execution_count": null,
   "metadata": {},
   "outputs": [],
   "source": [
    "lr = 0.5\n",
    "n_epochs = 10\n",
    "reg_const = 0.05\n",
    "\n",
    "svm_fashion = SVM(n_class_fashion, lr, n_epochs, reg_const)\n",
    "svm_fashion.train(X_train_fashion, y_train_fashion)"
   ]
  },
  {
   "cell_type": "code",
   "execution_count": null,
   "metadata": {},
   "outputs": [],
   "source": [
    "pred_svm = svm_fashion.predict(X_train_fashion)\n",
    "print('The training accuracy is given by: %f' % (get_acc(pred_svm, y_train_fashion)))"
   ]
  },
  {
   "cell_type": "markdown",
   "metadata": {},
   "source": [
    "### Validate SVM on Fashion-MNIST"
   ]
  },
  {
   "cell_type": "code",
   "execution_count": null,
   "metadata": {},
   "outputs": [],
   "source": [
    "pred_svm = svm_fashion.predict(X_val_fashion)\n",
    "print('The validation accuracy is given by: %f' % (get_acc(pred_svm, y_val_fashion)))"
   ]
  },
  {
   "cell_type": "markdown",
   "metadata": {},
   "source": [
    "### Test SVM on Fashion-MNIST"
   ]
  },
  {
   "cell_type": "code",
   "execution_count": null,
   "metadata": {},
   "outputs": [],
   "source": [
    "pred_svm = svm_fashion.predict(X_test_fashion)\n",
    "print('The testing accuracy is given by: %f' % (get_acc(pred_svm, y_test_fashion)))"
   ]
  },
  {
   "cell_type": "markdown",
   "metadata": {},
   "source": [
    "### SVM_Fashion-MNIST Kaggle Submission\n",
    "\n",
    "Once you are satisfied with your solution and test accuracy output a file to submit your test set predictions to the Kaggle for Assignment 1 Fashion-MNIST. Use the following code to do so:"
   ]
  },
  {
   "cell_type": "code",
   "execution_count": null,
   "metadata": {},
   "outputs": [],
   "source": [
    "output_submission_csv('kaggle/svm_submission_fashion.csv', svm_fashion.predict(X_test_fashion))"
   ]
  },
  {
   "cell_type": "markdown",
   "metadata": {},
   "source": [
    "## Train SVM on Mushroom"
   ]
  },
  {
   "cell_type": "code",
   "execution_count": null,
   "metadata": {},
   "outputs": [],
   "source": [
    "lr = 0.5\n",
    "n_epochs = 10\n",
    "reg_const = 0.05\n",
    "\n",
    "svm_MR = SVM(n_class_MR, lr, n_epochs, reg_const)\n",
    "svm_MR.train(X_train_MR, y_train_MR)"
   ]
  },
  {
   "cell_type": "code",
   "execution_count": null,
   "metadata": {},
   "outputs": [],
   "source": [
    "pred_svm = svm_MR.predict(X_train_MR)\n",
    "print('The training accuracy is given by: %f' % (get_acc(pred_svm, y_train_MR)))"
   ]
  },
  {
   "cell_type": "markdown",
   "metadata": {},
   "source": [
    "### Validate SVM on Mushroom"
   ]
  },
  {
   "cell_type": "code",
   "execution_count": null,
   "metadata": {},
   "outputs": [],
   "source": [
    "pred_svm = svm_MR.predict(X_val_MR)\n",
    "print('The validation accuracy is given by: %f' % (get_acc(pred_svm, y_val_MR)))"
   ]
  },
  {
   "cell_type": "markdown",
   "metadata": {},
   "source": [
    "## Test SVM on Mushroom"
   ]
  },
  {
   "cell_type": "code",
   "execution_count": null,
   "metadata": {},
   "outputs": [],
   "source": [
    "pred_svm = svm_MR.predict(X_test_MR)\n",
    "print('The testing accuracy is given by: %f' % (get_acc(pred_svm, y_test_MR)))"
   ]
  },
  {
   "cell_type": "markdown",
   "metadata": {},
   "source": [
    "# Softmax Classifier (with SGD)"
   ]
  },
  {
   "cell_type": "markdown",
   "metadata": {
    "collapsed": true
   },
   "source": [
    "Next, you will train a Softmax classifier. This classifier consists of a linear function of the input data followed by a softmax function which outputs a vector of dimension C (number of classes) for each data point. Each entry of the softmax output vector corresponds to a confidence in one of the C classes, and like a probability distribution, the entries of the output vector sum to 1. We use a cross-entropy loss on this sotmax output to train the model. \n",
    "\n",
    "Check the following link as an additional resource on softmax classification: http://cs231n.github.io/linear-classify/#softmax\n",
    "\n",
    "Once again we will train the classifier with SGD. This means you need to compute the gradients of the softmax cross-entropy loss function according to the weights and update the weights using this gradient. Check the following link to help with implementing the gradient updates: https://deepnotes.io/softmax-crossentropy"
   ]
  },
  {
   "cell_type": "markdown",
   "metadata": {},
   "source": [
    "The softmax classifier has 3 hyperparameters that you can experiment with:\n",
    "- **Learning rate** - As above, this controls how much the model weights are updated with respect to their gradient.\n",
    "- **Number of Epochs** - As described for perceptron.\n",
    "- **Regularization constant** - Hyperparameter to determine the strength of regularization. In this case, we minimize the L2 norm of the model weights as regularization, so the regularization constant is a coefficient on the L2 norm in the combined cross-entropy and regularization objective."
   ]
  },
  {
   "cell_type": "markdown",
   "metadata": {},
   "source": [
    "You will implement a softmax classifier using SGD in the **models/softmax.py**\n",
    "\n",
    "The following code: \n",
    "- Creates an instance of the Softmax classifier class \n",
    "- The train function of the Softmax class is trained on the training data\n",
    "- We use the predict function to find the training accuracy as well as the testing accuracy"
   ]
  },
  {
   "cell_type": "markdown",
   "metadata": {},
   "source": [
    "## Train Softmax on Fashion-MNIST"
   ]
  },
  {
   "cell_type": "code",
   "execution_count": 64,
   "metadata": {
    "scrolled": true
   },
   "outputs": [
    {
     "name": "stdout",
     "output_type": "stream",
     "text": [
      "Epoch1\t, acc:65.5000, loss:7915.0376\n",
      "Epoch11\t, acc:88.4000, loss:450.6193\n",
      "Epoch21\t, acc:93.6000, loss:197.4309\n",
      "Epoch31\t, acc:94.0000, loss:150.7141\n",
      "Epoch41\t, acc:94.8000, loss:131.5012\n",
      "Epoch51\t, acc:95.1000, loss:117.2123\n",
      "Epoch61\t, acc:95.7000, loss:104.9451\n",
      "Epoch71\t, acc:95.7000, loss:98.6019\n",
      "Epoch81\t, acc:96.1000, loss:92.6201\n",
      "Epoch91\t, acc:96.2000, loss:88.3122\n",
      "Epoch101\t, acc:96.4000, loss:83.2750\n",
      "Epoch111\t, acc:96.6000, loss:80.2734\n",
      "Epoch121\t, acc:96.6000, loss:77.4384\n",
      "Epoch131\t, acc:96.6000, loss:75.3237\n",
      "Epoch141\t, acc:96.6000, loss:73.3088\n",
      "Epoch151\t, acc:96.6000, loss:71.4781\n",
      "Epoch161\t, acc:96.6000, loss:70.3867\n",
      "Epoch171\t, acc:96.6000, loss:69.2583\n",
      "Epoch181\t, acc:96.6000, loss:68.2504\n",
      "Epoch191\t, acc:96.6000, loss:67.1479\n",
      "Epoch201\t, acc:96.6000, loss:66.1465\n",
      "Epoch211\t, acc:96.7000, loss:65.0929\n",
      "Epoch221\t, acc:96.7000, loss:63.5715\n",
      "Epoch231\t, acc:96.9000, loss:62.6722\n",
      "Epoch241\t, acc:96.9000, loss:61.9496\n",
      "Epoch251\t, acc:96.9000, loss:61.2732\n",
      "Epoch261\t, acc:96.9000, loss:60.6714\n",
      "Epoch271\t, acc:96.9000, loss:60.1986\n",
      "Epoch281\t, acc:96.9000, loss:59.5399\n",
      "Epoch291\t, acc:96.9000, loss:59.0914\n",
      "Epoch301\t, acc:96.9000, loss:58.7419\n",
      "Epoch311\t, acc:96.9000, loss:58.5347\n",
      "Epoch321\t, acc:96.9000, loss:58.1851\n",
      "Epoch331\t, acc:96.9000, loss:59.5130\n",
      "Epoch341\t, acc:96.9000, loss:57.3950\n",
      "Epoch351\t, acc:96.9000, loss:57.1810\n",
      "Epoch361\t, acc:96.9000, loss:56.8364\n",
      "Epoch371\t, acc:96.9000, loss:56.4350\n",
      "Epoch381\t, acc:96.9000, loss:56.1898\n",
      "Epoch391\t, acc:96.9000, loss:55.9885\n",
      "Epoch401\t, acc:96.9000, loss:55.8757\n",
      "Epoch411\t, acc:96.9000, loss:55.7551\n",
      "Epoch421\t, acc:96.9000, loss:55.3017\n",
      "Epoch431\t, acc:96.9000, loss:54.9834\n",
      "Epoch441\t, acc:96.9000, loss:54.7180\n",
      "Epoch451\t, acc:96.9000, loss:54.4975\n",
      "Epoch461\t, acc:96.9000, loss:54.1995\n",
      "Epoch471\t, acc:96.9000, loss:53.9780\n",
      "Epoch481\t, acc:96.9000, loss:53.8236\n",
      "Epoch491\t, acc:96.9000, loss:53.5891\n",
      "Epoch501\t, acc:96.9000, loss:53.2190\n",
      "Epoch511\t, acc:96.9000, loss:53.0807\n",
      "Epoch521\t, acc:96.9000, loss:55.3720\n",
      "Epoch531\t, acc:97.0000, loss:52.2832\n",
      "Epoch541\t, acc:97.2000, loss:52.5058\n",
      "Epoch551\t, acc:97.2000, loss:51.8219\n",
      "Epoch561\t, acc:97.2000, loss:51.6163\n",
      "Epoch571\t, acc:97.2000, loss:51.0792\n",
      "Epoch581\t, acc:97.2000, loss:50.6991\n",
      "Epoch591\t, acc:97.2000, loss:50.7949\n",
      "Epoch601\t, acc:97.2000, loss:50.3977\n",
      "Epoch611\t, acc:97.3000, loss:50.0626\n",
      "Epoch621\t, acc:97.3000, loss:49.8782\n",
      "Epoch631\t, acc:97.4000, loss:47.9367\n",
      "Epoch641\t, acc:97.4000, loss:48.1772\n",
      "Epoch651\t, acc:97.4000, loss:47.8005\n",
      "Epoch661\t, acc:97.4000, loss:46.8658\n",
      "Epoch671\t, acc:97.4000, loss:48.4423\n",
      "Epoch681\t, acc:97.5000, loss:46.9565\n",
      "Epoch691\t, acc:97.4000, loss:47.9220\n",
      "Epoch701\t, acc:97.4000, loss:47.2617\n",
      "Epoch711\t, acc:97.4000, loss:48.3706\n",
      "Epoch721\t, acc:97.5000, loss:46.7961\n",
      "Epoch731\t, acc:97.4000, loss:47.8184\n",
      "Epoch741\t, acc:97.4000, loss:46.7754\n",
      "Epoch751\t, acc:97.4000, loss:47.1447\n",
      "Epoch761\t, acc:97.6000, loss:45.9676\n",
      "Epoch771\t, acc:97.5000, loss:45.8347\n",
      "Epoch781\t, acc:97.5000, loss:45.8585\n",
      "Epoch791\t, acc:97.5000, loss:46.3422\n",
      "Epoch801\t, acc:97.6000, loss:45.3387\n",
      "Epoch811\t, acc:97.5000, loss:46.2557\n",
      "Epoch821\t, acc:97.5000, loss:44.7603\n",
      "Epoch831\t, acc:97.5000, loss:46.5182\n",
      "Epoch841\t, acc:97.5000, loss:44.4937\n",
      "Epoch851\t, acc:97.5000, loss:45.8460\n",
      "Epoch861\t, acc:97.5000, loss:45.3271\n",
      "Epoch871\t, acc:97.5000, loss:45.4171\n",
      "Epoch881\t, acc:97.5000, loss:44.7832\n",
      "Epoch891\t, acc:97.6000, loss:45.2413\n",
      "Epoch901\t, acc:97.5000, loss:45.5915\n",
      "Epoch911\t, acc:97.5000, loss:45.0632\n",
      "Epoch921\t, acc:97.5000, loss:45.2643\n",
      "Epoch931\t, acc:97.6000, loss:44.2508\n",
      "Epoch941\t, acc:97.5000, loss:45.4405\n",
      "Epoch951\t, acc:97.5000, loss:44.1283\n",
      "Epoch961\t, acc:97.5000, loss:45.1673\n",
      "Epoch971\t, acc:97.5000, loss:43.8413\n",
      "Epoch981\t, acc:97.5000, loss:45.1208\n",
      "Epoch991\t, acc:97.5000, loss:43.6636\n"
     ]
    }
   ],
   "source": [
    "lr = 0.0001\n",
    "n_epochs = 1000\n",
    "reg_const = 0\n",
    "\n",
    "X_clip = X_train_fashion[0:1000, :]\n",
    "Y_clip = y_train_fashion[0:1000]\n",
    "# softmax_fashion = Softmax(n_class_fashion, lr, n_epochs, reg_const)\n",
    "# softmax_fashion.train(X_train_fashion, y_train_fashion)\n",
    "# softmax_fashion = Softmax(n_class_fashion, lr, n_epochs, reg_const)\n",
    "# softmax_fashion.train(X_clip, Y_clip)\n",
    "\n",
    "from models.neural_net import NeuralNetwork\n",
    "\n",
    "num_layers = 2\n",
    "input_size = X_clip.shape[1]\n",
    "hidden_size = 10\n",
    "num_classes = n_class_fashion\n",
    "n_samples = X_clip.shape[0]\n",
    "np.random.seed(0)\n",
    "hidden_sizes = [hidden_size] * (num_layers - 1)\n",
    "regularization = 0\n",
    "batch_size = 50\n",
    "\n",
    "\n",
    "np.set_printoptions(suppress=True)\n",
    "np.set_printoptions(precision=3)\n",
    "\n",
    "y_clip_oneHot = np.zeros((n_samples, num_classes))\n",
    "y_clip_oneHot[np.arange(n_samples), Y_clip] = 1\n",
    "\n",
    "net = NeuralNetwork(input_size, hidden_sizes, num_classes, num_layers)\n",
    "epochs = 1000\n",
    "learning_rate = 0.001\n",
    "# For each epoch...\n",
    "for epoch in range(epochs):    \n",
    "    for index in range(0, n_samples, batch_size):\n",
    "        batch_X = X_clip[index:min(index + batch_size, n_samples),:]\n",
    "        batch_y = Y_clip[index:min(index + batch_size, n_samples)]\n",
    "#         batch_y = np.reshape(batch_y, (-1, 1))\n",
    "        # Run the forward pass of the model to get a prediction and compute the accuracy\n",
    "        scores = net.forward(batch_X)\n",
    "        pred = np.argmax(scores, axis=1)\n",
    "        net.backward(batch_y, regularization)\n",
    "        net.update(lr=learning_rate)\n",
    "#     scores = net.forward(X_clip)\n",
    "#     pred = np.argmax(scores, axis=1)\n",
    "#     net.backward(Y_clip, regularization)\n",
    "#     net.update(lr=learning_rate)\n",
    "        \n",
    "    if(epoch % 10 == 0):\n",
    "        scores = net.forward(X_clip)\n",
    "        pred = np.argmax(scores, axis=1)\n",
    "        acc = (pred == Y_clip).sum()/ len(Y_clip) * 100\n",
    "        loss = net.backward(Y_clip, regularization)\n",
    "        print(f\"Epoch{epoch+1}\\t, acc:{acc:.4f}, loss:{loss:.4f}\")\n",
    "\n",
    "#     scores = net.forward(X_clip)\n",
    "#     pred = np.argmax(scores, axis=1)\n",
    "#     acc = (pred == Y_clip).sum()/ len(Y_clip) * 100\n",
    "#     loss = net.backward(Y_clip, regularization)\n",
    "#     print(f\"Epoch{epoch+1}\\t, acc:{acc:.4f}, loss:{loss:.4f}\")\n",
    "    "
   ]
  },
  {
   "cell_type": "code",
   "execution_count": 14,
   "metadata": {},
   "outputs": [
    {
     "ename": "NameError",
     "evalue": "name 'softmax_fashion' is not defined",
     "output_type": "error",
     "traceback": [
      "\u001b[0;31m---------------------------------------------------------------------------\u001b[0m",
      "\u001b[0;31mNameError\u001b[0m                                 Traceback (most recent call last)",
      "Cell \u001b[0;32mIn [14], line 1\u001b[0m\n\u001b[0;32m----> 1\u001b[0m pred_softmax \u001b[38;5;241m=\u001b[39m \u001b[43msoftmax_fashion\u001b[49m\u001b[38;5;241m.\u001b[39mpredict(X_train_fashion)\n\u001b[1;32m      2\u001b[0m \u001b[38;5;28mprint\u001b[39m(\u001b[38;5;124m'\u001b[39m\u001b[38;5;124mThe training accuracy is given by: \u001b[39m\u001b[38;5;132;01m%f\u001b[39;00m\u001b[38;5;124m'\u001b[39m \u001b[38;5;241m%\u001b[39m (get_acc(pred_softmax, y_train_fashion)))\n",
      "\u001b[0;31mNameError\u001b[0m: name 'softmax_fashion' is not defined"
     ]
    }
   ],
   "source": [
    "pred_softmax = softmax_fashion.predict(X_train_fashion)\n",
    "print('The training accuracy is given by: %f' % (get_acc(pred_softmax, y_train_fashion)))"
   ]
  },
  {
   "cell_type": "markdown",
   "metadata": {},
   "source": [
    "### Validate Softmax on Fashion-MNIST"
   ]
  },
  {
   "cell_type": "code",
   "execution_count": 19,
   "metadata": {},
   "outputs": [
    {
     "name": "stdout",
     "output_type": "stream",
     "text": [
      "The validation accuracy is given by: 72.960000\n"
     ]
    }
   ],
   "source": [
    "pred_softmax = softmax_fashion.predict(X_val_fashion)\n",
    "print('The validation accuracy is given by: %f' % (get_acc(pred_softmax, y_val_fashion)))"
   ]
  },
  {
   "cell_type": "markdown",
   "metadata": {},
   "source": [
    "### Testing Softmax on Fashion-MNIST"
   ]
  },
  {
   "cell_type": "code",
   "execution_count": 20,
   "metadata": {},
   "outputs": [
    {
     "name": "stdout",
     "output_type": "stream",
     "text": [
      "The testing accuracy is given by: 72.040000\n"
     ]
    }
   ],
   "source": [
    "pred_softmax = softmax_fashion.predict(X_test_fashion)\n",
    "print('The testing accuracy is given by: %f' % (get_acc(pred_softmax, y_test_fashion)))"
   ]
  },
  {
   "cell_type": "markdown",
   "metadata": {},
   "source": [
    "### Softmax_Fashion-MNIST Kaggle Submission\n",
    "\n",
    "Once you are satisfied with your solution and test accuracy output a file to submit your test set predictions to the Kaggle for Assignment 1 Fashion-MNIST. Use the following code to do so:"
   ]
  },
  {
   "cell_type": "code",
   "execution_count": 289,
   "metadata": {},
   "outputs": [],
   "source": [
    "output_submission_csv('kaggle/softmax_submission_fashion.csv', softmax_fashion.predict(X_test_fashion))"
   ]
  },
  {
   "cell_type": "markdown",
   "metadata": {},
   "source": [
    "## Train Softmax on Mushroom"
   ]
  },
  {
   "cell_type": "code",
   "execution_count": 290,
   "metadata": {},
   "outputs": [
    {
     "name": "stdout",
     "output_type": "stream",
     "text": [
      "Epoch1\t, acc:48.9536, loss:0.8236\n",
      "Epoch11\t, acc:82.1912, loss:0.4911\n",
      "Epoch21\t, acc:84.3865, loss:0.4691\n",
      "Epoch31\t, acc:60.0328, loss:0.7129\n",
      "Epoch41\t, acc:84.9610, loss:0.4636\n",
      "Epoch51\t, acc:52.9955, loss:0.7833\n",
      "Epoch61\t, acc:89.0029, loss:0.4233\n",
      "Epoch71\t, acc:92.2856, loss:0.3903\n",
      "Epoch81\t, acc:90.5827, loss:0.4075\n",
      "Epoch91\t, acc:88.5925, loss:0.4273\n",
      "Epoch101\t, acc:91.3623, loss:0.3996\n",
      "Epoch111\t, acc:85.6996, loss:0.4562\n",
      "Epoch121\t, acc:55.5191, loss:0.7581\n",
      "Epoch131\t, acc:85.9664, loss:0.4536\n",
      "Epoch141\t, acc:56.3192, loss:0.7500\n",
      "Epoch151\t, acc:88.5310, loss:0.4280\n",
      "Epoch161\t, acc:93.3114, loss:0.3802\n",
      "Epoch171\t, acc:92.7165, loss:0.3861\n",
      "Epoch181\t, acc:88.6130, loss:0.4271\n",
      "Epoch191\t, acc:92.5318, loss:0.3879\n",
      "Epoch201\t, acc:86.5819, loss:0.4475\n",
      "Epoch211\t, acc:91.4444, loss:0.3988\n",
      "Epoch221\t, acc:90.9110, loss:0.4041\n",
      "Epoch231\t, acc:91.7932, loss:0.3953\n",
      "Epoch241\t, acc:92.5728, loss:0.3874\n",
      "Epoch251\t, acc:91.8547, loss:0.3948\n",
      "Epoch261\t, acc:92.7780, loss:0.3855\n",
      "Epoch271\t, acc:90.6853, loss:0.4064\n",
      "Epoch281\t, acc:85.8022, loss:0.4552\n",
      "Epoch291\t, acc:91.7727, loss:0.3955\n",
      "Epoch301\t, acc:91.4649, loss:0.3987\n",
      "Epoch311\t, acc:91.0956, loss:0.4024\n",
      "Epoch321\t, acc:84.3865, loss:0.4693\n",
      "Epoch331\t, acc:89.1260, loss:0.4217\n",
      "Epoch341\t, acc:92.9627, loss:0.3839\n",
      "Epoch351\t, acc:92.5318, loss:0.3880\n",
      "Epoch361\t, acc:92.5728, loss:0.3877\n",
      "Epoch371\t, acc:92.4908, loss:0.3883\n",
      "Epoch381\t, acc:93.5987, loss:0.3773\n",
      "Epoch391\t, acc:92.1215, loss:0.3920\n",
      "Epoch401\t, acc:91.5265, loss:0.3979\n",
      "Epoch411\t, acc:92.1420, loss:0.3919\n",
      "Epoch421\t, acc:92.0189, loss:0.3931\n",
      "Epoch431\t, acc:88.3668, loss:0.4298\n",
      "Epoch441\t, acc:93.7628, loss:0.3752\n",
      "Epoch451\t, acc:93.2704, loss:0.3804\n",
      "Epoch461\t, acc:86.3151, loss:0.4501\n",
      "Epoch471\t, acc:91.1572, loss:0.4016\n",
      "Epoch481\t, acc:92.7165, loss:0.3861\n",
      "Epoch491\t, acc:91.7522, loss:0.3956\n",
      "Epoch501\t, acc:91.8547, loss:0.3945\n",
      "Epoch511\t, acc:74.8461, loss:0.5649\n",
      "Epoch521\t, acc:58.3709, loss:0.7295\n",
      "Epoch531\t, acc:89.3106, loss:0.4200\n",
      "Epoch541\t, acc:92.3061, loss:0.3902\n",
      "Epoch551\t, acc:88.0386, loss:0.4329\n",
      "Epoch561\t, acc:94.5220, loss:0.3680\n",
      "Epoch571\t, acc:94.4604, loss:0.3687\n",
      "Epoch581\t, acc:80.5088, loss:0.5081\n",
      "Epoch591\t, acc:92.7985, loss:0.3853\n",
      "Epoch601\t, acc:84.9610, loss:0.4636\n",
      "Epoch611\t, acc:93.8039, loss:0.3751\n",
      "Epoch621\t, acc:91.6291, loss:0.3970\n",
      "Epoch631\t, acc:92.1215, loss:0.3920\n",
      "Epoch641\t, acc:93.0242, loss:0.3829\n",
      "Epoch651\t, acc:93.0242, loss:0.3830\n",
      "Epoch661\t, acc:94.2552, loss:0.3708\n",
      "Epoch671\t, acc:95.0964, loss:0.3621\n",
      "Epoch681\t, acc:91.7522, loss:0.3957\n",
      "Epoch691\t, acc:93.4551, loss:0.3788\n",
      "Epoch701\t, acc:92.8601, loss:0.3846\n",
      "Epoch711\t, acc:92.9011, loss:0.3842\n",
      "Epoch721\t, acc:91.8753, loss:0.3945\n",
      "Epoch731\t, acc:94.3168, loss:0.3702\n",
      "Epoch741\t, acc:91.5265, loss:0.3979\n",
      "Epoch751\t, acc:58.8018, loss:0.7253\n",
      "Epoch761\t, acc:96.0197, loss:0.3531\n",
      "Epoch771\t, acc:74.7230, loss:0.5659\n",
      "Epoch781\t, acc:94.8707, loss:0.3644\n",
      "Epoch791\t, acc:91.7522, loss:0.3957\n",
      "Epoch801\t, acc:95.2195, loss:0.3611\n",
      "Epoch811\t, acc:91.9368, loss:0.3940\n",
      "Epoch821\t, acc:95.2606, loss:0.3607\n",
      "Epoch831\t, acc:95.2400, loss:0.3608\n",
      "Epoch841\t, acc:92.7370, loss:0.3858\n",
      "Epoch851\t, acc:91.7522, loss:0.3957\n",
      "Epoch861\t, acc:83.0735, loss:0.4824\n",
      "Epoch871\t, acc:93.0447, loss:0.3828\n",
      "Epoch881\t, acc:93.8244, loss:0.3751\n",
      "Epoch891\t, acc:87.1563, loss:0.4415\n",
      "Epoch901\t, acc:91.7522, loss:0.3957\n",
      "Epoch911\t, acc:85.6176, loss:0.4569\n",
      "Epoch921\t, acc:94.1937, loss:0.3712\n",
      "Epoch931\t, acc:93.8039, loss:0.3751\n",
      "Epoch941\t, acc:95.1990, loss:0.3612\n",
      "Epoch951\t, acc:91.5880, loss:0.3973\n",
      "Epoch961\t, acc:93.6192, loss:0.3770\n",
      "Epoch971\t, acc:93.4140, loss:0.3791\n",
      "Epoch981\t, acc:94.7271, loss:0.3658\n",
      "Epoch991\t, acc:75.6463, loss:0.5567\n"
     ]
    }
   ],
   "source": [
    "lr = 0.05\n",
    "n_epochs = 1000\n",
    "reg_const = 0.0\n",
    "\n",
    "softmax_MR = Softmax(n_class_MR, lr, n_epochs, reg_const)\n",
    "softmax_MR.train(X_train_MR, y_train_MR)"
   ]
  },
  {
   "cell_type": "code",
   "execution_count": 291,
   "metadata": {},
   "outputs": [
    {
     "name": "stdout",
     "output_type": "stream",
     "text": [
      "The training accuracy is given by: 94.686089\n"
     ]
    }
   ],
   "source": [
    "pred_softmax = softmax_MR.predict(X_train_MR)\n",
    "print('The training accuracy is given by: %f' % (get_acc(pred_softmax, y_train_MR)))"
   ]
  },
  {
   "cell_type": "markdown",
   "metadata": {},
   "source": [
    "### Validate Softmax on Mushroom"
   ]
  },
  {
   "cell_type": "code",
   "execution_count": 292,
   "metadata": {},
   "outputs": [
    {
     "name": "stdout",
     "output_type": "stream",
     "text": [
      "The validation accuracy is given by: 94.153846\n"
     ]
    }
   ],
   "source": [
    "pred_softmax = softmax_MR.predict(X_val_MR)\n",
    "print('The validation accuracy is given by: %f' % (get_acc(pred_softmax, y_val_MR)))"
   ]
  },
  {
   "cell_type": "markdown",
   "metadata": {},
   "source": [
    "### Testing Softmax on Mushroom"
   ]
  },
  {
   "cell_type": "code",
   "execution_count": 293,
   "metadata": {},
   "outputs": [
    {
     "name": "stdout",
     "output_type": "stream",
     "text": [
      "The testing accuracy is given by: 94.338462\n"
     ]
    }
   ],
   "source": [
    "pred_softmax = softmax_MR.predict(X_test_MR)\n",
    "print('The testing accuracy is given by: %f' % (get_acc(pred_softmax, y_test_MR)))"
   ]
  },
  {
   "cell_type": "markdown",
   "metadata": {},
   "source": [
    "# Logistic Classifier"
   ]
  },
  {
   "cell_type": "markdown",
   "metadata": {},
   "source": [
    "The Logistic Classifier has 2 hyperparameters that you can experiment with:\n",
    "- **Learning rate** - similar to as defined above in Perceptron, this parameter scales by how much the weights are changed according to the calculated gradient update. \n",
    "- **Number of Epochs** - As described for perceptron.\n",
    "- **Threshold** - The decision boundary of the classifier.\n"
   ]
  },
  {
   "cell_type": "markdown",
   "metadata": {},
   "source": [
    "You will implement the Logistic Classifier in the **models/logistic.py**\n",
    "\n",
    "The following code: \n",
    "- Creates an instance of the Logistic classifier class \n",
    "- The train function of the Logistic class is trained on the training data\n",
    "- We use the predict function to find the training accuracy as well as the testing accuracy"
   ]
  },
  {
   "cell_type": "markdown",
   "metadata": {},
   "source": [
    "### Training Logistic Classifer"
   ]
  },
  {
   "cell_type": "code",
   "execution_count": 122,
   "metadata": {
    "scrolled": true
   },
   "outputs": [
    {
     "name": "stdout",
     "output_type": "stream",
     "text": [
      "Epoch1, acc:88.79770209273697\n",
      "Epoch11, acc:93.37299958965943\n",
      "Epoch21, acc:94.00902749281904\n",
      "Epoch31, acc:94.11161263848994\n",
      "Epoch41, acc:94.27574887156341\n",
      "Epoch51, acc:94.62453836684448\n",
      "Epoch61, acc:94.82970865818629\n",
      "Epoch71, acc:94.99384489125976\n",
      "Epoch81, acc:95.19901518260156\n",
      "Epoch91, acc:95.2605662700041\n",
      "Epoch101, acc:95.40418547394337\n",
      "Epoch111, acc:95.56832170701682\n",
      "Epoch121, acc:95.60935576528519\n",
      "Epoch131, acc:95.60935576528519\n",
      "Epoch141, acc:95.71194091095609\n",
      "Epoch151, acc:95.75297496922445\n",
      "Epoch161, acc:95.79400902749282\n",
      "Epoch171, acc:95.814526056627\n",
      "Epoch181, acc:95.87607714402955\n",
      "Epoch191, acc:95.87607714402955\n",
      "Epoch201, acc:95.89659417316373\n",
      "Epoch211, acc:95.89659417316373\n",
      "Epoch221, acc:95.93762823143209\n",
      "Epoch231, acc:95.91711120229792\n",
      "Epoch241, acc:95.91711120229792\n",
      "Epoch251, acc:95.91711120229792\n",
      "Epoch261, acc:95.95814526056627\n",
      "Epoch271, acc:95.95814526056627\n",
      "Epoch281, acc:95.93762823143209\n",
      "Epoch291, acc:95.99917931883463\n",
      "Epoch301, acc:96.040213377103\n",
      "Epoch311, acc:96.01969634796882\n",
      "Epoch321, acc:96.01969634796882\n",
      "Epoch331, acc:96.01969634796882\n",
      "Epoch341, acc:96.01969634796882\n",
      "Epoch351, acc:96.01969634796882\n",
      "Epoch361, acc:96.01969634796882\n",
      "Epoch371, acc:96.040213377103\n",
      "Epoch381, acc:96.040213377103\n",
      "Epoch391, acc:96.06073040623717\n",
      "Epoch401, acc:96.08124743537135\n",
      "Epoch411, acc:96.08124743537135\n",
      "Epoch421, acc:96.12228149363972\n",
      "Epoch431, acc:96.1427985227739\n",
      "Epoch441, acc:96.1427985227739\n",
      "Epoch451, acc:96.1427985227739\n",
      "Epoch461, acc:96.16331555190808\n",
      "Epoch471, acc:96.1427985227739\n",
      "Epoch481, acc:96.16331555190808\n",
      "Epoch491, acc:96.16331555190808\n",
      "Epoch501, acc:96.16331555190808\n",
      "Epoch511, acc:96.18383258104227\n",
      "Epoch521, acc:96.18383258104227\n",
      "Epoch531, acc:96.18383258104227\n",
      "Epoch541, acc:96.16331555190808\n",
      "Epoch551, acc:96.16331555190808\n",
      "Epoch561, acc:96.16331555190808\n",
      "Epoch571, acc:96.16331555190808\n",
      "Epoch581, acc:96.16331555190808\n",
      "Epoch591, acc:96.16331555190808\n",
      "Epoch601, acc:96.16331555190808\n",
      "Epoch611, acc:96.16331555190808\n",
      "Epoch621, acc:96.16331555190808\n",
      "Epoch631, acc:96.16331555190808\n",
      "Epoch641, acc:96.16331555190808\n",
      "Epoch651, acc:96.16331555190808\n",
      "Epoch661, acc:96.16331555190808\n",
      "Epoch671, acc:96.16331555190808\n",
      "Epoch681, acc:96.18383258104227\n",
      "Epoch691, acc:96.18383258104227\n",
      "Epoch701, acc:96.18383258104227\n",
      "Epoch711, acc:96.18383258104227\n",
      "Epoch721, acc:96.20434961017644\n",
      "Epoch731, acc:96.20434961017644\n",
      "Epoch741, acc:96.20434961017644\n",
      "Epoch751, acc:96.18383258104227\n",
      "Epoch761, acc:96.18383258104227\n",
      "Epoch771, acc:96.18383258104227\n",
      "Epoch781, acc:96.20434961017644\n",
      "Epoch791, acc:96.22486663931062\n",
      "Epoch801, acc:96.22486663931062\n",
      "Epoch811, acc:96.22486663931062\n",
      "Epoch821, acc:96.20434961017644\n",
      "Epoch831, acc:96.22486663931062\n",
      "Epoch841, acc:96.22486663931062\n",
      "Epoch851, acc:96.22486663931062\n",
      "Epoch861, acc:96.22486663931062\n",
      "Epoch871, acc:96.22486663931062\n",
      "Epoch881, acc:96.2453836684448\n",
      "Epoch891, acc:96.22486663931062\n",
      "Epoch901, acc:96.22486663931062\n",
      "Epoch911, acc:96.22486663931062\n",
      "Epoch921, acc:96.20434961017644\n",
      "Epoch931, acc:96.20434961017644\n",
      "Epoch941, acc:96.20434961017644\n",
      "Epoch951, acc:96.18383258104227\n",
      "Epoch961, acc:96.18383258104227\n",
      "Epoch971, acc:96.18383258104227\n",
      "Epoch981, acc:96.18383258104227\n",
      "Epoch991, acc:96.18383258104227\n"
     ]
    }
   ],
   "source": [
    "learning_rate = 0.01\n",
    "n_epochs = 1000\n",
    "threshold = 0.5\n",
    "\n",
    "lr = Logistic(learning_rate, n_epochs, threshold)\n",
    "lr.train(X_train_MR, y_train_MR)"
   ]
  },
  {
   "cell_type": "code",
   "execution_count": 118,
   "metadata": {},
   "outputs": [
    {
     "name": "stdout",
     "output_type": "stream",
     "text": [
      "The training accuracy is given by: 96.183833\n"
     ]
    }
   ],
   "source": [
    "pred_lr = lr.predict(X_train_MR)\n",
    "print('The training accuracy is given by: %f' % (get_acc(pred_lr, y_train_MR)))"
   ]
  },
  {
   "cell_type": "markdown",
   "metadata": {},
   "source": [
    "### Validate Logistic Classifer"
   ]
  },
  {
   "cell_type": "code",
   "execution_count": 120,
   "metadata": {},
   "outputs": [
    {
     "name": "stdout",
     "output_type": "stream",
     "text": [
      "The validation accuracy is given by: 96.184615\n"
     ]
    }
   ],
   "source": [
    "pred_lr = lr.predict(X_val_MR)\n",
    "print('The validation accuracy is given by: %f' % (get_acc(pred_lr, y_val_MR)))"
   ]
  },
  {
   "cell_type": "markdown",
   "metadata": {},
   "source": [
    "### Test Logistic Classifier"
   ]
  },
  {
   "cell_type": "code",
   "execution_count": 121,
   "metadata": {},
   "outputs": [
    {
     "name": "stdout",
     "output_type": "stream",
     "text": [
      "The testing accuracy is given by: 96.000000\n"
     ]
    }
   ],
   "source": [
    "pred_lr = lr.predict(X_test_MR)\n",
    "print('The testing accuracy is given by: %f' % (get_acc(pred_lr, y_test_MR)))"
   ]
  },
  {
   "cell_type": "code",
   "execution_count": null,
   "metadata": {},
   "outputs": [],
   "source": []
  }
 ],
 "metadata": {
  "kernelspec": {
   "display_name": "Python 3 (ipykernel)",
   "language": "python",
   "name": "python3"
  },
  "language_info": {
   "codemirror_mode": {
    "name": "ipython",
    "version": 3
   },
   "file_extension": ".py",
   "mimetype": "text/x-python",
   "name": "python",
   "nbconvert_exporter": "python",
   "pygments_lexer": "ipython3",
   "version": "3.8.10"
  }
 },
 "nbformat": 4,
 "nbformat_minor": 1
}
