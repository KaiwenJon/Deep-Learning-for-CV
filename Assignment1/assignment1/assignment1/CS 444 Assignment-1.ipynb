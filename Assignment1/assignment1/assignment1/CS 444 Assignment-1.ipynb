{
 "cells": [
  {
   "cell_type": "code",
   "execution_count": 2,
   "metadata": {},
   "outputs": [],
   "source": [
    "import random\n",
    "import numpy as np\n",
    "from data_process import get_FASHION_data, get_MUSHROOM_data\n",
    "from scipy.spatial import distance\n",
    "from models import Perceptron, SVM, Softmax, Logistic\n",
    "from kaggle_submission import output_submission_csv\n",
    "%matplotlib inline\n",
    "\n",
    "# For auto-reloading external modules\n",
    "# See http://stackoverflow.com/questions/1907993/autoreload-of-modules-in-ipython\n",
    "%load_ext autoreload\n",
    "%autoreload 2"
   ]
  },
  {
   "cell_type": "markdown",
   "metadata": {},
   "source": [
    "# Loading Fashion-MNIST"
   ]
  },
  {
   "cell_type": "markdown",
   "metadata": {},
   "source": [
    "In the following cells we determine the number of images for each split and load the images.\n",
    "<br /> \n",
    "TRAIN_IMAGES + VAL_IMAGES = (0, 60000]\n",
    ", TEST_IMAGES = 10000"
   ]
  },
  {
   "cell_type": "code",
   "execution_count": 5,
   "metadata": {},
   "outputs": [],
   "source": [
    "# You can change these numbers for experimentation\n",
    "# For submission we will use the default values \n",
    "TRAIN_IMAGES = 50000\n",
    "VAL_IMAGES = 10000\n",
    "normalize = True"
   ]
  },
  {
   "cell_type": "code",
   "execution_count": 6,
   "metadata": {},
   "outputs": [],
   "source": [
    "data = get_FASHION_data(TRAIN_IMAGES, VAL_IMAGES, normalize=normalize)\n",
    "X_train_fashion, y_train_fashion = data['X_train'], data['y_train']\n",
    "X_val_fashion, y_val_fashion = data['X_val'], data['y_val']\n",
    "X_test_fashion, y_test_fashion = data['X_test'], data['y_test']\n",
    "n_class_fashion = len(np.unique(y_test_fashion))"
   ]
  },
  {
   "cell_type": "markdown",
   "metadata": {},
   "source": [
    "# Loading Mushroom"
   ]
  },
  {
   "cell_type": "markdown",
   "metadata": {},
   "source": [
    "In the following cells we determine the splitting of the mushroom dataset.\n",
    "<br /> TRAINING + VALIDATION = 0.8, TESTING = 0.2"
   ]
  },
  {
   "cell_type": "code",
   "execution_count": 7,
   "metadata": {},
   "outputs": [],
   "source": [
    "# TRAINING = 0.6 indicates 60% of the data is used as the training dataset.\n",
    "VALIDATION = 0.2"
   ]
  },
  {
   "cell_type": "code",
   "execution_count": 8,
   "metadata": {},
   "outputs": [
    {
     "name": "stdout",
     "output_type": "stream",
     "text": [
      "Number of train samples:  4874\n",
      "Number of val samples:  1625\n",
      "Number of test samples:  1625\n"
     ]
    }
   ],
   "source": [
    "data = get_MUSHROOM_data(VALIDATION)\n",
    "X_train_MR, y_train_MR = data['X_train'], data['y_train']\n",
    "X_val_MR, y_val_MR = data['X_val'], data['y_val']\n",
    "X_test_MR, y_test_MR = data['X_test'], data['y_test']\n",
    "n_class_MR = len(np.unique(y_test_MR))\n",
    "\n",
    "print(\"Number of train samples: \", X_train_MR.shape[0])\n",
    "print(\"Number of val samples: \", X_val_MR.shape[0])\n",
    "print(\"Number of test samples: \", X_test_MR.shape[0])"
   ]
  },
  {
   "cell_type": "markdown",
   "metadata": {},
   "source": [
    "### Get Accuracy"
   ]
  },
  {
   "cell_type": "markdown",
   "metadata": {},
   "source": [
    "This function computes how well your model performs using accuracy as a metric."
   ]
  },
  {
   "cell_type": "code",
   "execution_count": 9,
   "metadata": {},
   "outputs": [],
   "source": [
    "def get_acc(pred, y_test):\n",
    "    return np.sum(y_test == pred) / len(y_test) * 100"
   ]
  },
  {
   "cell_type": "markdown",
   "metadata": {},
   "source": [
    "# Perceptron"
   ]
  },
  {
   "cell_type": "markdown",
   "metadata": {},
   "source": [
    "Perceptron has 2 hyperparameters that you can experiment with:\n",
    "- **Learning rate** - controls how much we change the current weights of the classifier during each update. We set it at a default value of 0.5, but you should experiment with different values. We recommend changing the learning rate by factors of 10 and observing how the performance of the classifier changes. You should also try adding a **decay** which slowly reduces the learning rate over each epoch.\n",
    "- **Number of Epochs** - An epoch is a complete iterative pass over all of the data in the dataset. During an epoch we predict a label using the classifier and then update the weights of the classifier according to the perceptron update rule for each sample in the training set. You should try different values for the number of training epochs and report your results."
   ]
  },
  {
   "cell_type": "markdown",
   "metadata": {},
   "source": [
    "You will implement the Perceptron classifier in the **models/perceptron.py**\n",
    "\n",
    "The following code: \n",
    "- Creates an instance of the Perceptron classifier class \n",
    "- The train function of the Perceptron class is trained on the training data\n",
    "- We use the predict function to find the training accuracy as well as the testing accuracy\n"
   ]
  },
  {
   "cell_type": "markdown",
   "metadata": {},
   "source": [
    "## Train Perceptron on Fashion-MNIST"
   ]
  },
  {
   "cell_type": "code",
   "execution_count": null,
   "metadata": {},
   "outputs": [],
   "source": [
    "lr = 0.5\n",
    "n_epochs = 10\n",
    "\n",
    "percept_fashion = Perceptron(n_class_fashion, lr, n_epochs)\n",
    "percept_fashion.train(X_train_fashion, y_train_fashion)"
   ]
  },
  {
   "cell_type": "code",
   "execution_count": null,
   "metadata": {},
   "outputs": [],
   "source": [
    "pred_percept = percept_fashion.predict(X_train_fashion)\n",
    "print('The training accuracy is given by: %f' % (get_acc(pred_percept, y_train_fashion)))"
   ]
  },
  {
   "cell_type": "markdown",
   "metadata": {},
   "source": [
    "### Validate Perceptron on Fashion-MNIST"
   ]
  },
  {
   "cell_type": "code",
   "execution_count": null,
   "metadata": {},
   "outputs": [],
   "source": [
    "pred_percept = percept_fashion.predict(X_val_fashion)\n",
    "print('The validation accuracy is given by: %f' % (get_acc(pred_percept, y_val_fashion)))"
   ]
  },
  {
   "cell_type": "markdown",
   "metadata": {},
   "source": [
    "### Test Perceptron on Fashion-MNIST"
   ]
  },
  {
   "cell_type": "code",
   "execution_count": null,
   "metadata": {},
   "outputs": [],
   "source": [
    "pred_percept = percept_fashion.predict(X_test_fashion)\n",
    "print('The testing accuracy is given by: %f' % (get_acc(pred_percept, y_test_fashion)))"
   ]
  },
  {
   "cell_type": "markdown",
   "metadata": {},
   "source": [
    "### Perceptron_Fashion-MNIST Kaggle Submission\n",
    "\n",
    "Once you are satisfied with your solution and test accuracy, output a file to submit your test set predictions to the Kaggle for Assignment 1 Fashion-MNIST. Use the following code to do so:"
   ]
  },
  {
   "cell_type": "code",
   "execution_count": null,
   "metadata": {},
   "outputs": [],
   "source": [
    "output_submission_csv('kaggle/perceptron_submission_fashion.csv', percept_fashion.predict(X_test_fashion))"
   ]
  },
  {
   "cell_type": "markdown",
   "metadata": {},
   "source": [
    "## Train Perceptron on Mushroom"
   ]
  },
  {
   "cell_type": "code",
   "execution_count": null,
   "metadata": {},
   "outputs": [],
   "source": [
    "lr = 0.5\n",
    "n_epochs = 10\n",
    "\n",
    "percept_MR = Perceptron(n_class_MR, lr, n_epochs)\n",
    "percept_MR.train(X_train_MR, y_train_MR)"
   ]
  },
  {
   "cell_type": "code",
   "execution_count": null,
   "metadata": {},
   "outputs": [],
   "source": [
    "pred_percept = percept_MR.predict(X_train_MR)\n",
    "print('The training accuracy is given by: %f' % (get_acc(pred_percept, y_train_MR)))"
   ]
  },
  {
   "cell_type": "markdown",
   "metadata": {},
   "source": [
    "### Validate Perceptron on Mushroom"
   ]
  },
  {
   "cell_type": "code",
   "execution_count": null,
   "metadata": {},
   "outputs": [],
   "source": [
    "pred_percept = percept_MR.predict(X_val_MR)\n",
    "print('The validation accuracy is given by: %f' % (get_acc(pred_percept, y_val_MR)))"
   ]
  },
  {
   "cell_type": "markdown",
   "metadata": {},
   "source": [
    "### Test Perceptron on Mushroom"
   ]
  },
  {
   "cell_type": "code",
   "execution_count": null,
   "metadata": {},
   "outputs": [],
   "source": [
    "pred_percept = percept_MR.predict(X_test_MR)\n",
    "print('The testing accuracy is given by: %f' % (get_acc(pred_percept, y_test_MR)))"
   ]
  },
  {
   "cell_type": "markdown",
   "metadata": {},
   "source": [
    "# Support Vector Machines (with SGD)"
   ]
  },
  {
   "cell_type": "markdown",
   "metadata": {},
   "source": [
    "Next, you will implement a \"soft margin\" SVM. In this formulation you will maximize the margin between positive and negative training examples and penalize margin violations using a hinge loss.\n",
    "\n",
    "We will optimize the SVM loss using SGD. This means you must compute the loss function with respect to model weights. You will use this gradient to update the model weights.\n",
    "\n",
    "SVM optimized with SGD has 3 hyperparameters that you can experiment with:\n",
    "- **Learning rate** - similar to as defined above in Perceptron, this parameter scales by how much the weights are changed according to the calculated gradient update. \n",
    "- **Epochs** - similar to as defined above in Perceptron.\n",
    "- **Regularization constant** - Hyperparameter to determine the strength of regularization. In this case it is a coefficient on the term which maximizes the margin. You could try different values. The default value is set to 0.05."
   ]
  },
  {
   "cell_type": "markdown",
   "metadata": {},
   "source": [
    "You will implement the SVM using SGD in the **models/svm.py**\n",
    "\n",
    "The following code: \n",
    "- Creates an instance of the SVM classifier class \n",
    "- The train function of the SVM class is trained on the training data\n",
    "- We use the predict function to find the training accuracy as well as the testing accuracy"
   ]
  },
  {
   "cell_type": "markdown",
   "metadata": {},
   "source": [
    "## Train SVM on Fashion-MNIST"
   ]
  },
  {
   "cell_type": "code",
   "execution_count": null,
   "metadata": {},
   "outputs": [],
   "source": [
    "lr = 0.5\n",
    "n_epochs = 10\n",
    "reg_const = 0.05\n",
    "\n",
    "svm_fashion = SVM(n_class_fashion, lr, n_epochs, reg_const)\n",
    "svm_fashion.train(X_train_fashion, y_train_fashion)"
   ]
  },
  {
   "cell_type": "code",
   "execution_count": null,
   "metadata": {},
   "outputs": [],
   "source": [
    "pred_svm = svm_fashion.predict(X_train_fashion)\n",
    "print('The training accuracy is given by: %f' % (get_acc(pred_svm, y_train_fashion)))"
   ]
  },
  {
   "cell_type": "markdown",
   "metadata": {},
   "source": [
    "### Validate SVM on Fashion-MNIST"
   ]
  },
  {
   "cell_type": "code",
   "execution_count": null,
   "metadata": {},
   "outputs": [],
   "source": [
    "pred_svm = svm_fashion.predict(X_val_fashion)\n",
    "print('The validation accuracy is given by: %f' % (get_acc(pred_svm, y_val_fashion)))"
   ]
  },
  {
   "cell_type": "markdown",
   "metadata": {},
   "source": [
    "### Test SVM on Fashion-MNIST"
   ]
  },
  {
   "cell_type": "code",
   "execution_count": null,
   "metadata": {},
   "outputs": [],
   "source": [
    "pred_svm = svm_fashion.predict(X_test_fashion)\n",
    "print('The testing accuracy is given by: %f' % (get_acc(pred_svm, y_test_fashion)))"
   ]
  },
  {
   "cell_type": "markdown",
   "metadata": {},
   "source": [
    "### SVM_Fashion-MNIST Kaggle Submission\n",
    "\n",
    "Once you are satisfied with your solution and test accuracy output a file to submit your test set predictions to the Kaggle for Assignment 1 Fashion-MNIST. Use the following code to do so:"
   ]
  },
  {
   "cell_type": "code",
   "execution_count": null,
   "metadata": {},
   "outputs": [],
   "source": [
    "output_submission_csv('kaggle/svm_submission_fashion.csv', svm_fashion.predict(X_test_fashion))"
   ]
  },
  {
   "cell_type": "markdown",
   "metadata": {},
   "source": [
    "## Train SVM on Mushroom"
   ]
  },
  {
   "cell_type": "code",
   "execution_count": null,
   "metadata": {},
   "outputs": [],
   "source": [
    "lr = 0.5\n",
    "n_epochs = 10\n",
    "reg_const = 0.05\n",
    "\n",
    "svm_MR = SVM(n_class_MR, lr, n_epochs, reg_const)\n",
    "svm_MR.train(X_train_MR, y_train_MR)"
   ]
  },
  {
   "cell_type": "code",
   "execution_count": null,
   "metadata": {},
   "outputs": [],
   "source": [
    "pred_svm = svm_MR.predict(X_train_MR)\n",
    "print('The training accuracy is given by: %f' % (get_acc(pred_svm, y_train_MR)))"
   ]
  },
  {
   "cell_type": "markdown",
   "metadata": {},
   "source": [
    "### Validate SVM on Mushroom"
   ]
  },
  {
   "cell_type": "code",
   "execution_count": null,
   "metadata": {},
   "outputs": [],
   "source": [
    "pred_svm = svm_MR.predict(X_val_MR)\n",
    "print('The validation accuracy is given by: %f' % (get_acc(pred_svm, y_val_MR)))"
   ]
  },
  {
   "cell_type": "markdown",
   "metadata": {},
   "source": [
    "## Test SVM on Mushroom"
   ]
  },
  {
   "cell_type": "code",
   "execution_count": null,
   "metadata": {},
   "outputs": [],
   "source": [
    "pred_svm = svm_MR.predict(X_test_MR)\n",
    "print('The testing accuracy is given by: %f' % (get_acc(pred_svm, y_test_MR)))"
   ]
  },
  {
   "cell_type": "markdown",
   "metadata": {},
   "source": [
    "# Softmax Classifier (with SGD)"
   ]
  },
  {
   "cell_type": "markdown",
   "metadata": {
    "collapsed": true
   },
   "source": [
    "Next, you will train a Softmax classifier. This classifier consists of a linear function of the input data followed by a softmax function which outputs a vector of dimension C (number of classes) for each data point. Each entry of the softmax output vector corresponds to a confidence in one of the C classes, and like a probability distribution, the entries of the output vector sum to 1. We use a cross-entropy loss on this sotmax output to train the model. \n",
    "\n",
    "Check the following link as an additional resource on softmax classification: http://cs231n.github.io/linear-classify/#softmax\n",
    "\n",
    "Once again we will train the classifier with SGD. This means you need to compute the gradients of the softmax cross-entropy loss function according to the weights and update the weights using this gradient. Check the following link to help with implementing the gradient updates: https://deepnotes.io/softmax-crossentropy"
   ]
  },
  {
   "cell_type": "markdown",
   "metadata": {},
   "source": [
    "The softmax classifier has 3 hyperparameters that you can experiment with:\n",
    "- **Learning rate** - As above, this controls how much the model weights are updated with respect to their gradient.\n",
    "- **Number of Epochs** - As described for perceptron.\n",
    "- **Regularization constant** - Hyperparameter to determine the strength of regularization. In this case, we minimize the L2 norm of the model weights as regularization, so the regularization constant is a coefficient on the L2 norm in the combined cross-entropy and regularization objective."
   ]
  },
  {
   "cell_type": "markdown",
   "metadata": {},
   "source": [
    "You will implement a softmax classifier using SGD in the **models/softmax.py**\n",
    "\n",
    "The following code: \n",
    "- Creates an instance of the Softmax classifier class \n",
    "- The train function of the Softmax class is trained on the training data\n",
    "- We use the predict function to find the training accuracy as well as the testing accuracy"
   ]
  },
  {
   "cell_type": "markdown",
   "metadata": {},
   "source": [
    "## Train Softmax on Fashion-MNIST"
   ]
  },
  {
   "cell_type": "code",
   "execution_count": 29,
   "metadata": {
    "scrolled": true
   },
   "outputs": [
    {
     "name": "stdout",
     "output_type": "stream",
     "text": [
      "--------Output------------\n",
      "X0 \n",
      " [[-9.00e-04 -6.16e-03 -3.09e-02 ... -2.68e+00 -8.04e-01 -7.32e-02]\n",
      " [-9.00e-04 -6.16e-03 -3.09e-02 ... -2.68e+00 -8.04e-01 -7.32e-02]\n",
      " [-9.00e-04 -6.16e-03 -3.09e-02 ... -2.68e+00 -8.04e-01 -7.32e-02]\n",
      " ...\n",
      " [-9.00e-04 -6.16e-03 -3.09e-02 ... -2.68e+00 -8.04e-01 -7.32e-02]\n",
      " [-9.00e-04 -6.16e-03 -3.09e-02 ... -2.68e+00 -8.04e-01 -7.32e-02]\n",
      " [-9.00e-04 -6.16e-03 -3.09e-02 ... -2.68e+00 -8.04e-01 -7.32e-02]]\n",
      "A0 \n",
      " [[-9.00e-04 -6.16e-03 -3.09e-02 ... -2.68e+00 -8.04e-01 -7.32e-02]\n",
      " [-9.00e-04 -6.16e-03 -3.09e-02 ... -2.68e+00 -8.04e-01 -7.32e-02]\n",
      " [-9.00e-04 -6.16e-03 -3.09e-02 ... -2.68e+00 -8.04e-01 -7.32e-02]\n",
      " ...\n",
      " [-9.00e-04 -6.16e-03 -3.09e-02 ... -2.68e+00 -8.04e-01 -7.32e-02]\n",
      " [-9.00e-04 -6.16e-03 -3.09e-02 ... -2.68e+00 -8.04e-01 -7.32e-02]\n",
      " [-9.00e-04 -6.16e-03 -3.09e-02 ... -2.68e+00 -8.04e-01 -7.32e-02]]\n",
      "X1 \n",
      " [[ 163.03   52.89   -3.6  ...  -80.22  -27.27  230.57]\n",
      " [  -8.36  -22.83  102.94 ...  -36.2   -79.69   96.5 ]\n",
      " [ -35.28 -135.44   11.05 ...    6.84   -5.6   -80.42]\n",
      " ...\n",
      " [ -16.76  -68.4    93.87 ...   73.31  -53.69  -74.82]\n",
      " [ -31.59 -119.25   12.19 ...   34.58    9.29  -55.63]\n",
      " [  20.54  -14.76   14.19 ...   64.    -29.81  -95.65]]\n",
      "A1 \n",
      " [[163.03  52.89   0.   ...   0.     0.   230.57]\n",
      " [  0.     0.   102.94 ...   0.     0.    96.5 ]\n",
      " [  0.     0.    11.05 ...   6.84   0.     0.  ]\n",
      " ...\n",
      " [  0.     0.    93.87 ...  73.31   0.     0.  ]\n",
      " [  0.     0.    12.19 ...  34.58   9.29   0.  ]\n",
      " [ 20.54   0.    14.19 ...  64.     0.     0.  ]]\n",
      "X2 \n",
      " [[-2.45e+01  1.70e+01 -9.80e+01 ...  6.52e+01 -3.82e+01 -7.73e+01]\n",
      " [-1.48e+01  1.68e+01 -2.29e+01 ... -2.73e+00 -1.20e+01 -1.34e+01]\n",
      " [-3.56e+01 -3.81e+00  1.88e+01 ... -3.12e+01  4.06e+01 -5.02e+01]\n",
      " ...\n",
      " [-8.87e+01 -4.04e+01  3.59e+01 ...  7.25e+00  1.16e+02 -1.36e+02]\n",
      " [-2.40e+01  2.91e+00 -1.17e+01 ...  1.14e+01  2.95e+01 -1.76e+01]\n",
      " [-8.24e+01 -3.39e+01 -3.04e-02 ... -2.32e+01  8.36e+01 -1.30e+02]]\n",
      "A2 \n",
      " [[  0.    16.95   0.   ...  65.18   0.     0.  ]\n",
      " [  0.    16.81   0.   ...   0.     0.     0.  ]\n",
      " [  0.     0.    18.82 ...   0.    40.63   0.  ]\n",
      " ...\n",
      " [  0.     0.    35.92 ...   7.25 116.04   0.  ]\n",
      " [  0.     2.91   0.   ...  11.4   29.51   0.  ]\n",
      " [  0.     0.     0.   ...   0.    83.65   0.  ]]\n",
      "X3 \n",
      " [[  0.9   23.46   8.86 ... -24.87   1.67 -10.22]\n",
      " [ -7.2   -2.34  13.5  ...   0.42   1.55   1.4 ]\n",
      " [  8.32 -25.86   4.49 ...  -1.63  -3.03  -9.71]\n",
      " ...\n",
      " [ 53.38 -44.69  38.14 ... -23.74 -18.2  -32.92]\n",
      " [  8.5  -15.95  12.95 ...  -7.13  -3.45 -12.08]\n",
      " [ 26.9  -34.6  -15.6  ...   4.22   3.05 -31.64]]\n",
      "A3 \n",
      " [[8.08e-11 5.07e-01 2.31e-07 ... 5.18e-22 1.74e-10 1.20e-15]\n",
      " [1.03e-09 1.33e-07 1.00e+00 ... 2.10e-06 6.51e-06 5.59e-06]\n",
      " [2.14e-03 3.06e-18 4.67e-05 ... 1.02e-07 2.52e-08 3.17e-11]\n",
      " ...\n",
      " [1.00e+00 2.57e-43 2.42e-07 ... 3.23e-34 8.26e-32 3.33e-38]\n",
      " [1.67e-04 4.03e-15 1.44e-02 ... 2.73e-11 1.09e-09 1.93e-13]\n",
      " [6.63e-08 1.29e-34 2.31e-26 ... 9.37e-18 2.90e-18 2.48e-33]]\n",
      "==================gradient================\n",
      "Epoch1\t, acc:0.1257, loss:1021990.5304\n",
      "***********params***********\n",
      "--------Output------------\n",
      "X0 \n",
      " [[-9.00e-04 -6.16e-03 -3.09e-02 ... -2.68e+00 -8.04e-01 -7.32e-02]\n",
      " [-9.00e-04 -6.16e-03 -3.09e-02 ... -2.68e+00 -8.04e-01 -7.32e-02]\n",
      " [-9.00e-04 -6.16e-03 -3.09e-02 ... -2.68e+00 -8.04e-01 -7.32e-02]\n",
      " ...\n",
      " [-9.00e-04 -6.16e-03 -3.09e-02 ... -2.68e+00 -8.04e-01 -7.32e-02]\n",
      " [-9.00e-04 -6.16e-03 -3.09e-02 ... -2.68e+00 -8.04e-01 -7.32e-02]\n",
      " [-9.00e-04 -6.16e-03 -3.09e-02 ... -2.68e+00 -8.04e-01 -7.32e-02]]\n",
      "A0 \n",
      " [[-9.00e-04 -6.16e-03 -3.09e-02 ... -2.68e+00 -8.04e-01 -7.32e-02]\n",
      " [-9.00e-04 -6.16e-03 -3.09e-02 ... -2.68e+00 -8.04e-01 -7.32e-02]\n",
      " [-9.00e-04 -6.16e-03 -3.09e-02 ... -2.68e+00 -8.04e-01 -7.32e-02]\n",
      " ...\n",
      " [-9.00e-04 -6.16e-03 -3.09e-02 ... -2.68e+00 -8.04e-01 -7.32e-02]\n",
      " [-9.00e-04 -6.16e-03 -3.09e-02 ... -2.68e+00 -8.04e-01 -7.32e-02]\n",
      " [-9.00e-04 -6.16e-03 -3.09e-02 ... -2.68e+00 -8.04e-01 -7.32e-02]]\n",
      "X1 \n",
      " [[ 1.57e+09  8.95e+07  1.91e+09 ...  6.73e+09  1.07e+09  3.70e+08]\n",
      " [ 1.09e+09  2.60e+09  3.31e+09 ...  3.06e+09 -4.69e+09 -1.65e+09]\n",
      " [-2.63e+09 -2.19e+09 -3.32e+09 ... -7.13e+09  2.09e+09  8.01e+08]\n",
      " ...\n",
      " [-1.85e+09 -3.70e+09 -4.98e+09 ... -6.14e+09  4.97e+09  1.66e+09]\n",
      " [-1.51e+09 -5.33e+08 -9.61e+08 ... -4.86e+09 -4.61e+08 -4.69e+07]\n",
      " [-8.46e+08 -3.23e+09 -3.56e+09 ... -2.81e+09  4.77e+09  1.58e+09]]\n",
      "A1 \n",
      " [[1.57e+09 8.95e+07 1.91e+09 ... 6.73e+09 1.07e+09 3.70e+08]\n",
      " [1.09e+09 2.60e+09 3.31e+09 ... 3.06e+09 0.00e+00 0.00e+00]\n",
      " [0.00e+00 0.00e+00 0.00e+00 ... 0.00e+00 2.09e+09 8.01e+08]\n",
      " ...\n",
      " [0.00e+00 0.00e+00 0.00e+00 ... 0.00e+00 4.97e+09 1.66e+09]\n",
      " [0.00e+00 0.00e+00 0.00e+00 ... 0.00e+00 0.00e+00 0.00e+00]\n",
      " [0.00e+00 0.00e+00 0.00e+00 ... 0.00e+00 4.77e+09 1.58e+09]]\n",
      "X2 \n",
      " [[ 2.48e+13  9.29e+14  2.93e+14 ... -2.10e+15 -5.03e+15 -5.05e+13]\n",
      " [ 2.33e+13  7.33e+14  3.61e+14 ... -1.58e+15 -6.53e+15 -7.62e+13]\n",
      " [ 9.96e+11 -5.89e+13  8.26e+12 ... -1.48e+14 -1.97e+14 -1.33e+14]\n",
      " ...\n",
      " [ 2.20e+12 -1.24e+14  2.23e+13 ... -3.32e+14 -4.90e+14 -3.10e+14]\n",
      " [ 7.90e+01  8.43e+02  2.71e+02 ... -3.49e+03 -7.75e+03 -3.92e+02]\n",
      " [ 2.11e+12 -1.21e+14  1.49e+13 ... -3.17e+14 -3.94e+14 -2.87e+14]]\n",
      "A2 \n",
      " [[2.48e+13 9.29e+14 2.93e+14 ... 0.00e+00 0.00e+00 0.00e+00]\n",
      " [2.33e+13 7.33e+14 3.61e+14 ... 0.00e+00 0.00e+00 0.00e+00]\n",
      " [9.96e+11 0.00e+00 8.26e+12 ... 0.00e+00 0.00e+00 0.00e+00]\n",
      " ...\n",
      " [2.20e+12 0.00e+00 2.23e+13 ... 0.00e+00 0.00e+00 0.00e+00]\n",
      " [7.90e+01 8.43e+02 2.71e+02 ... 0.00e+00 0.00e+00 0.00e+00]\n",
      " [2.11e+12 0.00e+00 1.49e+13 ... 0.00e+00 0.00e+00 0.00e+00]]\n",
      "X3 \n",
      " [[-3.66e+19  2.30e+19 -4.21e+19 ...  3.09e+19 -1.92e+19  4.00e+19]\n",
      " [-3.55e+19  2.26e+19 -3.62e+19 ...  2.74e+19 -1.28e+19  3.43e+19]\n",
      " [-4.24e+17  2.79e+17 -1.96e+17 ...  1.95e+17  1.44e+17  1.79e+17]\n",
      " ...\n",
      " [-1.15e+18  7.55e+17 -5.29e+17 ...  5.26e+17  3.90e+17  4.83e+17]\n",
      " [-3.34e+07  2.11e+07 -3.82e+07 ...  2.81e+07 -1.73e+07  3.64e+07]\n",
      " [-7.67e+17  5.05e+17 -3.54e+17 ...  3.52e+17  2.61e+17  3.23e+17]]\n",
      "A3 \n",
      " [[0. 0. 0. ... 0. 0. 1.]\n",
      " [0. 0. 0. ... 0. 0. 1.]\n",
      " [0. 1. 0. ... 0. 0. 0.]\n",
      " ...\n",
      " [0. 1. 0. ... 0. 0. 0.]\n",
      " [0. 0. 0. ... 0. 0. 1.]\n",
      " [0. 1. 0. ... 0. 0. 0.]]\n",
      "==================gradient================\n",
      "Epoch2\t, acc:0.1144, loss:inf\n",
      "***********params***********\n",
      "--------Output------------\n",
      "X0 \n",
      " [[-9.00e-04 -6.16e-03 -3.09e-02 ... -2.68e+00 -8.04e-01 -7.32e-02]\n",
      " [-9.00e-04 -6.16e-03 -3.09e-02 ... -2.68e+00 -8.04e-01 -7.32e-02]\n",
      " [-9.00e-04 -6.16e-03 -3.09e-02 ... -2.68e+00 -8.04e-01 -7.32e-02]\n",
      " ...\n",
      " [-9.00e-04 -6.16e-03 -3.09e-02 ... -2.68e+00 -8.04e-01 -7.32e-02]\n",
      " [-9.00e-04 -6.16e-03 -3.09e-02 ... -2.68e+00 -8.04e-01 -7.32e-02]\n",
      " [-9.00e-04 -6.16e-03 -3.09e-02 ... -2.68e+00 -8.04e-01 -7.32e-02]]\n",
      "A0 \n",
      " [[-9.00e-04 -6.16e-03 -3.09e-02 ... -2.68e+00 -8.04e-01 -7.32e-02]\n",
      " [-9.00e-04 -6.16e-03 -3.09e-02 ... -2.68e+00 -8.04e-01 -7.32e-02]\n",
      " [-9.00e-04 -6.16e-03 -3.09e-02 ... -2.68e+00 -8.04e-01 -7.32e-02]\n",
      " ...\n",
      " [-9.00e-04 -6.16e-03 -3.09e-02 ... -2.68e+00 -8.04e-01 -7.32e-02]\n",
      " [-9.00e-04 -6.16e-03 -3.09e-02 ... -2.68e+00 -8.04e-01 -7.32e-02]\n",
      " [-9.00e-04 -6.16e-03 -3.09e-02 ... -2.68e+00 -8.04e-01 -7.32e-02]]\n",
      "X1 \n",
      " [[-1.18e+38  1.04e+38 -1.35e+38 ... -2.03e+38  4.19e+36  5.38e+37]\n",
      " [-1.80e+38  2.68e+38 -2.60e+38 ... -3.10e+38 -1.23e+36 -1.68e+37]\n",
      " [ 2.19e+38 -2.72e+38  2.84e+38 ...  3.76e+38 -1.73e+36 -2.02e+37]\n",
      " ...\n",
      " [ 2.86e+38 -3.89e+38  3.92e+38 ...  4.91e+38 -3.52e+35 -3.13e+36]\n",
      " [ 9.51e+37 -9.59e+37  1.10e+38 ...  1.63e+38 -2.00e+36 -2.47e+37]\n",
      " [ 2.11e+38 -3.07e+38  2.99e+38 ...  3.62e+38  1.20e+36  1.64e+37]]\n",
      "A1 \n",
      " [[0.00e+00 1.04e+38 0.00e+00 ... 0.00e+00 4.19e+36 5.38e+37]\n",
      " [0.00e+00 2.68e+38 0.00e+00 ... 0.00e+00 0.00e+00 0.00e+00]\n",
      " [2.19e+38 0.00e+00 2.84e+38 ... 3.76e+38 0.00e+00 0.00e+00]\n",
      " ...\n",
      " [2.86e+38 0.00e+00 3.92e+38 ... 4.91e+38 0.00e+00 0.00e+00]\n",
      " [9.51e+37 0.00e+00 1.10e+38 ... 1.63e+38 0.00e+00 0.00e+00]\n",
      " [2.11e+38 0.00e+00 2.99e+38 ... 3.62e+38 1.20e+36 1.64e+37]]\n",
      "X2 \n",
      " [[-7.65e+72 -9.13e+74 -5.45e+74 ... -1.40e+43 -7.18e+42  8.96e+66]\n",
      " [-1.84e+73 -2.20e+75 -1.31e+75 ... -2.09e+43 -1.18e+43  2.30e+67]\n",
      " [-1.24e+74 -1.49e+76 -8.78e+75 ... -1.85e+44 -6.95e+44  1.64e+69]\n",
      " ...\n",
      " [-1.68e+74 -2.01e+76 -1.19e+76 ... -2.46e+44 -9.52e+44  2.23e+69]\n",
      " [-5.03e+73 -6.03e+75 -3.56e+75 ... -7.69e+43 -2.74e+44  6.62e+68]\n",
      " [-1.26e+74 -1.51e+76 -8.94e+75 ... -1.85e+44 -7.25e+44  1.68e+69]]\n",
      "A2 \n",
      " [[0.00e+00 0.00e+00 0.00e+00 ... 0.00e+00 0.00e+00 8.96e+66]\n",
      " [0.00e+00 0.00e+00 0.00e+00 ... 0.00e+00 0.00e+00 2.30e+67]\n",
      " [0.00e+00 0.00e+00 0.00e+00 ... 0.00e+00 0.00e+00 1.64e+69]\n",
      " ...\n",
      " [0.00e+00 0.00e+00 0.00e+00 ... 0.00e+00 0.00e+00 2.23e+69]\n",
      " [0.00e+00 0.00e+00 0.00e+00 ... 0.00e+00 0.00e+00 6.62e+68]\n",
      " [0.00e+00 0.00e+00 0.00e+00 ... 0.00e+00 0.00e+00 1.68e+69]]\n",
      "X3 \n",
      " [[ 1.06e+95 -6.69e+94  1.14e+95 ... -8.48e+94  4.55e+94 -1.08e+95]\n",
      " [ 2.72e+95 -1.72e+95  2.92e+95 ... -2.18e+95  1.17e+95 -2.77e+95]\n",
      " [ 1.94e+97 -1.23e+97  2.08e+97 ... -1.56e+97  8.36e+96 -1.98e+97]\n",
      " ...\n",
      " [ 2.62e+97 -1.66e+97  2.82e+97 ... -2.11e+97  1.13e+97 -2.68e+97]\n",
      " [ 7.81e+96 -4.94e+96  8.40e+96 ... -6.27e+96  3.37e+96 -7.97e+96]\n",
      " [ 1.98e+97 -1.26e+97  2.13e+97 ... -1.59e+97  8.55e+96 -2.02e+97]]\n",
      "A3 \n",
      " [[0. 0. 0. ... 0. 0. 0.]\n",
      " [0. 0. 0. ... 0. 0. 0.]\n",
      " [0. 0. 0. ... 0. 0. 0.]\n",
      " ...\n",
      " [0. 0. 0. ... 0. 0. 0.]\n",
      " [0. 0. 0. ... 0. 0. 0.]\n",
      " [0. 0. 0. ... 0. 0. 0.]]\n"
     ]
    },
    {
     "name": "stderr",
     "output_type": "stream",
     "text": [
      "/home/kaiwenjon/Documents/Spring2023/Deep Learning for CV/Assignment1/assignment1/assignment1/models/neural_net.py:195: RuntimeWarning: divide by zero encountered in log\n",
      "  eps: float = 1e-8,\n"
     ]
    },
    {
     "name": "stdout",
     "output_type": "stream",
     "text": [
      "==================gradient================\n",
      "Epoch3\t, acc:0.0996, loss:inf\n",
      "***********params***********\n",
      "--------Output------------\n",
      "X0 \n",
      " [[-9.00e-04 -6.16e-03 -3.09e-02 ... -2.68e+00 -8.04e-01 -7.32e-02]\n",
      " [-9.00e-04 -6.16e-03 -3.09e-02 ... -2.68e+00 -8.04e-01 -7.32e-02]\n",
      " [-9.00e-04 -6.16e-03 -3.09e-02 ... -2.68e+00 -8.04e-01 -7.32e-02]\n",
      " ...\n",
      " [-9.00e-04 -6.16e-03 -3.09e-02 ... -2.68e+00 -8.04e-01 -7.32e-02]\n",
      " [-9.00e-04 -6.16e-03 -3.09e-02 ... -2.68e+00 -8.04e-01 -7.32e-02]\n",
      " [-9.00e-04 -6.16e-03 -3.09e-02 ... -2.68e+00 -8.04e-01 -7.32e-02]]\n",
      "A0 \n",
      " [[-9.00e-04 -6.16e-03 -3.09e-02 ... -2.68e+00 -8.04e-01 -7.32e-02]\n",
      " [-9.00e-04 -6.16e-03 -3.09e-02 ... -2.68e+00 -8.04e-01 -7.32e-02]\n",
      " [-9.00e-04 -6.16e-03 -3.09e-02 ... -2.68e+00 -8.04e-01 -7.32e-02]\n",
      " ...\n",
      " [-9.00e-04 -6.16e-03 -3.09e-02 ... -2.68e+00 -8.04e-01 -7.32e-02]\n",
      " [-9.00e-04 -6.16e-03 -3.09e-02 ... -2.68e+00 -8.04e-01 -7.32e-02]\n",
      " [-9.00e-04 -6.16e-03 -3.09e-02 ... -2.68e+00 -8.04e-01 -7.32e-02]]\n",
      "X1 \n",
      " [[-3.76e+137 -1.23e+161  1.75e+164 ...  3.37e+164  3.93e+138  3.51e+138]\n",
      " [-1.13e+138 -8.32e+161  5.30e+164 ...  1.01e+165 -1.49e+139 -1.53e+139]\n",
      " [ 8.56e+137  6.63e+161 -4.00e+164 ... -7.66e+164  4.20e+138  4.72e+138]\n",
      " ...\n",
      " [ 1.53e+138  1.09e+162 -7.17e+164 ... -1.37e+165  1.69e+139  1.76e+139]\n",
      " [ 1.59e+137  1.46e+161 -7.41e+163 ... -1.43e+164 -3.79e+138 -3.60e+138]\n",
      " [ 1.21e+138  9.18e+161 -5.67e+164 ... -1.08e+165  1.68e+139  1.72e+139]]\n",
      "A1 \n",
      " [[0.00e+000 0.00e+000 1.75e+164 ... 3.37e+164 3.93e+138 3.51e+138]\n",
      " [0.00e+000 0.00e+000 5.30e+164 ... 1.01e+165 0.00e+000 0.00e+000]\n",
      " [8.56e+137 6.63e+161 0.00e+000 ... 0.00e+000 4.20e+138 4.72e+138]\n",
      " ...\n",
      " [1.53e+138 1.09e+162 0.00e+000 ... 0.00e+000 1.69e+139 1.76e+139]\n",
      " [1.59e+137 1.46e+161 0.00e+000 ... 0.00e+000 0.00e+000 0.00e+000]\n",
      " [1.21e+138 9.18e+161 0.00e+000 ... 0.00e+000 1.68e+139 1.72e+139]]\n",
      "X2 \n",
      " [[-8.12e+199 -9.74e+201 -5.74e+201 ... -1.03e+170 -3.95e+170       -inf]\n",
      " [-2.45e+200 -2.94e+202 -1.73e+202 ... -3.09e+170 -1.19e+171       -inf]\n",
      " [-4.34e+196 -5.19e+198 -3.10e+198 ... -4.58e+166 -9.79e+165       -inf]\n",
      " ...\n",
      " [-7.15e+196 -8.54e+198 -5.10e+198 ... -7.54e+166 -1.61e+166       -inf]\n",
      " [-9.56e+195 -1.14e+198 -6.82e+197 ... -1.01e+166 -2.15e+165       -inf]\n",
      " [-6.02e+196 -7.19e+198 -4.29e+198 ... -6.35e+166 -1.36e+166       -inf]]\n",
      "A2 \n",
      " [[0. 0. 0. ... 0. 0. 0.]\n",
      " [0. 0. 0. ... 0. 0. 0.]\n",
      " [0. 0. 0. ... 0. 0. 0.]\n",
      " ...\n",
      " [0. 0. 0. ... 0. 0. 0.]\n",
      " [0. 0. 0. ... 0. 0. 0.]\n",
      " [0. 0. 0. ... 0. 0. 0.]]\n",
      "X3 \n",
      " [[-3.93e+99  2.49e+99 -4.22e+99 ...  3.15e+99 -1.69e+99  4.01e+99]\n",
      " [-3.93e+99  2.49e+99 -4.22e+99 ...  3.15e+99 -1.69e+99  4.01e+99]\n",
      " [-3.93e+99  2.49e+99 -4.22e+99 ...  3.15e+99 -1.69e+99  4.01e+99]\n",
      " ...\n",
      " [-3.93e+99  2.49e+99 -4.22e+99 ...  3.15e+99 -1.69e+99  4.01e+99]\n",
      " [-3.93e+99  2.49e+99 -4.22e+99 ...  3.15e+99 -1.69e+99  4.01e+99]\n",
      " [-3.93e+99  2.49e+99 -4.22e+99 ...  3.15e+99 -1.69e+99  4.01e+99]]\n",
      "A3 \n",
      " [[0. 0. 0. ... 0. 0. 1.]\n",
      " [0. 0. 0. ... 0. 0. 1.]\n",
      " [0. 0. 0. ... 0. 0. 1.]\n",
      " ...\n",
      " [0. 0. 0. ... 0. 0. 1.]\n",
      " [0. 0. 0. ... 0. 0. 1.]\n",
      " [0. 0. 0. ... 0. 0. 1.]]\n",
      "==================gradient================\n",
      "Epoch4\t, acc:0.0996, loss:inf\n",
      "***********params***********\n",
      "--------Output------------\n",
      "X0 \n",
      " [[-9.00e-04 -6.16e-03 -3.09e-02 ... -2.68e+00 -8.04e-01 -7.32e-02]\n",
      " [-9.00e-04 -6.16e-03 -3.09e-02 ... -2.68e+00 -8.04e-01 -7.32e-02]\n",
      " [-9.00e-04 -6.16e-03 -3.09e-02 ... -2.68e+00 -8.04e-01 -7.32e-02]\n",
      " ...\n",
      " [-9.00e-04 -6.16e-03 -3.09e-02 ... -2.68e+00 -8.04e-01 -7.32e-02]\n",
      " [-9.00e-04 -6.16e-03 -3.09e-02 ... -2.68e+00 -8.04e-01 -7.32e-02]\n",
      " [-9.00e-04 -6.16e-03 -3.09e-02 ... -2.68e+00 -8.04e-01 -7.32e-02]]\n",
      "A0 \n",
      " [[-9.00e-04 -6.16e-03 -3.09e-02 ... -2.68e+00 -8.04e-01 -7.32e-02]\n",
      " [-9.00e-04 -6.16e-03 -3.09e-02 ... -2.68e+00 -8.04e-01 -7.32e-02]\n",
      " [-9.00e-04 -6.16e-03 -3.09e-02 ... -2.68e+00 -8.04e-01 -7.32e-02]\n",
      " ...\n",
      " [-9.00e-04 -6.16e-03 -3.09e-02 ... -2.68e+00 -8.04e-01 -7.32e-02]\n",
      " [-9.00e-04 -6.16e-03 -3.09e-02 ... -2.68e+00 -8.04e-01 -7.32e-02]\n",
      " [-9.00e-04 -6.16e-03 -3.09e-02 ... -2.68e+00 -8.04e-01 -7.32e-02]]\n",
      "X1 \n",
      " [[-3.76e+137 -1.23e+161  1.75e+164 ...  3.37e+164  3.93e+138  3.51e+138]\n",
      " [-1.13e+138 -8.32e+161  5.30e+164 ...  1.01e+165 -1.49e+139 -1.53e+139]\n",
      " [ 8.56e+137  6.63e+161 -4.00e+164 ... -7.66e+164  4.20e+138  4.72e+138]\n",
      " ...\n",
      " [ 1.53e+138  1.09e+162 -7.17e+164 ... -1.37e+165  1.69e+139  1.76e+139]\n",
      " [ 1.59e+137  1.46e+161 -7.41e+163 ... -1.43e+164 -3.79e+138 -3.60e+138]\n",
      " [ 1.21e+138  9.18e+161 -5.67e+164 ... -1.08e+165  1.68e+139  1.72e+139]]\n",
      "A1 \n",
      " [[0.00e+000 0.00e+000 1.75e+164 ... 3.37e+164 3.93e+138 3.51e+138]\n",
      " [0.00e+000 0.00e+000 5.30e+164 ... 1.01e+165 0.00e+000 0.00e+000]\n",
      " [8.56e+137 6.63e+161 0.00e+000 ... 0.00e+000 4.20e+138 4.72e+138]\n",
      " ...\n",
      " [1.53e+138 1.09e+162 0.00e+000 ... 0.00e+000 1.69e+139 1.76e+139]\n",
      " [1.59e+137 1.46e+161 0.00e+000 ... 0.00e+000 0.00e+000 0.00e+000]\n",
      " [1.21e+138 9.18e+161 0.00e+000 ... 0.00e+000 1.68e+139 1.72e+139]]\n",
      "X2 \n",
      " [[-8.12e+199 -9.74e+201 -5.74e+201 ... -1.03e+170 -3.95e+170       -inf]\n",
      " [-2.45e+200 -2.94e+202 -1.73e+202 ... -3.09e+170 -1.19e+171       -inf]\n",
      " [-4.34e+196 -5.19e+198 -3.10e+198 ... -4.58e+166 -9.79e+165       -inf]\n",
      " ...\n",
      " [-7.15e+196 -8.54e+198 -5.10e+198 ... -7.54e+166 -1.61e+166       -inf]\n",
      " [-9.56e+195 -1.14e+198 -6.82e+197 ... -1.01e+166 -2.15e+165       -inf]\n",
      " [-6.02e+196 -7.19e+198 -4.29e+198 ... -6.35e+166 -1.36e+166       -inf]]\n",
      "A2 \n",
      " [[0. 0. 0. ... 0. 0. 0.]\n",
      " [0. 0. 0. ... 0. 0. 0.]\n",
      " [0. 0. 0. ... 0. 0. 0.]\n",
      " ...\n",
      " [0. 0. 0. ... 0. 0. 0.]\n",
      " [0. 0. 0. ... 0. 0. 0.]\n",
      " [0. 0. 0. ... 0. 0. 0.]]\n",
      "X3 \n",
      " [[ 1.96e+102 -1.24e+102  2.11e+102 ... -1.57e+102  8.45e+101 -2.00e+102]\n",
      " [ 1.96e+102 -1.24e+102  2.11e+102 ... -1.57e+102  8.45e+101 -2.00e+102]\n",
      " [ 1.96e+102 -1.24e+102  2.11e+102 ... -1.57e+102  8.45e+101 -2.00e+102]\n",
      " ...\n",
      " [ 1.96e+102 -1.24e+102  2.11e+102 ... -1.57e+102  8.45e+101 -2.00e+102]\n",
      " [ 1.96e+102 -1.24e+102  2.11e+102 ... -1.57e+102  8.45e+101 -2.00e+102]\n",
      " [ 1.96e+102 -1.24e+102  2.11e+102 ... -1.57e+102  8.45e+101 -2.00e+102]]\n",
      "A3 \n",
      " [[0. 0. 0. ... 0. 0. 0.]\n",
      " [0. 0. 0. ... 0. 0. 0.]\n",
      " [0. 0. 0. ... 0. 0. 0.]\n",
      " ...\n",
      " [0. 0. 0. ... 0. 0. 0.]\n",
      " [0. 0. 0. ... 0. 0. 0.]\n",
      " [0. 0. 0. ... 0. 0. 0.]]\n",
      "==================gradient================\n",
      "Epoch5\t, acc:0.0996, loss:inf\n",
      "***********params***********\n",
      "--------Output------------\n",
      "X0 \n",
      " [[-9.00e-04 -6.16e-03 -3.09e-02 ... -2.68e+00 -8.04e-01 -7.32e-02]\n",
      " [-9.00e-04 -6.16e-03 -3.09e-02 ... -2.68e+00 -8.04e-01 -7.32e-02]\n",
      " [-9.00e-04 -6.16e-03 -3.09e-02 ... -2.68e+00 -8.04e-01 -7.32e-02]\n",
      " ...\n",
      " [-9.00e-04 -6.16e-03 -3.09e-02 ... -2.68e+00 -8.04e-01 -7.32e-02]\n",
      " [-9.00e-04 -6.16e-03 -3.09e-02 ... -2.68e+00 -8.04e-01 -7.32e-02]\n",
      " [-9.00e-04 -6.16e-03 -3.09e-02 ... -2.68e+00 -8.04e-01 -7.32e-02]]\n",
      "A0 \n",
      " [[-9.00e-04 -6.16e-03 -3.09e-02 ... -2.68e+00 -8.04e-01 -7.32e-02]\n",
      " [-9.00e-04 -6.16e-03 -3.09e-02 ... -2.68e+00 -8.04e-01 -7.32e-02]\n",
      " [-9.00e-04 -6.16e-03 -3.09e-02 ... -2.68e+00 -8.04e-01 -7.32e-02]\n",
      " ...\n",
      " [-9.00e-04 -6.16e-03 -3.09e-02 ... -2.68e+00 -8.04e-01 -7.32e-02]\n",
      " [-9.00e-04 -6.16e-03 -3.09e-02 ... -2.68e+00 -8.04e-01 -7.32e-02]\n",
      " [-9.00e-04 -6.16e-03 -3.09e-02 ... -2.68e+00 -8.04e-01 -7.32e-02]]\n",
      "X1 \n",
      " [[-3.76e+137 -1.23e+161  1.75e+164 ...  3.37e+164  3.93e+138  3.51e+138]\n",
      " [-1.13e+138 -8.32e+161  5.30e+164 ...  1.01e+165 -1.49e+139 -1.53e+139]\n",
      " [ 8.56e+137  6.63e+161 -4.00e+164 ... -7.66e+164  4.20e+138  4.72e+138]\n",
      " ...\n",
      " [ 1.53e+138  1.09e+162 -7.17e+164 ... -1.37e+165  1.69e+139  1.76e+139]\n",
      " [ 1.59e+137  1.46e+161 -7.41e+163 ... -1.43e+164 -3.79e+138 -3.60e+138]\n",
      " [ 1.21e+138  9.18e+161 -5.67e+164 ... -1.08e+165  1.68e+139  1.72e+139]]\n",
      "A1 \n",
      " [[0.00e+000 0.00e+000 1.75e+164 ... 3.37e+164 3.93e+138 3.51e+138]\n",
      " [0.00e+000 0.00e+000 5.30e+164 ... 1.01e+165 0.00e+000 0.00e+000]\n",
      " [8.56e+137 6.63e+161 0.00e+000 ... 0.00e+000 4.20e+138 4.72e+138]\n",
      " ...\n",
      " [1.53e+138 1.09e+162 0.00e+000 ... 0.00e+000 1.69e+139 1.76e+139]\n",
      " [1.59e+137 1.46e+161 0.00e+000 ... 0.00e+000 0.00e+000 0.00e+000]\n",
      " [1.21e+138 9.18e+161 0.00e+000 ... 0.00e+000 1.68e+139 1.72e+139]]\n",
      "X2 \n",
      " [[-8.12e+199 -9.74e+201 -5.74e+201 ... -1.03e+170 -3.95e+170       -inf]\n",
      " [-2.45e+200 -2.94e+202 -1.73e+202 ... -3.09e+170 -1.19e+171       -inf]\n",
      " [-4.34e+196 -5.19e+198 -3.10e+198 ... -4.58e+166 -9.79e+165       -inf]\n",
      " ...\n",
      " [-7.15e+196 -8.54e+198 -5.10e+198 ... -7.54e+166 -1.61e+166       -inf]\n",
      " [-9.56e+195 -1.14e+198 -6.82e+197 ... -1.01e+166 -2.15e+165       -inf]\n",
      " [-6.02e+196 -7.19e+198 -4.29e+198 ... -6.35e+166 -1.36e+166       -inf]]\n",
      "A2 \n",
      " [[0. 0. 0. ... 0. 0. 0.]\n",
      " [0. 0. 0. ... 0. 0. 0.]\n",
      " [0. 0. 0. ... 0. 0. 0.]\n",
      " ...\n",
      " [0. 0. 0. ... 0. 0. 0.]\n",
      " [0. 0. 0. ... 0. 0. 0.]\n",
      " [0. 0. 0. ... 0. 0. 0.]]\n",
      "X3 \n",
      " [[-9.78e+104  6.19e+104 -1.05e+105 ...  7.85e+104 -4.22e+104  9.98e+104]\n",
      " [-9.78e+104  6.19e+104 -1.05e+105 ...  7.85e+104 -4.22e+104  9.98e+104]\n",
      " [-9.78e+104  6.19e+104 -1.05e+105 ...  7.85e+104 -4.22e+104  9.98e+104]\n",
      " ...\n",
      " [-9.78e+104  6.19e+104 -1.05e+105 ...  7.85e+104 -4.22e+104  9.98e+104]\n",
      " [-9.78e+104  6.19e+104 -1.05e+105 ...  7.85e+104 -4.22e+104  9.98e+104]\n",
      " [-9.78e+104  6.19e+104 -1.05e+105 ...  7.85e+104 -4.22e+104  9.98e+104]]\n",
      "A3 \n",
      " [[0. 0. 0. ... 0. 0. 1.]\n",
      " [0. 0. 0. ... 0. 0. 1.]\n",
      " [0. 0. 0. ... 0. 0. 1.]\n",
      " ...\n",
      " [0. 0. 0. ... 0. 0. 1.]\n",
      " [0. 0. 0. ... 0. 0. 1.]\n",
      " [0. 0. 0. ... 0. 0. 1.]]\n"
     ]
    },
    {
     "name": "stdout",
     "output_type": "stream",
     "text": [
      "==================gradient================\n",
      "Epoch6\t, acc:0.0996, loss:inf\n",
      "***********params***********\n",
      "--------Output------------\n",
      "X0 \n",
      " [[-9.00e-04 -6.16e-03 -3.09e-02 ... -2.68e+00 -8.04e-01 -7.32e-02]\n",
      " [-9.00e-04 -6.16e-03 -3.09e-02 ... -2.68e+00 -8.04e-01 -7.32e-02]\n",
      " [-9.00e-04 -6.16e-03 -3.09e-02 ... -2.68e+00 -8.04e-01 -7.32e-02]\n",
      " ...\n",
      " [-9.00e-04 -6.16e-03 -3.09e-02 ... -2.68e+00 -8.04e-01 -7.32e-02]\n",
      " [-9.00e-04 -6.16e-03 -3.09e-02 ... -2.68e+00 -8.04e-01 -7.32e-02]\n",
      " [-9.00e-04 -6.16e-03 -3.09e-02 ... -2.68e+00 -8.04e-01 -7.32e-02]]\n",
      "A0 \n",
      " [[-9.00e-04 -6.16e-03 -3.09e-02 ... -2.68e+00 -8.04e-01 -7.32e-02]\n",
      " [-9.00e-04 -6.16e-03 -3.09e-02 ... -2.68e+00 -8.04e-01 -7.32e-02]\n",
      " [-9.00e-04 -6.16e-03 -3.09e-02 ... -2.68e+00 -8.04e-01 -7.32e-02]\n",
      " ...\n",
      " [-9.00e-04 -6.16e-03 -3.09e-02 ... -2.68e+00 -8.04e-01 -7.32e-02]\n",
      " [-9.00e-04 -6.16e-03 -3.09e-02 ... -2.68e+00 -8.04e-01 -7.32e-02]\n",
      " [-9.00e-04 -6.16e-03 -3.09e-02 ... -2.68e+00 -8.04e-01 -7.32e-02]]\n",
      "X1 \n",
      " [[-3.76e+137 -1.23e+161  1.75e+164 ...  3.37e+164  3.93e+138  3.51e+138]\n",
      " [-1.13e+138 -8.32e+161  5.30e+164 ...  1.01e+165 -1.49e+139 -1.53e+139]\n",
      " [ 8.56e+137  6.63e+161 -4.00e+164 ... -7.66e+164  4.20e+138  4.72e+138]\n",
      " ...\n",
      " [ 1.53e+138  1.09e+162 -7.17e+164 ... -1.37e+165  1.69e+139  1.76e+139]\n",
      " [ 1.59e+137  1.46e+161 -7.41e+163 ... -1.43e+164 -3.79e+138 -3.60e+138]\n",
      " [ 1.21e+138  9.18e+161 -5.67e+164 ... -1.08e+165  1.68e+139  1.72e+139]]\n",
      "A1 \n",
      " [[0.00e+000 0.00e+000 1.75e+164 ... 3.37e+164 3.93e+138 3.51e+138]\n",
      " [0.00e+000 0.00e+000 5.30e+164 ... 1.01e+165 0.00e+000 0.00e+000]\n",
      " [8.56e+137 6.63e+161 0.00e+000 ... 0.00e+000 4.20e+138 4.72e+138]\n",
      " ...\n",
      " [1.53e+138 1.09e+162 0.00e+000 ... 0.00e+000 1.69e+139 1.76e+139]\n",
      " [1.59e+137 1.46e+161 0.00e+000 ... 0.00e+000 0.00e+000 0.00e+000]\n",
      " [1.21e+138 9.18e+161 0.00e+000 ... 0.00e+000 1.68e+139 1.72e+139]]\n",
      "X2 \n",
      " [[-8.12e+199 -9.74e+201 -5.74e+201 ... -1.03e+170 -3.95e+170       -inf]\n",
      " [-2.45e+200 -2.94e+202 -1.73e+202 ... -3.09e+170 -1.19e+171       -inf]\n",
      " [-4.34e+196 -5.19e+198 -3.10e+198 ... -4.58e+166 -9.79e+165       -inf]\n",
      " ...\n",
      " [-7.15e+196 -8.54e+198 -5.10e+198 ... -7.54e+166 -1.61e+166       -inf]\n",
      " [-9.56e+195 -1.14e+198 -6.82e+197 ... -1.01e+166 -2.15e+165       -inf]\n",
      " [-6.02e+196 -7.19e+198 -4.29e+198 ... -6.35e+166 -1.36e+166       -inf]]\n",
      "A2 \n",
      " [[0. 0. 0. ... 0. 0. 0.]\n",
      " [0. 0. 0. ... 0. 0. 0.]\n",
      " [0. 0. 0. ... 0. 0. 0.]\n",
      " ...\n",
      " [0. 0. 0. ... 0. 0. 0.]\n",
      " [0. 0. 0. ... 0. 0. 0.]\n",
      " [0. 0. 0. ... 0. 0. 0.]]\n",
      "X3 \n",
      " [[ 4.88e+107 -3.09e+107  5.25e+107 ... -3.92e+107  2.10e+107 -4.98e+107]\n",
      " [ 4.88e+107 -3.09e+107  5.25e+107 ... -3.92e+107  2.10e+107 -4.98e+107]\n",
      " [ 4.88e+107 -3.09e+107  5.25e+107 ... -3.92e+107  2.10e+107 -4.98e+107]\n",
      " ...\n",
      " [ 4.88e+107 -3.09e+107  5.25e+107 ... -3.92e+107  2.10e+107 -4.98e+107]\n",
      " [ 4.88e+107 -3.09e+107  5.25e+107 ... -3.92e+107  2.10e+107 -4.98e+107]\n",
      " [ 4.88e+107 -3.09e+107  5.25e+107 ... -3.92e+107  2.10e+107 -4.98e+107]]\n",
      "A3 \n",
      " [[0. 0. 0. ... 0. 0. 0.]\n",
      " [0. 0. 0. ... 0. 0. 0.]\n",
      " [0. 0. 0. ... 0. 0. 0.]\n",
      " ...\n",
      " [0. 0. 0. ... 0. 0. 0.]\n",
      " [0. 0. 0. ... 0. 0. 0.]\n",
      " [0. 0. 0. ... 0. 0. 0.]]\n",
      "==================gradient================\n",
      "Epoch7\t, acc:0.0996, loss:inf\n",
      "***********params***********\n",
      "--------Output------------\n",
      "X0 \n",
      " [[-9.00e-04 -6.16e-03 -3.09e-02 ... -2.68e+00 -8.04e-01 -7.32e-02]\n",
      " [-9.00e-04 -6.16e-03 -3.09e-02 ... -2.68e+00 -8.04e-01 -7.32e-02]\n",
      " [-9.00e-04 -6.16e-03 -3.09e-02 ... -2.68e+00 -8.04e-01 -7.32e-02]\n",
      " ...\n",
      " [-9.00e-04 -6.16e-03 -3.09e-02 ... -2.68e+00 -8.04e-01 -7.32e-02]\n",
      " [-9.00e-04 -6.16e-03 -3.09e-02 ... -2.68e+00 -8.04e-01 -7.32e-02]\n",
      " [-9.00e-04 -6.16e-03 -3.09e-02 ... -2.68e+00 -8.04e-01 -7.32e-02]]\n",
      "A0 \n",
      " [[-9.00e-04 -6.16e-03 -3.09e-02 ... -2.68e+00 -8.04e-01 -7.32e-02]\n",
      " [-9.00e-04 -6.16e-03 -3.09e-02 ... -2.68e+00 -8.04e-01 -7.32e-02]\n",
      " [-9.00e-04 -6.16e-03 -3.09e-02 ... -2.68e+00 -8.04e-01 -7.32e-02]\n",
      " ...\n",
      " [-9.00e-04 -6.16e-03 -3.09e-02 ... -2.68e+00 -8.04e-01 -7.32e-02]\n",
      " [-9.00e-04 -6.16e-03 -3.09e-02 ... -2.68e+00 -8.04e-01 -7.32e-02]\n",
      " [-9.00e-04 -6.16e-03 -3.09e-02 ... -2.68e+00 -8.04e-01 -7.32e-02]]\n",
      "X1 \n",
      " [[-3.76e+137 -1.23e+161  1.75e+164 ...  3.37e+164  3.93e+138  3.51e+138]\n",
      " [-1.13e+138 -8.32e+161  5.30e+164 ...  1.01e+165 -1.49e+139 -1.53e+139]\n",
      " [ 8.56e+137  6.63e+161 -4.00e+164 ... -7.66e+164  4.20e+138  4.72e+138]\n",
      " ...\n",
      " [ 1.53e+138  1.09e+162 -7.17e+164 ... -1.37e+165  1.69e+139  1.76e+139]\n",
      " [ 1.59e+137  1.46e+161 -7.41e+163 ... -1.43e+164 -3.79e+138 -3.60e+138]\n",
      " [ 1.21e+138  9.18e+161 -5.67e+164 ... -1.08e+165  1.68e+139  1.72e+139]]\n",
      "A1 \n",
      " [[0.00e+000 0.00e+000 1.75e+164 ... 3.37e+164 3.93e+138 3.51e+138]\n",
      " [0.00e+000 0.00e+000 5.30e+164 ... 1.01e+165 0.00e+000 0.00e+000]\n",
      " [8.56e+137 6.63e+161 0.00e+000 ... 0.00e+000 4.20e+138 4.72e+138]\n",
      " ...\n",
      " [1.53e+138 1.09e+162 0.00e+000 ... 0.00e+000 1.69e+139 1.76e+139]\n",
      " [1.59e+137 1.46e+161 0.00e+000 ... 0.00e+000 0.00e+000 0.00e+000]\n",
      " [1.21e+138 9.18e+161 0.00e+000 ... 0.00e+000 1.68e+139 1.72e+139]]\n",
      "X2 \n",
      " [[-8.12e+199 -9.74e+201 -5.74e+201 ... -1.03e+170 -3.95e+170       -inf]\n",
      " [-2.45e+200 -2.94e+202 -1.73e+202 ... -3.09e+170 -1.19e+171       -inf]\n",
      " [-4.34e+196 -5.19e+198 -3.10e+198 ... -4.58e+166 -9.79e+165       -inf]\n",
      " ...\n",
      " [-7.15e+196 -8.54e+198 -5.10e+198 ... -7.54e+166 -1.61e+166       -inf]\n",
      " [-9.56e+195 -1.14e+198 -6.82e+197 ... -1.01e+166 -2.15e+165       -inf]\n",
      " [-6.02e+196 -7.19e+198 -4.29e+198 ... -6.35e+166 -1.36e+166       -inf]]\n",
      "A2 \n",
      " [[0. 0. 0. ... 0. 0. 0.]\n",
      " [0. 0. 0. ... 0. 0. 0.]\n",
      " [0. 0. 0. ... 0. 0. 0.]\n",
      " ...\n",
      " [0. 0. 0. ... 0. 0. 0.]\n",
      " [0. 0. 0. ... 0. 0. 0.]\n",
      " [0. 0. 0. ... 0. 0. 0.]]\n",
      "X3 \n",
      " [[-2.43e+110  1.54e+110 -2.62e+110 ...  1.95e+110 -1.05e+110  2.48e+110]\n",
      " [-2.43e+110  1.54e+110 -2.62e+110 ...  1.95e+110 -1.05e+110  2.48e+110]\n",
      " [-2.43e+110  1.54e+110 -2.62e+110 ...  1.95e+110 -1.05e+110  2.48e+110]\n",
      " ...\n",
      " [-2.43e+110  1.54e+110 -2.62e+110 ...  1.95e+110 -1.05e+110  2.48e+110]\n",
      " [-2.43e+110  1.54e+110 -2.62e+110 ...  1.95e+110 -1.05e+110  2.48e+110]\n",
      " [-2.43e+110  1.54e+110 -2.62e+110 ...  1.95e+110 -1.05e+110  2.48e+110]]\n",
      "A3 \n",
      " [[0. 0. 0. ... 0. 0. 1.]\n",
      " [0. 0. 0. ... 0. 0. 1.]\n",
      " [0. 0. 0. ... 0. 0. 1.]\n",
      " ...\n",
      " [0. 0. 0. ... 0. 0. 1.]\n",
      " [0. 0. 0. ... 0. 0. 1.]\n",
      " [0. 0. 0. ... 0. 0. 1.]]\n",
      "==================gradient================\n",
      "Epoch8\t, acc:0.0996, loss:inf\n",
      "***********params***********\n",
      "--------Output------------\n",
      "X0 \n",
      " [[-9.00e-04 -6.16e-03 -3.09e-02 ... -2.68e+00 -8.04e-01 -7.32e-02]\n",
      " [-9.00e-04 -6.16e-03 -3.09e-02 ... -2.68e+00 -8.04e-01 -7.32e-02]\n",
      " [-9.00e-04 -6.16e-03 -3.09e-02 ... -2.68e+00 -8.04e-01 -7.32e-02]\n",
      " ...\n",
      " [-9.00e-04 -6.16e-03 -3.09e-02 ... -2.68e+00 -8.04e-01 -7.32e-02]\n",
      " [-9.00e-04 -6.16e-03 -3.09e-02 ... -2.68e+00 -8.04e-01 -7.32e-02]\n",
      " [-9.00e-04 -6.16e-03 -3.09e-02 ... -2.68e+00 -8.04e-01 -7.32e-02]]\n",
      "A0 \n",
      " [[-9.00e-04 -6.16e-03 -3.09e-02 ... -2.68e+00 -8.04e-01 -7.32e-02]\n",
      " [-9.00e-04 -6.16e-03 -3.09e-02 ... -2.68e+00 -8.04e-01 -7.32e-02]\n",
      " [-9.00e-04 -6.16e-03 -3.09e-02 ... -2.68e+00 -8.04e-01 -7.32e-02]\n",
      " ...\n",
      " [-9.00e-04 -6.16e-03 -3.09e-02 ... -2.68e+00 -8.04e-01 -7.32e-02]\n",
      " [-9.00e-04 -6.16e-03 -3.09e-02 ... -2.68e+00 -8.04e-01 -7.32e-02]\n",
      " [-9.00e-04 -6.16e-03 -3.09e-02 ... -2.68e+00 -8.04e-01 -7.32e-02]]\n",
      "X1 \n",
      " [[-3.76e+137 -1.23e+161  1.75e+164 ...  3.37e+164  3.93e+138  3.51e+138]\n",
      " [-1.13e+138 -8.32e+161  5.30e+164 ...  1.01e+165 -1.49e+139 -1.53e+139]\n",
      " [ 8.56e+137  6.63e+161 -4.00e+164 ... -7.66e+164  4.20e+138  4.72e+138]\n",
      " ...\n",
      " [ 1.53e+138  1.09e+162 -7.17e+164 ... -1.37e+165  1.69e+139  1.76e+139]\n",
      " [ 1.59e+137  1.46e+161 -7.41e+163 ... -1.43e+164 -3.79e+138 -3.60e+138]\n",
      " [ 1.21e+138  9.18e+161 -5.67e+164 ... -1.08e+165  1.68e+139  1.72e+139]]\n",
      "A1 \n",
      " [[0.00e+000 0.00e+000 1.75e+164 ... 3.37e+164 3.93e+138 3.51e+138]\n",
      " [0.00e+000 0.00e+000 5.30e+164 ... 1.01e+165 0.00e+000 0.00e+000]\n",
      " [8.56e+137 6.63e+161 0.00e+000 ... 0.00e+000 4.20e+138 4.72e+138]\n",
      " ...\n",
      " [1.53e+138 1.09e+162 0.00e+000 ... 0.00e+000 1.69e+139 1.76e+139]\n",
      " [1.59e+137 1.46e+161 0.00e+000 ... 0.00e+000 0.00e+000 0.00e+000]\n",
      " [1.21e+138 9.18e+161 0.00e+000 ... 0.00e+000 1.68e+139 1.72e+139]]\n",
      "X2 \n",
      " [[-8.12e+199 -9.74e+201 -5.74e+201 ... -1.03e+170 -3.95e+170       -inf]\n",
      " [-2.45e+200 -2.94e+202 -1.73e+202 ... -3.09e+170 -1.19e+171       -inf]\n",
      " [-4.34e+196 -5.19e+198 -3.10e+198 ... -4.58e+166 -9.79e+165       -inf]\n",
      " ...\n",
      " [-7.15e+196 -8.54e+198 -5.10e+198 ... -7.54e+166 -1.61e+166       -inf]\n",
      " [-9.56e+195 -1.14e+198 -6.82e+197 ... -1.01e+166 -2.15e+165       -inf]\n",
      " [-6.02e+196 -7.19e+198 -4.29e+198 ... -6.35e+166 -1.36e+166       -inf]]\n",
      "A2 \n",
      " [[0. 0. 0. ... 0. 0. 0.]\n",
      " [0. 0. 0. ... 0. 0. 0.]\n",
      " [0. 0. 0. ... 0. 0. 0.]\n",
      " ...\n",
      " [0. 0. 0. ... 0. 0. 0.]\n",
      " [0. 0. 0. ... 0. 0. 0.]\n",
      " [0. 0. 0. ... 0. 0. 0.]]\n",
      "X3 \n",
      " [[ 1.21e+113 -7.69e+112  1.31e+113 ... -9.75e+112  5.24e+112 -1.24e+113]\n",
      " [ 1.21e+113 -7.69e+112  1.31e+113 ... -9.75e+112  5.24e+112 -1.24e+113]\n",
      " [ 1.21e+113 -7.69e+112  1.31e+113 ... -9.75e+112  5.24e+112 -1.24e+113]\n",
      " ...\n",
      " [ 1.21e+113 -7.69e+112  1.31e+113 ... -9.75e+112  5.24e+112 -1.24e+113]\n",
      " [ 1.21e+113 -7.69e+112  1.31e+113 ... -9.75e+112  5.24e+112 -1.24e+113]\n",
      " [ 1.21e+113 -7.69e+112  1.31e+113 ... -9.75e+112  5.24e+112 -1.24e+113]]\n",
      "A3 \n",
      " [[0. 0. 0. ... 0. 0. 0.]\n",
      " [0. 0. 0. ... 0. 0. 0.]\n",
      " [0. 0. 0. ... 0. 0. 0.]\n",
      " ...\n",
      " [0. 0. 0. ... 0. 0. 0.]\n",
      " [0. 0. 0. ... 0. 0. 0.]\n",
      " [0. 0. 0. ... 0. 0. 0.]]\n"
     ]
    },
    {
     "name": "stdout",
     "output_type": "stream",
     "text": [
      "==================gradient================\n",
      "Epoch9\t, acc:0.0996, loss:inf\n",
      "***********params***********\n",
      "--------Output------------\n",
      "X0 \n",
      " [[-9.00e-04 -6.16e-03 -3.09e-02 ... -2.68e+00 -8.04e-01 -7.32e-02]\n",
      " [-9.00e-04 -6.16e-03 -3.09e-02 ... -2.68e+00 -8.04e-01 -7.32e-02]\n",
      " [-9.00e-04 -6.16e-03 -3.09e-02 ... -2.68e+00 -8.04e-01 -7.32e-02]\n",
      " ...\n",
      " [-9.00e-04 -6.16e-03 -3.09e-02 ... -2.68e+00 -8.04e-01 -7.32e-02]\n",
      " [-9.00e-04 -6.16e-03 -3.09e-02 ... -2.68e+00 -8.04e-01 -7.32e-02]\n",
      " [-9.00e-04 -6.16e-03 -3.09e-02 ... -2.68e+00 -8.04e-01 -7.32e-02]]\n",
      "A0 \n",
      " [[-9.00e-04 -6.16e-03 -3.09e-02 ... -2.68e+00 -8.04e-01 -7.32e-02]\n",
      " [-9.00e-04 -6.16e-03 -3.09e-02 ... -2.68e+00 -8.04e-01 -7.32e-02]\n",
      " [-9.00e-04 -6.16e-03 -3.09e-02 ... -2.68e+00 -8.04e-01 -7.32e-02]\n",
      " ...\n",
      " [-9.00e-04 -6.16e-03 -3.09e-02 ... -2.68e+00 -8.04e-01 -7.32e-02]\n",
      " [-9.00e-04 -6.16e-03 -3.09e-02 ... -2.68e+00 -8.04e-01 -7.32e-02]\n",
      " [-9.00e-04 -6.16e-03 -3.09e-02 ... -2.68e+00 -8.04e-01 -7.32e-02]]\n",
      "X1 \n",
      " [[-3.76e+137 -1.23e+161  1.75e+164 ...  3.37e+164  3.93e+138  3.51e+138]\n",
      " [-1.13e+138 -8.32e+161  5.30e+164 ...  1.01e+165 -1.49e+139 -1.53e+139]\n",
      " [ 8.56e+137  6.63e+161 -4.00e+164 ... -7.66e+164  4.20e+138  4.72e+138]\n",
      " ...\n",
      " [ 1.53e+138  1.09e+162 -7.17e+164 ... -1.37e+165  1.69e+139  1.76e+139]\n",
      " [ 1.59e+137  1.46e+161 -7.41e+163 ... -1.43e+164 -3.79e+138 -3.60e+138]\n",
      " [ 1.21e+138  9.18e+161 -5.67e+164 ... -1.08e+165  1.68e+139  1.72e+139]]\n",
      "A1 \n",
      " [[0.00e+000 0.00e+000 1.75e+164 ... 3.37e+164 3.93e+138 3.51e+138]\n",
      " [0.00e+000 0.00e+000 5.30e+164 ... 1.01e+165 0.00e+000 0.00e+000]\n",
      " [8.56e+137 6.63e+161 0.00e+000 ... 0.00e+000 4.20e+138 4.72e+138]\n",
      " ...\n",
      " [1.53e+138 1.09e+162 0.00e+000 ... 0.00e+000 1.69e+139 1.76e+139]\n",
      " [1.59e+137 1.46e+161 0.00e+000 ... 0.00e+000 0.00e+000 0.00e+000]\n",
      " [1.21e+138 9.18e+161 0.00e+000 ... 0.00e+000 1.68e+139 1.72e+139]]\n",
      "X2 \n",
      " [[-8.12e+199 -9.74e+201 -5.74e+201 ... -1.03e+170 -3.95e+170       -inf]\n",
      " [-2.45e+200 -2.94e+202 -1.73e+202 ... -3.09e+170 -1.19e+171       -inf]\n",
      " [-4.34e+196 -5.19e+198 -3.10e+198 ... -4.58e+166 -9.79e+165       -inf]\n",
      " ...\n",
      " [-7.15e+196 -8.54e+198 -5.10e+198 ... -7.54e+166 -1.61e+166       -inf]\n",
      " [-9.56e+195 -1.14e+198 -6.82e+197 ... -1.01e+166 -2.15e+165       -inf]\n",
      " [-6.02e+196 -7.19e+198 -4.29e+198 ... -6.35e+166 -1.36e+166       -inf]]\n",
      "A2 \n",
      " [[0. 0. 0. ... 0. 0. 0.]\n",
      " [0. 0. 0. ... 0. 0. 0.]\n",
      " [0. 0. 0. ... 0. 0. 0.]\n",
      " ...\n",
      " [0. 0. 0. ... 0. 0. 0.]\n",
      " [0. 0. 0. ... 0. 0. 0.]\n",
      " [0. 0. 0. ... 0. 0. 0.]]\n",
      "X3 \n",
      " [[-6.06e+115  3.84e+115 -6.52e+115 ...  4.87e+115 -2.61e+115  6.18e+115]\n",
      " [-6.06e+115  3.84e+115 -6.52e+115 ...  4.87e+115 -2.61e+115  6.18e+115]\n",
      " [-6.06e+115  3.84e+115 -6.52e+115 ...  4.87e+115 -2.61e+115  6.18e+115]\n",
      " ...\n",
      " [-6.06e+115  3.84e+115 -6.52e+115 ...  4.87e+115 -2.61e+115  6.18e+115]\n",
      " [-6.06e+115  3.84e+115 -6.52e+115 ...  4.87e+115 -2.61e+115  6.18e+115]\n",
      " [-6.06e+115  3.84e+115 -6.52e+115 ...  4.87e+115 -2.61e+115  6.18e+115]]\n",
      "A3 \n",
      " [[0. 0. 0. ... 0. 0. 1.]\n",
      " [0. 0. 0. ... 0. 0. 1.]\n",
      " [0. 0. 0. ... 0. 0. 1.]\n",
      " ...\n",
      " [0. 0. 0. ... 0. 0. 1.]\n",
      " [0. 0. 0. ... 0. 0. 1.]\n",
      " [0. 0. 0. ... 0. 0. 1.]]\n",
      "==================gradient================\n",
      "Epoch10\t, acc:0.0996, loss:inf\n",
      "***********params***********\n"
     ]
    }
   ],
   "source": [
    "lr = 0.001\n",
    "n_epochs = 1\n",
    "reg_const = 0\n",
    "from models.neural_net import NeuralNetwork\n",
    "\n",
    "num_layers = 3\n",
    "input_size = X_train_fashion.shape[1]\n",
    "hidden_size = 10\n",
    "num_classes = n_class_fashion\n",
    "num_inputs = X_train_fashion.shape[0]\n",
    "np.random.seed(0)\n",
    "hidden_sizes = [hidden_size] * (num_layers - 1)\n",
    "regularization = 0\n",
    "\n",
    "net = NeuralNetwork(input_size, hidden_sizes, num_classes, num_layers)\n",
    "epochs = 10\n",
    "train_loss = np.zeros(epochs)\n",
    "train_accuracy = np.zeros(epochs)\n",
    "learning_rate = 0.01\n",
    "# For each epoch...\n",
    "for epoch in range(epochs):        \n",
    "    # Run the forward pass of the model to get a prediction and compute the accuracy\n",
    "    scores = net.forward(X_train_fashion)\n",
    "    pred = np.argmax(scores, axis=1)\n",
    "    train_accuracy[epoch] += (pred == y_train_fashion).sum()\n",
    "    \n",
    "    # Run the backward pass of the model to compute the loss, and update the weights\n",
    "    train_loss[epoch] += net.backward(y_train_fashion, regularization)\n",
    "    print(f\"Epoch{epoch+1}\\t, acc:{train_accuracy[epoch]/num_inputs:.4f}, loss:{train_loss[epoch]:.4f}\")\n",
    "    net.update(learning_rate)\n",
    "    \n",
    "    \n",
    "# softmax_fashion = Softmax(n_class_fashion, lr, n_epochs, reg_const)\n",
    "# softmax_fashion.train(X_train_fashion, y_train_fashion)"
   ]
  },
  {
   "cell_type": "code",
   "execution_count": 286,
   "metadata": {},
   "outputs": [
    {
     "name": "stdout",
     "output_type": "stream",
     "text": [
      "The training accuracy is given by: 81.448000\n"
     ]
    }
   ],
   "source": [
    "pred_softmax = softmax_fashion.predict(X_train_fashion)\n",
    "print('The training accuracy is given by: %f' % (get_acc(pred_softmax, y_train_fashion)))"
   ]
  },
  {
   "cell_type": "markdown",
   "metadata": {},
   "source": [
    "### Validate Softmax on Fashion-MNIST"
   ]
  },
  {
   "cell_type": "code",
   "execution_count": 287,
   "metadata": {},
   "outputs": [
    {
     "name": "stdout",
     "output_type": "stream",
     "text": [
      "The validation accuracy is given by: 78.760000\n"
     ]
    }
   ],
   "source": [
    "pred_softmax = softmax_fashion.predict(X_val_fashion)\n",
    "print('The validation accuracy is given by: %f' % (get_acc(pred_softmax, y_val_fashion)))"
   ]
  },
  {
   "cell_type": "markdown",
   "metadata": {},
   "source": [
    "### Testing Softmax on Fashion-MNIST"
   ]
  },
  {
   "cell_type": "code",
   "execution_count": 288,
   "metadata": {},
   "outputs": [
    {
     "name": "stdout",
     "output_type": "stream",
     "text": [
      "The testing accuracy is given by: 77.710000\n"
     ]
    }
   ],
   "source": [
    "pred_softmax = softmax_fashion.predict(X_test_fashion)\n",
    "print('The testing accuracy is given by: %f' % (get_acc(pred_softmax, y_test_fashion)))"
   ]
  },
  {
   "cell_type": "markdown",
   "metadata": {},
   "source": [
    "### Softmax_Fashion-MNIST Kaggle Submission\n",
    "\n",
    "Once you are satisfied with your solution and test accuracy output a file to submit your test set predictions to the Kaggle for Assignment 1 Fashion-MNIST. Use the following code to do so:"
   ]
  },
  {
   "cell_type": "code",
   "execution_count": 289,
   "metadata": {},
   "outputs": [],
   "source": [
    "output_submission_csv('kaggle/softmax_submission_fashion.csv', softmax_fashion.predict(X_test_fashion))"
   ]
  },
  {
   "cell_type": "markdown",
   "metadata": {},
   "source": [
    "## Train Softmax on Mushroom"
   ]
  },
  {
   "cell_type": "code",
   "execution_count": 290,
   "metadata": {},
   "outputs": [
    {
     "name": "stdout",
     "output_type": "stream",
     "text": [
      "Epoch1\t, acc:48.9536, loss:0.8236\n",
      "Epoch11\t, acc:82.1912, loss:0.4911\n",
      "Epoch21\t, acc:84.3865, loss:0.4691\n",
      "Epoch31\t, acc:60.0328, loss:0.7129\n",
      "Epoch41\t, acc:84.9610, loss:0.4636\n",
      "Epoch51\t, acc:52.9955, loss:0.7833\n",
      "Epoch61\t, acc:89.0029, loss:0.4233\n",
      "Epoch71\t, acc:92.2856, loss:0.3903\n",
      "Epoch81\t, acc:90.5827, loss:0.4075\n",
      "Epoch91\t, acc:88.5925, loss:0.4273\n",
      "Epoch101\t, acc:91.3623, loss:0.3996\n",
      "Epoch111\t, acc:85.6996, loss:0.4562\n",
      "Epoch121\t, acc:55.5191, loss:0.7581\n",
      "Epoch131\t, acc:85.9664, loss:0.4536\n",
      "Epoch141\t, acc:56.3192, loss:0.7500\n",
      "Epoch151\t, acc:88.5310, loss:0.4280\n",
      "Epoch161\t, acc:93.3114, loss:0.3802\n",
      "Epoch171\t, acc:92.7165, loss:0.3861\n",
      "Epoch181\t, acc:88.6130, loss:0.4271\n",
      "Epoch191\t, acc:92.5318, loss:0.3879\n",
      "Epoch201\t, acc:86.5819, loss:0.4475\n",
      "Epoch211\t, acc:91.4444, loss:0.3988\n",
      "Epoch221\t, acc:90.9110, loss:0.4041\n",
      "Epoch231\t, acc:91.7932, loss:0.3953\n",
      "Epoch241\t, acc:92.5728, loss:0.3874\n",
      "Epoch251\t, acc:91.8547, loss:0.3948\n",
      "Epoch261\t, acc:92.7780, loss:0.3855\n",
      "Epoch271\t, acc:90.6853, loss:0.4064\n",
      "Epoch281\t, acc:85.8022, loss:0.4552\n",
      "Epoch291\t, acc:91.7727, loss:0.3955\n",
      "Epoch301\t, acc:91.4649, loss:0.3987\n",
      "Epoch311\t, acc:91.0956, loss:0.4024\n",
      "Epoch321\t, acc:84.3865, loss:0.4693\n",
      "Epoch331\t, acc:89.1260, loss:0.4217\n",
      "Epoch341\t, acc:92.9627, loss:0.3839\n",
      "Epoch351\t, acc:92.5318, loss:0.3880\n",
      "Epoch361\t, acc:92.5728, loss:0.3877\n",
      "Epoch371\t, acc:92.4908, loss:0.3883\n",
      "Epoch381\t, acc:93.5987, loss:0.3773\n",
      "Epoch391\t, acc:92.1215, loss:0.3920\n",
      "Epoch401\t, acc:91.5265, loss:0.3979\n",
      "Epoch411\t, acc:92.1420, loss:0.3919\n",
      "Epoch421\t, acc:92.0189, loss:0.3931\n",
      "Epoch431\t, acc:88.3668, loss:0.4298\n",
      "Epoch441\t, acc:93.7628, loss:0.3752\n",
      "Epoch451\t, acc:93.2704, loss:0.3804\n",
      "Epoch461\t, acc:86.3151, loss:0.4501\n",
      "Epoch471\t, acc:91.1572, loss:0.4016\n",
      "Epoch481\t, acc:92.7165, loss:0.3861\n",
      "Epoch491\t, acc:91.7522, loss:0.3956\n",
      "Epoch501\t, acc:91.8547, loss:0.3945\n",
      "Epoch511\t, acc:74.8461, loss:0.5649\n",
      "Epoch521\t, acc:58.3709, loss:0.7295\n",
      "Epoch531\t, acc:89.3106, loss:0.4200\n",
      "Epoch541\t, acc:92.3061, loss:0.3902\n",
      "Epoch551\t, acc:88.0386, loss:0.4329\n",
      "Epoch561\t, acc:94.5220, loss:0.3680\n",
      "Epoch571\t, acc:94.4604, loss:0.3687\n",
      "Epoch581\t, acc:80.5088, loss:0.5081\n",
      "Epoch591\t, acc:92.7985, loss:0.3853\n",
      "Epoch601\t, acc:84.9610, loss:0.4636\n",
      "Epoch611\t, acc:93.8039, loss:0.3751\n",
      "Epoch621\t, acc:91.6291, loss:0.3970\n",
      "Epoch631\t, acc:92.1215, loss:0.3920\n",
      "Epoch641\t, acc:93.0242, loss:0.3829\n",
      "Epoch651\t, acc:93.0242, loss:0.3830\n",
      "Epoch661\t, acc:94.2552, loss:0.3708\n",
      "Epoch671\t, acc:95.0964, loss:0.3621\n",
      "Epoch681\t, acc:91.7522, loss:0.3957\n",
      "Epoch691\t, acc:93.4551, loss:0.3788\n",
      "Epoch701\t, acc:92.8601, loss:0.3846\n",
      "Epoch711\t, acc:92.9011, loss:0.3842\n",
      "Epoch721\t, acc:91.8753, loss:0.3945\n",
      "Epoch731\t, acc:94.3168, loss:0.3702\n",
      "Epoch741\t, acc:91.5265, loss:0.3979\n",
      "Epoch751\t, acc:58.8018, loss:0.7253\n",
      "Epoch761\t, acc:96.0197, loss:0.3531\n",
      "Epoch771\t, acc:74.7230, loss:0.5659\n",
      "Epoch781\t, acc:94.8707, loss:0.3644\n",
      "Epoch791\t, acc:91.7522, loss:0.3957\n",
      "Epoch801\t, acc:95.2195, loss:0.3611\n",
      "Epoch811\t, acc:91.9368, loss:0.3940\n",
      "Epoch821\t, acc:95.2606, loss:0.3607\n",
      "Epoch831\t, acc:95.2400, loss:0.3608\n",
      "Epoch841\t, acc:92.7370, loss:0.3858\n",
      "Epoch851\t, acc:91.7522, loss:0.3957\n",
      "Epoch861\t, acc:83.0735, loss:0.4824\n",
      "Epoch871\t, acc:93.0447, loss:0.3828\n",
      "Epoch881\t, acc:93.8244, loss:0.3751\n",
      "Epoch891\t, acc:87.1563, loss:0.4415\n",
      "Epoch901\t, acc:91.7522, loss:0.3957\n",
      "Epoch911\t, acc:85.6176, loss:0.4569\n",
      "Epoch921\t, acc:94.1937, loss:0.3712\n",
      "Epoch931\t, acc:93.8039, loss:0.3751\n",
      "Epoch941\t, acc:95.1990, loss:0.3612\n",
      "Epoch951\t, acc:91.5880, loss:0.3973\n",
      "Epoch961\t, acc:93.6192, loss:0.3770\n",
      "Epoch971\t, acc:93.4140, loss:0.3791\n",
      "Epoch981\t, acc:94.7271, loss:0.3658\n",
      "Epoch991\t, acc:75.6463, loss:0.5567\n"
     ]
    }
   ],
   "source": [
    "lr = 0.05\n",
    "n_epochs = 1000\n",
    "reg_const = 0.0\n",
    "\n",
    "softmax_MR = Softmax(n_class_MR, lr, n_epochs, reg_const)\n",
    "softmax_MR.train(X_train_MR, y_train_MR)"
   ]
  },
  {
   "cell_type": "code",
   "execution_count": 291,
   "metadata": {},
   "outputs": [
    {
     "name": "stdout",
     "output_type": "stream",
     "text": [
      "The training accuracy is given by: 94.686089\n"
     ]
    }
   ],
   "source": [
    "pred_softmax = softmax_MR.predict(X_train_MR)\n",
    "print('The training accuracy is given by: %f' % (get_acc(pred_softmax, y_train_MR)))"
   ]
  },
  {
   "cell_type": "markdown",
   "metadata": {},
   "source": [
    "### Validate Softmax on Mushroom"
   ]
  },
  {
   "cell_type": "code",
   "execution_count": 292,
   "metadata": {},
   "outputs": [
    {
     "name": "stdout",
     "output_type": "stream",
     "text": [
      "The validation accuracy is given by: 94.153846\n"
     ]
    }
   ],
   "source": [
    "pred_softmax = softmax_MR.predict(X_val_MR)\n",
    "print('The validation accuracy is given by: %f' % (get_acc(pred_softmax, y_val_MR)))"
   ]
  },
  {
   "cell_type": "markdown",
   "metadata": {},
   "source": [
    "### Testing Softmax on Mushroom"
   ]
  },
  {
   "cell_type": "code",
   "execution_count": 293,
   "metadata": {},
   "outputs": [
    {
     "name": "stdout",
     "output_type": "stream",
     "text": [
      "The testing accuracy is given by: 94.338462\n"
     ]
    }
   ],
   "source": [
    "pred_softmax = softmax_MR.predict(X_test_MR)\n",
    "print('The testing accuracy is given by: %f' % (get_acc(pred_softmax, y_test_MR)))"
   ]
  },
  {
   "cell_type": "markdown",
   "metadata": {},
   "source": [
    "# Logistic Classifier"
   ]
  },
  {
   "cell_type": "markdown",
   "metadata": {},
   "source": [
    "The Logistic Classifier has 2 hyperparameters that you can experiment with:\n",
    "- **Learning rate** - similar to as defined above in Perceptron, this parameter scales by how much the weights are changed according to the calculated gradient update. \n",
    "- **Number of Epochs** - As described for perceptron.\n",
    "- **Threshold** - The decision boundary of the classifier.\n"
   ]
  },
  {
   "cell_type": "markdown",
   "metadata": {},
   "source": [
    "You will implement the Logistic Classifier in the **models/logistic.py**\n",
    "\n",
    "The following code: \n",
    "- Creates an instance of the Logistic classifier class \n",
    "- The train function of the Logistic class is trained on the training data\n",
    "- We use the predict function to find the training accuracy as well as the testing accuracy"
   ]
  },
  {
   "cell_type": "markdown",
   "metadata": {},
   "source": [
    "### Training Logistic Classifer"
   ]
  },
  {
   "cell_type": "code",
   "execution_count": 122,
   "metadata": {
    "scrolled": true
   },
   "outputs": [
    {
     "name": "stdout",
     "output_type": "stream",
     "text": [
      "Epoch1, acc:88.79770209273697\n",
      "Epoch11, acc:93.37299958965943\n",
      "Epoch21, acc:94.00902749281904\n",
      "Epoch31, acc:94.11161263848994\n",
      "Epoch41, acc:94.27574887156341\n",
      "Epoch51, acc:94.62453836684448\n",
      "Epoch61, acc:94.82970865818629\n",
      "Epoch71, acc:94.99384489125976\n",
      "Epoch81, acc:95.19901518260156\n",
      "Epoch91, acc:95.2605662700041\n",
      "Epoch101, acc:95.40418547394337\n",
      "Epoch111, acc:95.56832170701682\n",
      "Epoch121, acc:95.60935576528519\n",
      "Epoch131, acc:95.60935576528519\n",
      "Epoch141, acc:95.71194091095609\n",
      "Epoch151, acc:95.75297496922445\n",
      "Epoch161, acc:95.79400902749282\n",
      "Epoch171, acc:95.814526056627\n",
      "Epoch181, acc:95.87607714402955\n",
      "Epoch191, acc:95.87607714402955\n",
      "Epoch201, acc:95.89659417316373\n",
      "Epoch211, acc:95.89659417316373\n",
      "Epoch221, acc:95.93762823143209\n",
      "Epoch231, acc:95.91711120229792\n",
      "Epoch241, acc:95.91711120229792\n",
      "Epoch251, acc:95.91711120229792\n",
      "Epoch261, acc:95.95814526056627\n",
      "Epoch271, acc:95.95814526056627\n",
      "Epoch281, acc:95.93762823143209\n",
      "Epoch291, acc:95.99917931883463\n",
      "Epoch301, acc:96.040213377103\n",
      "Epoch311, acc:96.01969634796882\n",
      "Epoch321, acc:96.01969634796882\n",
      "Epoch331, acc:96.01969634796882\n",
      "Epoch341, acc:96.01969634796882\n",
      "Epoch351, acc:96.01969634796882\n",
      "Epoch361, acc:96.01969634796882\n",
      "Epoch371, acc:96.040213377103\n",
      "Epoch381, acc:96.040213377103\n",
      "Epoch391, acc:96.06073040623717\n",
      "Epoch401, acc:96.08124743537135\n",
      "Epoch411, acc:96.08124743537135\n",
      "Epoch421, acc:96.12228149363972\n",
      "Epoch431, acc:96.1427985227739\n",
      "Epoch441, acc:96.1427985227739\n",
      "Epoch451, acc:96.1427985227739\n",
      "Epoch461, acc:96.16331555190808\n",
      "Epoch471, acc:96.1427985227739\n",
      "Epoch481, acc:96.16331555190808\n",
      "Epoch491, acc:96.16331555190808\n",
      "Epoch501, acc:96.16331555190808\n",
      "Epoch511, acc:96.18383258104227\n",
      "Epoch521, acc:96.18383258104227\n",
      "Epoch531, acc:96.18383258104227\n",
      "Epoch541, acc:96.16331555190808\n",
      "Epoch551, acc:96.16331555190808\n",
      "Epoch561, acc:96.16331555190808\n",
      "Epoch571, acc:96.16331555190808\n",
      "Epoch581, acc:96.16331555190808\n",
      "Epoch591, acc:96.16331555190808\n",
      "Epoch601, acc:96.16331555190808\n",
      "Epoch611, acc:96.16331555190808\n",
      "Epoch621, acc:96.16331555190808\n",
      "Epoch631, acc:96.16331555190808\n",
      "Epoch641, acc:96.16331555190808\n",
      "Epoch651, acc:96.16331555190808\n",
      "Epoch661, acc:96.16331555190808\n",
      "Epoch671, acc:96.16331555190808\n",
      "Epoch681, acc:96.18383258104227\n",
      "Epoch691, acc:96.18383258104227\n",
      "Epoch701, acc:96.18383258104227\n",
      "Epoch711, acc:96.18383258104227\n",
      "Epoch721, acc:96.20434961017644\n",
      "Epoch731, acc:96.20434961017644\n",
      "Epoch741, acc:96.20434961017644\n",
      "Epoch751, acc:96.18383258104227\n",
      "Epoch761, acc:96.18383258104227\n",
      "Epoch771, acc:96.18383258104227\n",
      "Epoch781, acc:96.20434961017644\n",
      "Epoch791, acc:96.22486663931062\n",
      "Epoch801, acc:96.22486663931062\n",
      "Epoch811, acc:96.22486663931062\n",
      "Epoch821, acc:96.20434961017644\n",
      "Epoch831, acc:96.22486663931062\n",
      "Epoch841, acc:96.22486663931062\n",
      "Epoch851, acc:96.22486663931062\n",
      "Epoch861, acc:96.22486663931062\n",
      "Epoch871, acc:96.22486663931062\n",
      "Epoch881, acc:96.2453836684448\n",
      "Epoch891, acc:96.22486663931062\n",
      "Epoch901, acc:96.22486663931062\n",
      "Epoch911, acc:96.22486663931062\n",
      "Epoch921, acc:96.20434961017644\n",
      "Epoch931, acc:96.20434961017644\n",
      "Epoch941, acc:96.20434961017644\n",
      "Epoch951, acc:96.18383258104227\n",
      "Epoch961, acc:96.18383258104227\n",
      "Epoch971, acc:96.18383258104227\n",
      "Epoch981, acc:96.18383258104227\n",
      "Epoch991, acc:96.18383258104227\n"
     ]
    }
   ],
   "source": [
    "learning_rate = 0.01\n",
    "n_epochs = 1000\n",
    "threshold = 0.5\n",
    "\n",
    "lr = Logistic(learning_rate, n_epochs, threshold)\n",
    "lr.train(X_train_MR, y_train_MR)"
   ]
  },
  {
   "cell_type": "code",
   "execution_count": 118,
   "metadata": {},
   "outputs": [
    {
     "name": "stdout",
     "output_type": "stream",
     "text": [
      "The training accuracy is given by: 96.183833\n"
     ]
    }
   ],
   "source": [
    "pred_lr = lr.predict(X_train_MR)\n",
    "print('The training accuracy is given by: %f' % (get_acc(pred_lr, y_train_MR)))"
   ]
  },
  {
   "cell_type": "markdown",
   "metadata": {},
   "source": [
    "### Validate Logistic Classifer"
   ]
  },
  {
   "cell_type": "code",
   "execution_count": 120,
   "metadata": {},
   "outputs": [
    {
     "name": "stdout",
     "output_type": "stream",
     "text": [
      "The validation accuracy is given by: 96.184615\n"
     ]
    }
   ],
   "source": [
    "pred_lr = lr.predict(X_val_MR)\n",
    "print('The validation accuracy is given by: %f' % (get_acc(pred_lr, y_val_MR)))"
   ]
  },
  {
   "cell_type": "markdown",
   "metadata": {},
   "source": [
    "### Test Logistic Classifier"
   ]
  },
  {
   "cell_type": "code",
   "execution_count": 121,
   "metadata": {},
   "outputs": [
    {
     "name": "stdout",
     "output_type": "stream",
     "text": [
      "The testing accuracy is given by: 96.000000\n"
     ]
    }
   ],
   "source": [
    "pred_lr = lr.predict(X_test_MR)\n",
    "print('The testing accuracy is given by: %f' % (get_acc(pred_lr, y_test_MR)))"
   ]
  },
  {
   "cell_type": "code",
   "execution_count": null,
   "metadata": {},
   "outputs": [],
   "source": []
  }
 ],
 "metadata": {
  "kernelspec": {
   "display_name": "Python 3 (ipykernel)",
   "language": "python",
   "name": "python3"
  },
  "language_info": {
   "codemirror_mode": {
    "name": "ipython",
    "version": 3
   },
   "file_extension": ".py",
   "mimetype": "text/x-python",
   "name": "python",
   "nbconvert_exporter": "python",
   "pygments_lexer": "ipython3",
   "version": "3.8.10"
  }
 },
 "nbformat": 4,
 "nbformat_minor": 1
}
