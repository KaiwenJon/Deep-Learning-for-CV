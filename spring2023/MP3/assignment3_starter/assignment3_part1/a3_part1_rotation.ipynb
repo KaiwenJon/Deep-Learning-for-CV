{
 "cells": [
  {
   "cell_type": "markdown",
   "metadata": {
    "id": "IWMWW8Ab_345"
   },
   "source": [
    "# (Optional) Colab Setup\n",
    "If you aren't using Colab, you can delete the following code cell. This is just to help students with mounting to Google Drive to access the other .py files and downloading the data, which is a little trickier on Colab than on your local machine using Jupyter. "
   ]
  },
  {
   "cell_type": "code",
   "execution_count": null,
   "metadata": {
    "id": "vH4wc4iD_6w_"
   },
   "outputs": [],
   "source": [
    "# you will be prompted with a window asking to grant permissions\n",
    "from google.colab import drive\n",
    "drive.mount(\"/content/drive\")"
   ]
  },
  {
   "cell_type": "code",
   "execution_count": null,
   "metadata": {
    "id": "XpNsPHZc_879"
   },
   "outputs": [],
   "source": [
    "# fill in the path in your Google Drive in the string below. Note: do not escape slashes or spaces\n",
    "import os\n",
    "datadir = \"/content/assignment3\"\n",
    "if not os.path.exists(datadir):\n",
    "  !ln -s \"/content/drive/My Drive/Your/A3/path/\" $datadir # TODO: Fill your A3 path\n",
    "os.chdir(datadir)\n",
    "!pwd"
   ]
  },
  {
   "cell_type": "markdown",
   "metadata": {
    "id": "Um5DJvBwb6xT"
   },
   "source": [
    "#Data Setup\n",
    "\n",
    "The first thing to do is implement a dataset class to load rotated CIFAR10 images with matching labels. Since there is already a CIFAR10 dataset class implemented in `torchvision`, we will extend this class and modify the `__get_item__` method appropriately to load rotated images.\n",
    "\n",
    "Each rotation label should be an integer in the set {0, 1, 2, 3} which correspond to rotations of 0, 90, 180, or 270 degrees respectively."
   ]
  },
  {
   "cell_type": "code",
   "execution_count": 27,
   "metadata": {
    "id": "oHkeNUOKiFbP"
   },
   "outputs": [],
   "source": [
    "import torch\n",
    "import torchvision\n",
    "import torchvision.transforms as transforms\n",
    "import numpy as np\n",
    "import random\n",
    "\n",
    "\n",
    "def rotate_img(img, rot):\n",
    "    if rot == 0: # 0 degrees rotation\n",
    "        return img\n",
    "    elif rot == 1:\n",
    "        return transforms.functional.rotate(img, 90)\n",
    "    elif rot == 2:\n",
    "        return transforms.functional.rotate(img, 180)\n",
    "    elif rot == 3:\n",
    "        return transforms.functional.rotate(img, 270)\n",
    "    else:\n",
    "        raise ValueError('rotation should be 0, 90, 180, or 270 degrees')\n",
    "\n",
    "\n",
    "class CIFAR10Rotation(torchvision.datasets.CIFAR10):\n",
    "\n",
    "    def __init__(self, root, train, download, transform) -> None:\n",
    "        super().__init__(root=root, train=train, download=download, transform=transform)\n",
    "    \n",
    "    def __len__(self):\n",
    "        return len(self.data)\n",
    "    \n",
    "    def __getitem__(self, index: int):\n",
    "        image, cls_label = super().__getitem__(index)\n",
    "\n",
    "        # randomly select image rotation\n",
    "        rotation_label = random.choice([0, 1, 2, 3])\n",
    "        image_rotated = rotate_img(image, rotation_label)\n",
    "\n",
    "        rotation_label = torch.tensor(rotation_label).long()\n",
    "        return image, image_rotated, rotation_label, torch.tensor(cls_label).long()"
   ]
  },
  {
   "cell_type": "code",
   "execution_count": 28,
   "metadata": {
    "id": "CCBSpNWpb8uw"
   },
   "outputs": [
    {
     "name": "stdout",
     "output_type": "stream",
     "text": [
      "Files already downloaded and verified\n",
      "Files already downloaded and verified\n"
     ]
    }
   ],
   "source": [
    "transform_train = transforms.Compose([\n",
    "    transforms.RandomCrop(32, padding=4),\n",
    "    transforms.RandomHorizontalFlip(),\n",
    "    transforms.ToTensor(),\n",
    "    transforms.Normalize((0.4914, 0.4822, 0.4465), (0.2023, 0.1994, 0.2010)),\n",
    "])\n",
    "\n",
    "transform_test = transforms.Compose([\n",
    "    transforms.ToTensor(),\n",
    "    transforms.Normalize((0.4914, 0.4822, 0.4465), (0.2023, 0.1994, 0.2010)),\n",
    "])\n",
    "\n",
    "batch_size = 128\n",
    "\n",
    "trainset = CIFAR10Rotation(root='./data', train=True,\n",
    "                                        download=True, transform=transform_train)\n",
    "trainloader = torch.utils.data.DataLoader(trainset, batch_size=batch_size,\n",
    "                                          shuffle=True, num_workers=0)\n",
    "\n",
    "testset = CIFAR10Rotation(root='./data', train=False,\n",
    "                                       download=True, transform=transform_test)\n",
    "testloader = torch.utils.data.DataLoader(testset, batch_size=batch_size,\n",
    "                                         shuffle=False, num_workers=0)"
   ]
  },
  {
   "cell_type": "markdown",
   "metadata": {
    "id": "dOCWMyGhVOJB"
   },
   "source": [
    "Show some example images and rotated images with labels:"
   ]
  },
  {
   "cell_type": "code",
   "execution_count": 29,
   "metadata": {
    "id": "A9wN4BJWVMzB"
   },
   "outputs": [
    {
     "name": "stderr",
     "output_type": "stream",
     "text": [
      "Clipping input data to the valid range for imshow with RGB data ([0..1] for floats or [0..255] for integers).\n"
     ]
    },
    {
     "data": {
      "image/png": "[encoded data removed]",
      "text/plain": [
       "<Figure size 640x480 with 1 Axes>"
      ]
     },
     "metadata": {},
     "output_type": "display_data"
    },
    {
     "name": "stderr",
     "output_type": "stream",
     "text": [
      "Clipping input data to the valid range for imshow with RGB data ([0..1] for floats or [0..255] for integers).\n"
     ]
    },
    {
     "name": "stdout",
     "output_type": "stream",
     "text": [
      "Class labels:  horse bird  frog  deer \n"
     ]
    },
    {
     "data": {
      "image/png": "[encoded data removed]",
      "text/plain": [
       "<Figure size 640x480 with 1 Axes>"
      ]
     },
     "metadata": {},
     "output_type": "display_data"
    },
    {
     "name": "stdout",
     "output_type": "stream",
     "text": [
      "Rotation labels:  90    0     180   180  \n"
     ]
    }
   ],
   "source": [
    "import matplotlib.pyplot as plt\n",
    "\n",
    "classes = ('plane', 'car', 'bird', 'cat',\n",
    "           'deer', 'dog', 'frog', 'horse', 'ship', 'truck')\n",
    "\n",
    "rot_classes = ('0', '90', '180', '270')\n",
    "\n",
    "\n",
    "def imshow(img):\n",
    "    # unnormalize\n",
    "    img = transforms.Normalize((0, 0, 0), (1/0.2023, 1/0.1994, 1/0.2010))(img)\n",
    "    img = transforms.Normalize((-0.4914, -0.4822, -0.4465), (1, 1, 1))(img)\n",
    "    npimg = img.numpy()\n",
    "    plt.imshow(np.transpose(npimg, (1, 2, 0)))\n",
    "    plt.show()\n",
    "\n",
    "\n",
    "dataiter = iter(trainloader)\n",
    "images, rot_images, rot_labels, labels = next(dataiter)\n",
    "\n",
    "# print images and rotated images\n",
    "img_grid = imshow(torchvision.utils.make_grid(images[:4], padding=0))\n",
    "print('Class labels: ', ' '.join(f'{classes[labels[j]]:5s}' for j in range(4)))\n",
    "img_grid = imshow(torchvision.utils.make_grid(rot_images[:4], padding=0))\n",
    "print('Rotation labels: ', ' '.join(f'{rot_classes[rot_labels[j]]:5s}' for j in range(4)))"
   ]
  },
  {
   "cell_type": "markdown",
   "metadata": {
    "id": "unCucbHexG4W"
   },
   "source": [
    "#Evaluation code"
   ]
  },
  {
   "cell_type": "code",
   "execution_count": 30,
   "metadata": {
    "id": "pptQRpqK0rOl"
   },
   "outputs": [],
   "source": [
    "import time\n",
    "\n",
    "def run_test(net, testloader, criterion, task):\n",
    "    correct = 0\n",
    "    total = 0\n",
    "    avg_test_loss = 0.0\n",
    "    # since we're not training, we don't need to calculate the gradients for our outputs\n",
    "    with torch.no_grad():\n",
    "        for images, images_rotated, labels, cls_labels in testloader:\n",
    "            if task == 'rotation':\n",
    "                images, labels = images_rotated.to(device), labels.to(device)\n",
    "            elif task == 'classification':\n",
    "                images, labels = images.to(device), cls_labels.to(device)\n",
    "            # TODO: Calculate outputs by running images through the network\n",
    "            # The class with the highest energy is what we choose as prediction\n",
    "            #\n",
    "            #\n",
    "            #\n",
    "            outputs = net(images)\n",
    "            _, predicted = torch.max(outputs.data, 1)\n",
    "            total += labels.size(0)\n",
    "            correct += (predicted == labels).sum().item()\n",
    "\n",
    "            # loss\n",
    "            avg_test_loss += criterion(outputs, labels)  / len(testloader)\n",
    "    print('TESTING:')\n",
    "    print(f'Accuracy of the network on the 10000 test images: {100 * correct / total:.2f} %')\n",
    "    print(f'Average loss on the 10000 test images: {avg_test_loss:.3f}')"
   ]
  },
  {
   "cell_type": "code",
   "execution_count": 31,
   "metadata": {
    "id": "hf698c16A9k5"
   },
   "outputs": [],
   "source": [
    "def adjust_learning_rate(optimizer, epoch, init_lr, decay_epochs=30):\n",
    "    \"\"\"Sets the learning rate to the initial LR decayed by 10 every 30 epochs\"\"\"\n",
    "    lr = init_lr * (0.1 ** (epoch // decay_epochs))\n",
    "    for param_group in optimizer.param_groups:\n",
    "        param_group['lr'] = lr"
   ]
  },
  {
   "cell_type": "markdown",
   "metadata": {
    "id": "3lYdnb1Wsta_"
   },
   "source": [
    "#Train a ResNet18 on the rotation task\n",
    "\n",
    "In this section, we will train a ResNet18 model on the rotation task. The input is a rotated image and the model predicts the rotation label. See the Data Setup section for details."
   ]
  },
  {
   "cell_type": "code",
   "execution_count": 32,
   "metadata": {
    "id": "knAiwdURvBHk"
   },
   "outputs": [
    {
     "data": {
      "text/plain": [
       "'cuda'"
      ]
     },
     "execution_count": 32,
     "metadata": {},
     "output_type": "execute_result"
    }
   ],
   "source": [
    "device = 'cuda' if torch.cuda.is_available() else 'cpu'\n",
    "device"
   ]
  },
  {
   "cell_type": "code",
   "execution_count": 33,
   "metadata": {
    "id": "235MEIUgsv65"
   },
   "outputs": [],
   "source": [
    "import torch.nn as nn\n",
    "import torch.nn.functional as F\n",
    "\n",
    "from torchvision.models import resnet18\n",
    "\n",
    "net = resnet18(num_classes=4)\n",
    "net = net.to(device)"
   ]
  },
  {
   "cell_type": "code",
   "execution_count": 34,
   "metadata": {
    "id": "Vuhiw0ZoszAd"
   },
   "outputs": [],
   "source": [
    "import torch.optim as optim\n",
    "criterion = None\n",
    "optimizer = None\n",
    "\n",
    "# TODO: Define criterion and optimizer\n",
    "#\n",
    "#\n",
    "#\n",
    "criterion = nn.CrossEntropyLoss()\n",
    "optimizer = optim.Adam(net.parameters(), lr=0.001)"
   ]
  },
  {
   "cell_type": "code",
   "execution_count": 35,
   "metadata": {
    "id": "WleH-YBgs0rq"
   },
   "outputs": [],
   "source": [
    "# Both the self-supervised rotation task and supervised CIFAR10 classification are\n",
    "# trained with the CrossEntropyLoss, so we can use the training loop code.\n",
    "\n",
    "def train(net, criterion, optimizer, num_epochs, decay_epochs, init_lr, task):\n",
    "\n",
    "    for epoch in range(num_epochs):  # loop over the dataset multiple times\n",
    "\n",
    "        running_loss = 0.0\n",
    "        running_correct = 0.0\n",
    "        running_total = 0.0\n",
    "        start_time = time.time()\n",
    "\n",
    "        net.train()\n",
    "\n",
    "        for i, (imgs, imgs_rotated, rotation_label, cls_label) in enumerate(trainloader, 0):\n",
    "            adjust_learning_rate(optimizer, epoch, init_lr, decay_epochs)\n",
    "\n",
    "            # TODO: Set the data to the correct device; Different task will use different inputs and labels\n",
    "            #\n",
    "            if task == 'rotation':\n",
    "                images, labels = imgs_rotated.to(device), rotation_label.to(device)\n",
    "            elif task == 'classification':\n",
    "                images, labels = imgs.to(device), cls_labels.to(device)\n",
    "\n",
    "            # TODO: Zero the parameter gradients\n",
    "            #\n",
    "            optimizer.zero_grad()\n",
    "            \n",
    "            # TODO: forward + backward + optimize\n",
    "            #\n",
    "            #\n",
    "            #\n",
    "            #\n",
    "            #\n",
    "            outputs = net(images)\n",
    "            loss = criterion(outputs, labels)\n",
    "            loss.backward()\n",
    "            optimizer.step()\n",
    "\n",
    "            # TODO: Get predicted results\n",
    "            _, predicted = torch.max(outputs.data, 1)\n",
    "\n",
    "            # print statistics\n",
    "            print_freq = 100\n",
    "            running_loss += loss.item()\n",
    "\n",
    "            # calc acc\n",
    "            running_total += labels.size(0)\n",
    "            running_correct += (predicted == labels).sum().item()\n",
    "\n",
    "            if i % print_freq == (print_freq - 1):    # print every 100 mini-batches\n",
    "                print(f'[{epoch + 1}, {i + 1:5d}] loss: {running_loss / print_freq:.3f} acc: {100*running_correct / running_total:.2f} time: {time.time() - start_time:.2f}')\n",
    "                running_loss, running_correct, running_total = 0.0, 0.0, 0.0\n",
    "                start_time = time.time()\n",
    "\n",
    "        # TODO: Run the run_test() function after each epoch; Set the model to the evaluation mode.\n",
    "        #\n",
    "        #\n",
    "        net = net.eval()\n",
    "        run_test(net, testloader, criterion, task)\n",
    "\n",
    "    print('Finished Training')"
   ]
  },
  {
   "cell_type": "code",
   "execution_count": 36,
   "metadata": {
    "id": "2u4AsfAKtaQS"
   },
   "outputs": [
    {
     "name": "stdout",
     "output_type": "stream",
     "text": [
      "[1,   100] loss: 1.483 acc: 37.95 time: 44.17\n",
      "[1,   200] loss: 1.225 acc: 44.61 time: 44.02\n",
      "[1,   300] loss: 1.222 acc: 46.95 time: 44.17\n",
      "TESTING:\n",
      "Accuracy of the network on the 10000 test images: 53.60 %\n",
      "Average loss on the 10000 test images: 1.102\n",
      "[2,   100] loss: 1.113 acc: 51.46 time: 44.02\n",
      "[2,   200] loss: 1.096 acc: 52.51 time: 44.13\n",
      "[2,   300] loss: 1.087 acc: 53.62 time: 44.21\n",
      "TESTING:\n",
      "Accuracy of the network on the 10000 test images: 56.44 %\n",
      "Average loss on the 10000 test images: 1.036\n",
      "[3,   100] loss: 1.060 acc: 54.95 time: 44.04\n",
      "[3,   200] loss: 1.037 acc: 55.27 time: 43.98\n",
      "[3,   300] loss: 1.015 acc: 56.79 time: 44.07\n",
      "TESTING:\n",
      "Accuracy of the network on the 10000 test images: 58.00 %\n",
      "Average loss on the 10000 test images: 0.984\n",
      "[4,   100] loss: 0.988 acc: 58.36 time: 44.34\n",
      "[4,   200] loss: 0.986 acc: 58.34 time: 44.26\n",
      "[4,   300] loss: 0.980 acc: 58.76 time: 44.40\n",
      "TESTING:\n",
      "Accuracy of the network on the 10000 test images: 59.46 %\n",
      "Average loss on the 10000 test images: 0.960\n",
      "[5,   100] loss: 0.957 acc: 59.72 time: 43.98\n",
      "[5,   200] loss: 0.941 acc: 61.07 time: 44.03\n",
      "[5,   300] loss: 0.936 acc: 61.05 time: 44.06\n",
      "TESTING:\n",
      "Accuracy of the network on the 10000 test images: 61.02 %\n",
      "Average loss on the 10000 test images: 0.920\n",
      "[6,   100] loss: 0.918 acc: 61.67 time: 44.08\n",
      "[6,   200] loss: 0.932 acc: 61.09 time: 44.53\n",
      "[6,   300] loss: 0.898 acc: 62.48 time: 44.33\n",
      "TESTING:\n",
      "Accuracy of the network on the 10000 test images: 63.02 %\n",
      "Average loss on the 10000 test images: 0.868\n",
      "[7,   100] loss: 0.889 acc: 62.78 time: 44.70\n",
      "[7,   200] loss: 0.888 acc: 62.88 time: 44.02\n",
      "[7,   300] loss: 0.891 acc: 63.45 time: 44.16\n",
      "TESTING:\n",
      "Accuracy of the network on the 10000 test images: 64.48 %\n",
      "Average loss on the 10000 test images: 0.853\n",
      "[8,   100] loss: 0.862 acc: 64.62 time: 44.52\n",
      "[8,   200] loss: 0.874 acc: 63.62 time: 44.22\n",
      "[8,   300] loss: 0.869 acc: 64.34 time: 44.49\n",
      "TESTING:\n",
      "Accuracy of the network on the 10000 test images: 66.21 %\n",
      "Average loss on the 10000 test images: 0.821\n",
      "[9,   100] loss: 0.853 acc: 64.91 time: 44.51\n",
      "[9,   200] loss: 0.852 acc: 64.80 time: 44.33\n",
      "[9,   300] loss: 0.842 acc: 65.34 time: 44.29\n",
      "TESTING:\n",
      "Accuracy of the network on the 10000 test images: 62.87 %\n",
      "Average loss on the 10000 test images: 0.884\n",
      "[10,   100] loss: 0.846 acc: 65.00 time: 44.55\n",
      "[10,   200] loss: 0.821 acc: 66.27 time: 44.52\n",
      "[10,   300] loss: 0.836 acc: 65.66 time: 44.74\n",
      "TESTING:\n",
      "Accuracy of the network on the 10000 test images: 67.28 %\n",
      "Average loss on the 10000 test images: 0.810\n",
      "[11,   100] loss: 0.819 acc: 66.13 time: 45.47\n",
      "[11,   200] loss: 0.818 acc: 66.54 time: 44.69\n",
      "[11,   300] loss: 0.811 acc: 66.78 time: 45.16\n",
      "TESTING:\n",
      "Accuracy of the network on the 10000 test images: 68.11 %\n",
      "Average loss on the 10000 test images: 0.781\n",
      "[12,   100] loss: 0.795 acc: 67.43 time: 44.69\n",
      "[12,   200] loss: 0.798 acc: 67.27 time: 44.63\n",
      "[12,   300] loss: 0.801 acc: 67.15 time: 46.24\n",
      "TESTING:\n",
      "Accuracy of the network on the 10000 test images: 68.34 %\n",
      "Average loss on the 10000 test images: 0.772\n",
      "[13,   100] loss: 0.780 acc: 67.85 time: 44.78\n",
      "[13,   200] loss: 0.794 acc: 67.77 time: 47.10\n",
      "[13,   300] loss: 0.765 acc: 68.82 time: 44.72\n",
      "TESTING:\n",
      "Accuracy of the network on the 10000 test images: 70.30 %\n",
      "Average loss on the 10000 test images: 0.742\n",
      "[14,   100] loss: 0.757 acc: 69.23 time: 45.01\n",
      "[14,   200] loss: 0.763 acc: 69.05 time: 44.51\n",
      "[14,   300] loss: 0.757 acc: 69.25 time: 44.84\n",
      "TESTING:\n",
      "Accuracy of the network on the 10000 test images: 70.02 %\n",
      "Average loss on the 10000 test images: 0.749\n",
      "[15,   100] loss: 0.749 acc: 69.91 time: 46.13\n",
      "[15,   200] loss: 0.749 acc: 69.95 time: 45.60\n",
      "[15,   300] loss: 0.724 acc: 70.59 time: 45.79\n",
      "TESTING:\n",
      "Accuracy of the network on the 10000 test images: 69.53 %\n",
      "Average loss on the 10000 test images: 0.742\n",
      "[16,   100] loss: 0.699 acc: 71.88 time: 45.67\n",
      "[16,   200] loss: 0.678 acc: 73.27 time: 45.87\n",
      "[16,   300] loss: 0.665 acc: 73.37 time: 46.80\n",
      "TESTING:\n",
      "Accuracy of the network on the 10000 test images: 74.64 %\n",
      "Average loss on the 10000 test images: 0.634\n",
      "[17,   100] loss: 0.656 acc: 73.70 time: 44.86\n",
      "[17,   200] loss: 0.652 acc: 73.94 time: 46.26\n",
      "[17,   300] loss: 0.648 acc: 74.26 time: 45.62\n",
      "TESTING:\n",
      "Accuracy of the network on the 10000 test images: 75.11 %\n",
      "Average loss on the 10000 test images: 0.621\n",
      "[18,   100] loss: 0.661 acc: 73.48 time: 47.03\n",
      "[18,   200] loss: 0.642 acc: 74.70 time: 48.37\n",
      "[18,   300] loss: 0.632 acc: 74.70 time: 46.90\n",
      "TESTING:\n",
      "Accuracy of the network on the 10000 test images: 75.54 %\n",
      "Average loss on the 10000 test images: 0.619\n",
      "[19,   100] loss: 0.642 acc: 74.52 time: 45.01\n",
      "[19,   200] loss: 0.625 acc: 75.05 time: 44.84\n",
      "[19,   300] loss: 0.641 acc: 74.62 time: 44.77\n",
      "TESTING:\n",
      "Accuracy of the network on the 10000 test images: 75.18 %\n",
      "Average loss on the 10000 test images: 0.615\n",
      "[20,   100] loss: 0.635 acc: 74.86 time: 45.85\n",
      "[20,   200] loss: 0.637 acc: 74.82 time: 45.29\n",
      "[20,   300] loss: 0.624 acc: 75.37 time: 45.07\n",
      "TESTING:\n",
      "Accuracy of the network on the 10000 test images: 75.92 %\n",
      "Average loss on the 10000 test images: 0.604\n",
      "[21,   100] loss: 0.620 acc: 75.92 time: 45.21\n",
      "[21,   200] loss: 0.627 acc: 75.32 time: 45.10\n",
      "[21,   300] loss: 0.626 acc: 75.37 time: 46.14\n",
      "TESTING:\n",
      "Accuracy of the network on the 10000 test images: 76.52 %\n",
      "Average loss on the 10000 test images: 0.595\n",
      "[22,   100] loss: 0.613 acc: 75.97 time: 45.32\n",
      "[22,   200] loss: 0.612 acc: 76.01 time: 46.60\n",
      "[22,   300] loss: 0.626 acc: 74.84 time: 45.14\n",
      "TESTING:\n",
      "Accuracy of the network on the 10000 test images: 76.53 %\n",
      "Average loss on the 10000 test images: 0.596\n",
      "[23,   100] loss: 0.622 acc: 75.44 time: 44.66\n",
      "[23,   200] loss: 0.613 acc: 75.43 time: 44.65\n",
      "[23,   300] loss: 0.617 acc: 75.43 time: 44.68\n",
      "TESTING:\n",
      "Accuracy of the network on the 10000 test images: 76.17 %\n",
      "Average loss on the 10000 test images: 0.594\n",
      "[24,   100] loss: 0.612 acc: 75.71 time: 44.60\n",
      "[24,   200] loss: 0.617 acc: 75.45 time: 44.53\n",
      "[24,   300] loss: 0.607 acc: 76.37 time: 44.52\n",
      "TESTING:\n",
      "Accuracy of the network on the 10000 test images: 76.27 %\n",
      "Average loss on the 10000 test images: 0.590\n",
      "[25,   100] loss: 0.590 acc: 77.09 time: 44.65\n",
      "[25,   200] loss: 0.612 acc: 75.88 time: 44.49\n",
      "[25,   300] loss: 0.602 acc: 76.49 time: 44.51\n",
      "TESTING:\n",
      "Accuracy of the network on the 10000 test images: 77.03 %\n",
      "Average loss on the 10000 test images: 0.582\n",
      "[26,   100] loss: 0.605 acc: 75.79 time: 44.66\n",
      "[26,   200] loss: 0.599 acc: 76.37 time: 44.69\n",
      "[26,   300] loss: 0.602 acc: 75.98 time: 45.08\n",
      "TESTING:\n",
      "Accuracy of the network on the 10000 test images: 77.27 %\n",
      "Average loss on the 10000 test images: 0.578\n",
      "[27,   100] loss: 0.588 acc: 77.11 time: 45.44\n",
      "[27,   200] loss: 0.594 acc: 76.61 time: 45.08\n",
      "[27,   300] loss: 0.594 acc: 76.48 time: 45.33\n",
      "TESTING:\n",
      "Accuracy of the network on the 10000 test images: 77.04 %\n",
      "Average loss on the 10000 test images: 0.576\n",
      "[28,   100] loss: 0.602 acc: 76.09 time: 45.46\n",
      "[28,   200] loss: 0.590 acc: 76.87 time: 46.36\n",
      "[28,   300] loss: 0.585 acc: 76.97 time: 45.92\n",
      "TESTING:\n",
      "Accuracy of the network on the 10000 test images: 76.97 %\n",
      "Average loss on the 10000 test images: 0.575\n",
      "[29,   100] loss: 0.574 acc: 77.66 time: 45.64\n",
      "[29,   200] loss: 0.591 acc: 76.97 time: 45.64\n",
      "[29,   300] loss: 0.589 acc: 76.70 time: 44.62\n",
      "TESTING:\n",
      "Accuracy of the network on the 10000 test images: 77.42 %\n",
      "Average loss on the 10000 test images: 0.569\n",
      "[30,   100] loss: 0.579 acc: 76.94 time: 44.65\n",
      "[30,   200] loss: 0.591 acc: 76.93 time: 44.67\n",
      "[30,   300] loss: 0.572 acc: 77.84 time: 44.60\n",
      "TESTING:\n",
      "Accuracy of the network on the 10000 test images: 77.52 %\n",
      "Average loss on the 10000 test images: 0.567\n",
      "[31,   100] loss: 0.574 acc: 77.34 time: 45.22\n",
      "[31,   200] loss: 0.580 acc: 77.38 time: 44.76\n",
      "[31,   300] loss: 0.579 acc: 77.27 time: 44.65\n",
      "TESTING:\n",
      "Accuracy of the network on the 10000 test images: 77.72 %\n",
      "Average loss on the 10000 test images: 0.562\n",
      "[32,   100] loss: 0.572 acc: 77.65 time: 44.90\n",
      "[32,   200] loss: 0.574 acc: 77.65 time: 44.86\n",
      "[32,   300] loss: 0.567 acc: 77.81 time: 44.69\n",
      "TESTING:\n",
      "Accuracy of the network on the 10000 test images: 78.08 %\n",
      "Average loss on the 10000 test images: 0.555\n",
      "[33,   100] loss: 0.576 acc: 77.39 time: 44.64\n",
      "[33,   200] loss: 0.558 acc: 78.13 time: 44.81\n",
      "[33,   300] loss: 0.568 acc: 77.50 time: 45.21\n"
     ]
    },
    {
     "name": "stdout",
     "output_type": "stream",
     "text": [
      "TESTING:\n",
      "Accuracy of the network on the 10000 test images: 77.77 %\n",
      "Average loss on the 10000 test images: 0.557\n",
      "[34,   100] loss: 0.571 acc: 77.73 time: 45.82\n",
      "[34,   200] loss: 0.560 acc: 78.32 time: 45.78\n",
      "[34,   300] loss: 0.564 acc: 78.11 time: 45.77\n",
      "TESTING:\n",
      "Accuracy of the network on the 10000 test images: 77.82 %\n",
      "Average loss on the 10000 test images: 0.560\n",
      "[35,   100] loss: 0.566 acc: 77.89 time: 44.84\n",
      "[35,   200] loss: 0.560 acc: 77.85 time: 45.14\n",
      "[35,   300] loss: 0.580 acc: 77.02 time: 45.20\n",
      "TESTING:\n",
      "Accuracy of the network on the 10000 test images: 77.93 %\n",
      "Average loss on the 10000 test images: 0.556\n",
      "[36,   100] loss: 0.564 acc: 77.65 time: 44.66\n",
      "[36,   200] loss: 0.567 acc: 77.81 time: 44.71\n",
      "[36,   300] loss: 0.559 acc: 78.23 time: 47.25\n",
      "TESTING:\n",
      "Accuracy of the network on the 10000 test images: 78.25 %\n",
      "Average loss on the 10000 test images: 0.553\n",
      "[37,   100] loss: 0.570 acc: 77.59 time: 45.51\n",
      "[37,   200] loss: 0.563 acc: 78.25 time: 45.06\n",
      "[37,   300] loss: 0.562 acc: 77.75 time: 44.91\n",
      "TESTING:\n",
      "Accuracy of the network on the 10000 test images: 78.15 %\n",
      "Average loss on the 10000 test images: 0.549\n",
      "[38,   100] loss: 0.568 acc: 77.54 time: 44.94\n",
      "[38,   200] loss: 0.564 acc: 78.08 time: 46.14\n",
      "[38,   300] loss: 0.553 acc: 78.24 time: 47.16\n",
      "TESTING:\n",
      "Accuracy of the network on the 10000 test images: 78.15 %\n",
      "Average loss on the 10000 test images: 0.553\n",
      "[39,   100] loss: 0.568 acc: 77.88 time: 44.95\n",
      "[39,   200] loss: 0.550 acc: 78.82 time: 45.15\n",
      "[39,   300] loss: 0.562 acc: 78.06 time: 45.27\n",
      "TESTING:\n",
      "Accuracy of the network on the 10000 test images: 78.12 %\n",
      "Average loss on the 10000 test images: 0.555\n",
      "[40,   100] loss: 0.560 acc: 78.34 time: 45.79\n",
      "[40,   200] loss: 0.559 acc: 78.30 time: 45.95\n",
      "[40,   300] loss: 0.559 acc: 77.69 time: 45.18\n",
      "TESTING:\n",
      "Accuracy of the network on the 10000 test images: 78.21 %\n",
      "Average loss on the 10000 test images: 0.550\n",
      "[41,   100] loss: 0.556 acc: 78.18 time: 45.79\n",
      "[41,   200] loss: 0.566 acc: 77.71 time: 46.21\n",
      "[41,   300] loss: 0.559 acc: 78.02 time: 45.04\n",
      "TESTING:\n",
      "Accuracy of the network on the 10000 test images: 78.30 %\n",
      "Average loss on the 10000 test images: 0.551\n",
      "[42,   100] loss: 0.573 acc: 77.82 time: 45.53\n",
      "[42,   200] loss: 0.567 acc: 77.65 time: 46.75\n",
      "[42,   300] loss: 0.557 acc: 78.27 time: 46.03\n",
      "TESTING:\n",
      "Accuracy of the network on the 10000 test images: 77.92 %\n",
      "Average loss on the 10000 test images: 0.558\n",
      "[43,   100] loss: 0.561 acc: 78.06 time: 45.57\n",
      "[43,   200] loss: 0.566 acc: 77.76 time: 46.66\n",
      "[43,   300] loss: 0.562 acc: 77.97 time: 45.04\n",
      "TESTING:\n",
      "Accuracy of the network on the 10000 test images: 78.26 %\n",
      "Average loss on the 10000 test images: 0.553\n",
      "[44,   100] loss: 0.564 acc: 77.77 time: 45.09\n",
      "[44,   200] loss: 0.547 acc: 78.55 time: 45.75\n",
      "[44,   300] loss: 0.552 acc: 78.95 time: 44.72\n",
      "TESTING:\n",
      "Accuracy of the network on the 10000 test images: 78.27 %\n",
      "Average loss on the 10000 test images: 0.548\n",
      "[45,   100] loss: 0.567 acc: 77.74 time: 46.03\n",
      "[45,   200] loss: 0.558 acc: 78.17 time: 46.46\n",
      "[45,   300] loss: 0.556 acc: 78.42 time: 46.82\n",
      "TESTING:\n",
      "Accuracy of the network on the 10000 test images: 78.13 %\n",
      "Average loss on the 10000 test images: 0.551\n",
      "Finished Training\n"
     ]
    }
   ],
   "source": [
    "train(net, criterion, optimizer, num_epochs=45, decay_epochs=15, init_lr=0.01, task='rotation')\n",
    "\n",
    "# TODO: Save the model\n",
    "#\n",
    "PATH = './cifar_net.pth'\n",
    "torch.save(net.state_dict(), PATH)"
   ]
  },
  {
   "cell_type": "markdown",
   "metadata": {
    "id": "PLLMRTS9rTnk"
   },
   "source": [
    "##Fine-tuning on the pre-trained model\n",
    "\n",
    "In this section, we will load the pre-trained ResNet18 model and fine-tune on the classification task. We will freeze all previous layers except for the 'layer4' block and 'fc' layer."
   ]
  },
  {
   "cell_type": "code",
   "execution_count": null,
   "metadata": {
    "id": "S4nX4ExlrymI"
   },
   "outputs": [],
   "source": [
    "import torch.nn as nn\n",
    "import torch.nn.functional as F\n",
    "\n",
    "from torchvision.models import resnet18\n",
    "\n",
    "# TODO: Load the pre-trained ResNet18 model\n",
    "#\n",
    "#\n",
    "#\n",
    "net = resnet18(num_classes=4)\n",
    "net = net.to(device)\n",
    "net.load_state_dict(torch.load(PATH))"
   ]
  },
  {
   "cell_type": "code",
   "execution_count": null,
   "metadata": {
    "id": "kD44g-TxwYdU"
   },
   "outputs": [],
   "source": [
    "# TODO: Freeze all previous layers; only keep the 'layer4' block and 'fc' layer trainable\n",
    "#\n",
    "#\n",
    "#\n",
    "#"
   ]
  },
  {
   "cell_type": "code",
   "execution_count": null,
   "metadata": {
    "id": "9T5DX0efr4fh"
   },
   "outputs": [],
   "source": [
    "# Print all the trainable parameters\n",
    "params_to_update = net.parameters()\n",
    "print(\"Params to learn:\")\n",
    "params_to_update = []\n",
    "for name,param in net.named_parameters():\n",
    "    if param.requires_grad == True:\n",
    "        params_to_update.append(param)\n",
    "        print(\"\\t\",name)"
   ]
  },
  {
   "cell_type": "code",
   "execution_count": null,
   "metadata": {
    "id": "xb032dG700ph"
   },
   "outputs": [],
   "source": [
    "# TODO: Define criterion and optimizer\n",
    "# Note that your optimizer only needs to update the parameters that are trainable.\n",
    "criterion = None\n",
    "optimizer = None"
   ]
  },
  {
   "cell_type": "code",
   "execution_count": null,
   "metadata": {
    "id": "3vLSwOo6sBjl"
   },
   "outputs": [],
   "source": [
    "train(net, criterion, optimizer, num_epochs=20, decay_epochs=10, init_lr=0.01, task='classification')\n"
   ]
  },
  {
   "cell_type": "markdown",
   "metadata": {
    "id": "ghPNhcJBrcNj"
   },
   "source": [
    "## Fine-tuning on the randomly initialized model\n",
    "In this section, we will randomly initialize a ResNet18 model and fine-tune on the classification task. We will freeze all previous layers except for the 'layer4' block and 'fc' layer."
   ]
  },
  {
   "cell_type": "code",
   "execution_count": null,
   "metadata": {
    "id": "2RfXAh9vxXRB"
   },
   "outputs": [],
   "source": [
    "import torch.nn as nn\n",
    "import torch.nn.functional as F\n",
    "\n",
    "from torchvision.models import resnet18\n",
    "\n",
    "# TODO: Randomly initialize a ResNet18 model\n",
    "#\n",
    "#\n",
    "#"
   ]
  },
  {
   "cell_type": "code",
   "execution_count": null,
   "metadata": {
    "id": "fpx-SYAizt4p"
   },
   "outputs": [],
   "source": [
    "# TODO: Freeze all previous layers; only keep the 'layer4' block and 'fc' layer trainable\n",
    "# To do this, you should set requires_grad=False for the frozen layers.\n",
    "#\n",
    "#\n",
    "#"
   ]
  },
  {
   "cell_type": "code",
   "execution_count": null,
   "metadata": {
    "id": "BUFWizbHxgm2"
   },
   "outputs": [],
   "source": [
    "# Print all the trainable parameters\n",
    "params_to_update = net.parameters()\n",
    "print(\"Params to learn:\")\n",
    "params_to_update = []\n",
    "for name,param in net.named_parameters():\n",
    "    if param.requires_grad == True:\n",
    "        params_to_update.append(param)\n",
    "        print(\"\\t\",name)"
   ]
  },
  {
   "cell_type": "code",
   "execution_count": null,
   "metadata": {
    "id": "BxFrGj091AN_"
   },
   "outputs": [],
   "source": [
    "# TODO: Define criterion and optimizer\n",
    "# Note that your optimizer only needs to update the parameters that are trainable.\n",
    "criterion = None\n",
    "optimizer = None"
   ]
  },
  {
   "cell_type": "code",
   "execution_count": null,
   "metadata": {
    "id": "GzRVy0MZxpoL"
   },
   "outputs": [],
   "source": [
    "train(net, criterion, optimizer, num_epochs=20, decay_epochs=10, init_lr=0.01, task='classification')"
   ]
  },
  {
   "cell_type": "markdown",
   "metadata": {
    "id": "WcN54tcNN15U"
   },
   "source": [
    "##Supervised training on the pre-trained model\n",
    "In this section, we will load the pre-trained ResNet18 model and re-train the whole model on the classification task."
   ]
  },
  {
   "cell_type": "code",
   "execution_count": null,
   "metadata": {
    "id": "9xR9h_S1N6Xi"
   },
   "outputs": [],
   "source": [
    "import torch.nn as nn\n",
    "import torch.nn.functional as F\n",
    "\n",
    "from torchvision.models import resnet18\n",
    "\n",
    "# TODO: Load the pre-trained ResNet18 model\n",
    "#\n",
    "#\n",
    "#"
   ]
  },
  {
   "cell_type": "code",
   "execution_count": null,
   "metadata": {
    "id": "gGozc2cM0ADw"
   },
   "outputs": [],
   "source": [
    "# TODO: Define criterion and optimizer\n",
    "criterion = None\n",
    "optimizer = None"
   ]
  },
  {
   "cell_type": "code",
   "execution_count": null,
   "metadata": {
    "id": "JGWW7gzCz_Bu"
   },
   "outputs": [],
   "source": [
    "train(net, criterion, optimizer, num_epochs=20, decay_epochs=10, init_lr=0.01, task='classification')"
   ]
  },
  {
   "cell_type": "markdown",
   "metadata": {
    "id": "xjVTp9jhefTi"
   },
   "source": [
    "##Supervised training on the randomly initialized model\n",
    "In this section, we will randomly initialize a ResNet18 model and re-train the whole model on the classification task."
   ]
  },
  {
   "cell_type": "code",
   "execution_count": null,
   "metadata": {
    "id": "uEjy8TBieeLK"
   },
   "outputs": [],
   "source": [
    "import torch.nn as nn\n",
    "import torch.nn.functional as F\n",
    "\n",
    "from torchvision.models import resnet18\n",
    "\n",
    "# TODO: Randomly initialize a ResNet18 model\n",
    "#\n",
    "#\n",
    "#"
   ]
  },
  {
   "cell_type": "code",
   "execution_count": null,
   "metadata": {
    "id": "jEY90pK_0ZAm"
   },
   "outputs": [],
   "source": [
    "# TODO: Define criterion and optimizer\n",
    "criterion = None\n",
    "optimizer = None"
   ]
  },
  {
   "cell_type": "code",
   "execution_count": null,
   "metadata": {
    "id": "lMDwelhY0auO"
   },
   "outputs": [],
   "source": [
    "train(net, criterion, optimizer, num_epochs=20, decay_epochs=10, init_lr=0.01, task='classification')"
   ]
  }
 ],
 "metadata": {
  "accelerator": "GPU",
  "colab": {
   "provenance": [
    {
     "file_id": "1qQ3NEaCUln7yDSksrEOnDwrt3u9dYNr4",
     "timestamp": 1677623843954
    }
   ]
  },
  "gpuClass": "standard",
  "kernelspec": {
   "display_name": "Python 3 (ipykernel)",
   "language": "python",
   "name": "python3"
  },
  "language_info": {
   "codemirror_mode": {
    "name": "ipython",
    "version": 3
   },
   "file_extension": ".py",
   "mimetype": "text/x-python",
   "name": "python",
   "nbconvert_exporter": "python",
   "pygments_lexer": "ipython3",
   "version": "3.9.13"
  }
 },
 "nbformat": 4,
 "nbformat_minor": 1
}
