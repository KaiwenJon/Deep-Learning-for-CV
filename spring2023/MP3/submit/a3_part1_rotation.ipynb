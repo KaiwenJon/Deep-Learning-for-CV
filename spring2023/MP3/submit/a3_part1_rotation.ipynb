{
 "cells": [
  {
   "cell_type": "markdown",
   "metadata": {
    "id": "IWMWW8Ab_345"
   },
   "source": [
    "# (Optional) Colab Setup\n",
    "If you aren't using Colab, you can delete the following code cell. This is just to help students with mounting to Google Drive to access the other .py files and downloading the data, which is a little trickier on Colab than on your local machine using Jupyter. "
   ]
  },
  {
   "cell_type": "code",
   "execution_count": null,
   "metadata": {
    "id": "vH4wc4iD_6w_"
   },
   "outputs": [],
   "source": [
    "# you will be prompted with a window asking to grant permissions\n",
    "from google.colab import drive\n",
    "drive.mount(\"/content/drive\")"
   ]
  },
  {
   "cell_type": "code",
   "execution_count": null,
   "metadata": {
    "id": "XpNsPHZc_879"
   },
   "outputs": [],
   "source": [
    "# fill in the path in your Google Drive in the string below. Note: do not escape slashes or spaces\n",
    "import os\n",
    "datadir = \"/content/assignment3\"\n",
    "if not os.path.exists(datadir):\n",
    "  !ln -s \"/content/drive/My Drive/Your/A3/path/\" $datadir # TODO: Fill your A3 path\n",
    "os.chdir(datadir)\n",
    "!pwd"
   ]
  },
  {
   "cell_type": "markdown",
   "metadata": {
    "id": "Um5DJvBwb6xT"
   },
   "source": [
    "#Data Setup\n",
    "\n",
    "The first thing to do is implement a dataset class to load rotated CIFAR10 images with matching labels. Since there is already a CIFAR10 dataset class implemented in `torchvision`, we will extend this class and modify the `__get_item__` method appropriately to load rotated images.\n",
    "\n",
    "Each rotation label should be an integer in the set {0, 1, 2, 3} which correspond to rotations of 0, 90, 180, or 270 degrees respectively."
   ]
  },
  {
   "cell_type": "code",
   "execution_count": 1,
   "metadata": {
    "id": "oHkeNUOKiFbP"
   },
   "outputs": [],
   "source": [
    "import torch\n",
    "import torchvision\n",
    "import torchvision.transforms as transforms\n",
    "import numpy as np\n",
    "import random\n",
    "\n",
    "\n",
    "def rotate_img(img, rot):\n",
    "    if rot == 0: # 0 degrees rotation\n",
    "        return img\n",
    "    elif rot == 1:\n",
    "        return transforms.functional.rotate(img, 90)\n",
    "    elif rot == 2:\n",
    "        return transforms.functional.rotate(img, 180)\n",
    "    elif rot == 3:\n",
    "        return transforms.functional.rotate(img, 270)\n",
    "    else:\n",
    "        raise ValueError('rotation should be 0, 90, 180, or 270 degrees')\n",
    "\n",
    "\n",
    "class CIFAR10Rotation(torchvision.datasets.CIFAR10):\n",
    "\n",
    "    def __init__(self, root, train, download, transform) -> None:\n",
    "        super().__init__(root=root, train=train, download=download, transform=transform)\n",
    "    \n",
    "    def __len__(self):\n",
    "        return len(self.data)\n",
    "    \n",
    "    def __getitem__(self, index: int):\n",
    "        image, cls_label = super().__getitem__(index)\n",
    "\n",
    "        # randomly select image rotation\n",
    "        rotation_label = random.choice([0, 1, 2, 3])\n",
    "        image_rotated = rotate_img(image, rotation_label)\n",
    "\n",
    "        rotation_label = torch.tensor(rotation_label).long()\n",
    "        return image, image_rotated, rotation_label, torch.tensor(cls_label).long()"
   ]
  },
  {
   "cell_type": "code",
   "execution_count": 2,
   "metadata": {
    "id": "CCBSpNWpb8uw"
   },
   "outputs": [
    {
     "name": "stdout",
     "output_type": "stream",
     "text": [
      "Files already downloaded and verified\n",
      "Files already downloaded and verified\n"
     ]
    }
   ],
   "source": [
    "transform_train = transforms.Compose([\n",
    "    transforms.RandomCrop(32, padding=4),\n",
    "    transforms.RandomHorizontalFlip(),\n",
    "    transforms.ToTensor(),\n",
    "    transforms.Normalize((0.4914, 0.4822, 0.4465), (0.2023, 0.1994, 0.2010)),\n",
    "])\n",
    "\n",
    "transform_test = transforms.Compose([\n",
    "    transforms.ToTensor(),\n",
    "    transforms.Normalize((0.4914, 0.4822, 0.4465), (0.2023, 0.1994, 0.2010)),\n",
    "])\n",
    "\n",
    "batch_size = 128\n",
    "\n",
    "trainset = CIFAR10Rotation(root='./data', train=True,\n",
    "                                        download=True, transform=transform_train)\n",
    "trainloader = torch.utils.data.DataLoader(trainset, batch_size=batch_size,\n",
    "                                          shuffle=True, num_workers=0)\n",
    "\n",
    "testset = CIFAR10Rotation(root='./data', train=False,\n",
    "                                       download=True, transform=transform_test)\n",
    "testloader = torch.utils.data.DataLoader(testset, batch_size=batch_size,\n",
    "                                         shuffle=False, num_workers=0)"
   ]
  },
  {
   "cell_type": "markdown",
   "metadata": {
    "id": "dOCWMyGhVOJB"
   },
   "source": [
    "Show some example images and rotated images with labels:"
   ]
  },
  {
   "cell_type": "code",
   "execution_count": 3,
   "metadata": {
    "id": "A9wN4BJWVMzB"
   },
   "outputs": [
    {
     "name": "stderr",
     "output_type": "stream",
     "text": [
      "Clipping input data to the valid range for imshow with RGB data ([0..1] for floats or [0..255] for integers).\n"
     ]
    },
    {
     "data": {
      "image/png": "[encoded data removed]",
      "text/plain": [
       "<Figure size 640x480 with 1 Axes>"
      ]
     },
     "metadata": {},
     "output_type": "display_data"
    },
    {
     "name": "stderr",
     "output_type": "stream",
     "text": [
      "Clipping input data to the valid range for imshow with RGB data ([0..1] for floats or [0..255] for integers).\n"
     ]
    },
    {
     "name": "stdout",
     "output_type": "stream",
     "text": [
      "Class labels:  dog   deer  plane car  \n"
     ]
    },
    {
     "data": {
      "image/png": "[encoded data removed]",
      "text/plain": [
       "<Figure size 640x480 with 1 Axes>"
      ]
     },
     "metadata": {},
     "output_type": "display_data"
    },
    {
     "name": "stdout",
     "output_type": "stream",
     "text": [
      "Rotation labels:  180   90    180   0    \n"
     ]
    }
   ],
   "source": [
    "import matplotlib.pyplot as plt\n",
    "\n",
    "classes = ('plane', 'car', 'bird', 'cat',\n",
    "           'deer', 'dog', 'frog', 'horse', 'ship', 'truck')\n",
    "\n",
    "rot_classes = ('0', '90', '180', '270')\n",
    "\n",
    "\n",
    "def imshow(img):\n",
    "    # unnormalize\n",
    "    img = transforms.Normalize((0, 0, 0), (1/0.2023, 1/0.1994, 1/0.2010))(img)\n",
    "    img = transforms.Normalize((-0.4914, -0.4822, -0.4465), (1, 1, 1))(img)\n",
    "    npimg = img.numpy()\n",
    "    plt.imshow(np.transpose(npimg, (1, 2, 0)))\n",
    "    plt.show()\n",
    "\n",
    "\n",
    "dataiter = iter(trainloader)\n",
    "images, rot_images, rot_labels, labels = next(dataiter)\n",
    "\n",
    "# print images and rotated images\n",
    "img_grid = imshow(torchvision.utils.make_grid(images[:4], padding=0))\n",
    "print('Class labels: ', ' '.join(f'{classes[labels[j]]:5s}' for j in range(4)))\n",
    "img_grid = imshow(torchvision.utils.make_grid(rot_images[:4], padding=0))\n",
    "print('Rotation labels: ', ' '.join(f'{rot_classes[rot_labels[j]]:5s}' for j in range(4)))"
   ]
  },
  {
   "cell_type": "markdown",
   "metadata": {
    "id": "unCucbHexG4W"
   },
   "source": [
    "#Evaluation code"
   ]
  },
  {
   "cell_type": "code",
   "execution_count": 4,
   "metadata": {
    "id": "pptQRpqK0rOl"
   },
   "outputs": [],
   "source": [
    "import time\n",
    "\n",
    "def run_test(net, testloader, criterion, task):\n",
    "    correct = 0\n",
    "    total = 0\n",
    "    avg_test_loss = 0.0\n",
    "    # since we're not training, we don't need to calculate the gradients for our outputs\n",
    "    with torch.no_grad():\n",
    "        for images, images_rotated, labels, cls_labels in testloader:\n",
    "            if task == 'rotation':\n",
    "                images, labels = images_rotated.to(device), labels.to(device)\n",
    "            elif task == 'classification':\n",
    "                images, labels = images.to(device), cls_labels.to(device)\n",
    "            # TODO: Calculate outputs by running images through the network\n",
    "            # The class with the highest energy is what we choose as prediction\n",
    "            #\n",
    "            #\n",
    "            #\n",
    "            outputs = net(images)\n",
    "            _, predicted = torch.max(outputs.data, 1)\n",
    "            total += labels.size(0)\n",
    "            correct += (predicted == labels).sum().item()\n",
    "\n",
    "            # loss\n",
    "            avg_test_loss += criterion(outputs, labels)  / len(testloader)\n",
    "    print('TESTING:')\n",
    "    print(f'Accuracy of the network on the 10000 test images: {100 * correct / total:.2f} %')\n",
    "    print(f'Average loss on the 10000 test images: {avg_test_loss:.3f}')"
   ]
  },
  {
   "cell_type": "code",
   "execution_count": 5,
   "metadata": {
    "id": "hf698c16A9k5"
   },
   "outputs": [],
   "source": [
    "def adjust_learning_rate(optimizer, epoch, init_lr, decay_epochs=30):\n",
    "    \"\"\"Sets the learning rate to the initial LR decayed by 10 every 30 epochs\"\"\"\n",
    "    lr = init_lr * (0.1 ** (epoch // decay_epochs))\n",
    "    for param_group in optimizer.param_groups:\n",
    "        param_group['lr'] = lr"
   ]
  },
  {
   "cell_type": "markdown",
   "metadata": {
    "id": "3lYdnb1Wsta_"
   },
   "source": [
    "#Train a ResNet18 on the rotation task\n",
    "\n",
    "In this section, we will train a ResNet18 model on the rotation task. The input is a rotated image and the model predicts the rotation label. See the Data Setup section for details."
   ]
  },
  {
   "cell_type": "code",
   "execution_count": 6,
   "metadata": {
    "id": "knAiwdURvBHk"
   },
   "outputs": [
    {
     "data": {
      "text/plain": [
       "'cuda'"
      ]
     },
     "execution_count": 6,
     "metadata": {},
     "output_type": "execute_result"
    }
   ],
   "source": [
    "device = 'cuda' if torch.cuda.is_available() else 'cpu'\n",
    "device"
   ]
  },
  {
   "cell_type": "code",
   "execution_count": 7,
   "metadata": {
    "id": "235MEIUgsv65"
   },
   "outputs": [],
   "source": [
    "import torch.nn as nn\n",
    "import torch.nn.functional as F\n",
    "\n",
    "from torchvision.models import resnet18\n",
    "\n",
    "net = resnet18(num_classes=4)\n",
    "net = net.to(device)"
   ]
  },
  {
   "cell_type": "code",
   "execution_count": 8,
   "metadata": {
    "id": "Vuhiw0ZoszAd"
   },
   "outputs": [],
   "source": [
    "import torch.optim as optim\n",
    "criterion = None\n",
    "optimizer = None\n",
    "\n",
    "# TODO: Define criterion and optimizer\n",
    "#\n",
    "#\n",
    "#\n",
    "criterion = nn.CrossEntropyLoss()\n",
    "optimizer = optim.Adam(net.parameters(), lr=0.001)"
   ]
  },
  {
   "cell_type": "code",
   "execution_count": 38,
   "metadata": {
    "id": "WleH-YBgs0rq"
   },
   "outputs": [],
   "source": [
    "# Both the self-supervised rotation task and supervised CIFAR10 classification are\n",
    "# trained with the CrossEntropyLoss, so we can use the training loop code.\n",
    "\n",
    "def train(net, criterion, optimizer, num_epochs, decay_epochs, init_lr, task):\n",
    "\n",
    "    for epoch in range(num_epochs):  # loop over the dataset multiple times\n",
    "\n",
    "        running_loss = 0.0\n",
    "        running_correct = 0.0\n",
    "        running_total = 0.0\n",
    "        start_time = time.time()\n",
    "\n",
    "        net.train()\n",
    "\n",
    "        for i, (imgs, imgs_rotated, rotation_label, cls_label) in enumerate(trainloader, 0):\n",
    "            adjust_learning_rate(optimizer, epoch, init_lr, decay_epochs)\n",
    "\n",
    "            # TODO: Set the data to the correct device; Different task will use different inputs and labels\n",
    "            #\n",
    "            if task == 'rotation':\n",
    "                images, labels = imgs_rotated.to(device), rotation_label.to(device)\n",
    "            elif task == 'classification':\n",
    "                images, labels = imgs.to(device), cls_label.to(device)\n",
    "\n",
    "            # TODO: Zero the parameter gradients\n",
    "            #\n",
    "            optimizer.zero_grad()\n",
    "            \n",
    "            # TODO: forward + backward + optimize\n",
    "            #\n",
    "            #\n",
    "            #\n",
    "            #\n",
    "            #\n",
    "            outputs = net(images)\n",
    "            loss = criterion(outputs, labels)\n",
    "            loss.backward()\n",
    "            optimizer.step()\n",
    "\n",
    "            # TODO: Get predicted results\n",
    "            _, predicted = torch.max(outputs.data, 1)\n",
    "\n",
    "            # print statistics\n",
    "            print_freq = 100\n",
    "            running_loss += loss.item()\n",
    "\n",
    "            # calc acc\n",
    "            running_total += labels.size(0)\n",
    "            running_correct += (predicted == labels).sum().item()\n",
    "\n",
    "            if i % print_freq == (print_freq - 1):    # print every 100 mini-batches\n",
    "                print(f'[{epoch + 1}, {i + 1:5d}] loss: {running_loss / print_freq:.3f} acc: {100*running_correct / running_total:.2f} time: {time.time() - start_time:.2f}')\n",
    "                running_loss, running_correct, running_total = 0.0, 0.0, 0.0\n",
    "                start_time = time.time()\n",
    "\n",
    "        # TODO: Run the run_test() function after each epoch; Set the model to the evaluation mode.\n",
    "        #\n",
    "        #\n",
    "        net = net.eval()\n",
    "        run_test(net, testloader, criterion, task)\n",
    "\n",
    "    print('Finished Training')"
   ]
  },
  {
   "cell_type": "code",
   "execution_count": 10,
   "metadata": {
    "id": "2u4AsfAKtaQS"
   },
   "outputs": [
    {
     "name": "stdout",
     "output_type": "stream",
     "text": [
      "[1,   100] loss: 1.501 acc: 33.77 time: 21.49\n",
      "[1,   200] loss: 1.283 acc: 44.39 time: 8.91\n",
      "[1,   300] loss: 1.199 acc: 47.32 time: 9.77\n",
      "TESTING:\n",
      "Accuracy of the network on the 10000 test images: 52.28 %\n",
      "Average loss on the 10000 test images: 1.140\n",
      "[2,   100] loss: 1.120 acc: 51.37 time: 9.01\n",
      "[2,   200] loss: 1.091 acc: 53.38 time: 8.94\n",
      "[2,   300] loss: 1.065 acc: 54.05 time: 8.97\n",
      "TESTING:\n",
      "Accuracy of the network on the 10000 test images: 55.19 %\n",
      "Average loss on the 10000 test images: 1.062\n",
      "[3,   100] loss: 1.043 acc: 55.52 time: 14.82\n",
      "[3,   200] loss: 1.015 acc: 56.88 time: 9.08\n",
      "[3,   300] loss: 1.008 acc: 57.30 time: 9.15\n",
      "TESTING:\n",
      "Accuracy of the network on the 10000 test images: 58.19 %\n",
      "Average loss on the 10000 test images: 0.999\n",
      "[4,   100] loss: 0.975 acc: 59.34 time: 9.00\n",
      "[4,   200] loss: 0.968 acc: 58.93 time: 12.42\n",
      "[4,   300] loss: 0.959 acc: 59.45 time: 11.02\n",
      "TESTING:\n",
      "Accuracy of the network on the 10000 test images: 61.80 %\n",
      "Average loss on the 10000 test images: 0.914\n",
      "[5,   100] loss: 0.940 acc: 60.49 time: 9.05\n",
      "[5,   200] loss: 0.936 acc: 60.85 time: 8.87\n",
      "[5,   300] loss: 0.907 acc: 62.59 time: 8.99\n",
      "TESTING:\n",
      "Accuracy of the network on the 10000 test images: 62.12 %\n",
      "Average loss on the 10000 test images: 0.901\n",
      "[6,   100] loss: 0.911 acc: 62.60 time: 9.11\n",
      "[6,   200] loss: 0.901 acc: 62.06 time: 9.24\n",
      "[6,   300] loss: 0.887 acc: 63.56 time: 9.21\n",
      "TESTING:\n",
      "Accuracy of the network on the 10000 test images: 64.31 %\n",
      "Average loss on the 10000 test images: 0.860\n",
      "[7,   100] loss: 0.876 acc: 63.91 time: 14.12\n",
      "[7,   200] loss: 0.884 acc: 63.18 time: 8.86\n",
      "[7,   300] loss: 0.872 acc: 64.12 time: 8.79\n",
      "TESTING:\n",
      "Accuracy of the network on the 10000 test images: 63.05 %\n",
      "Average loss on the 10000 test images: 0.880\n",
      "[8,   100] loss: 0.869 acc: 64.06 time: 8.87\n",
      "[8,   200] loss: 0.869 acc: 64.00 time: 8.93\n",
      "[8,   300] loss: 0.838 acc: 65.36 time: 14.15\n",
      "TESTING:\n",
      "Accuracy of the network on the 10000 test images: 66.00 %\n",
      "Average loss on the 10000 test images: 0.829\n",
      "[9,   100] loss: 0.843 acc: 64.90 time: 8.94\n",
      "[9,   200] loss: 0.833 acc: 65.98 time: 8.74\n",
      "[9,   300] loss: 0.831 acc: 65.78 time: 8.79\n",
      "TESTING:\n",
      "Accuracy of the network on the 10000 test images: 67.30 %\n",
      "Average loss on the 10000 test images: 0.813\n",
      "[10,   100] loss: 0.808 acc: 66.80 time: 9.38\n",
      "[10,   200] loss: 0.823 acc: 66.21 time: 8.94\n",
      "[10,   300] loss: 0.818 acc: 66.27 time: 8.99\n",
      "TESTING:\n",
      "Accuracy of the network on the 10000 test images: 67.98 %\n",
      "Average loss on the 10000 test images: 0.791\n",
      "[11,   100] loss: 0.790 acc: 67.76 time: 8.81\n",
      "[11,   200] loss: 0.799 acc: 67.26 time: 14.08\n",
      "[11,   300] loss: 0.815 acc: 66.91 time: 8.96\n",
      "TESTING:\n",
      "Accuracy of the network on the 10000 test images: 68.31 %\n",
      "Average loss on the 10000 test images: 0.785\n",
      "[12,   100] loss: 0.787 acc: 67.69 time: 9.16\n",
      "[12,   200] loss: 0.790 acc: 67.95 time: 8.92\n",
      "[12,   300] loss: 0.764 acc: 68.82 time: 9.50\n",
      "TESTING:\n",
      "Accuracy of the network on the 10000 test images: 68.97 %\n",
      "Average loss on the 10000 test images: 0.769\n",
      "[13,   100] loss: 0.757 acc: 69.75 time: 8.75\n",
      "[13,   200] loss: 0.759 acc: 69.38 time: 9.01\n",
      "[13,   300] loss: 0.759 acc: 69.45 time: 8.64\n",
      "TESTING:\n",
      "Accuracy of the network on the 10000 test images: 70.70 %\n",
      "Average loss on the 10000 test images: 0.735\n",
      "[14,   100] loss: 0.759 acc: 69.52 time: 13.96\n",
      "[14,   200] loss: 0.740 acc: 69.79 time: 8.72\n",
      "[14,   300] loss: 0.735 acc: 70.77 time: 8.70\n",
      "TESTING:\n",
      "Accuracy of the network on the 10000 test images: 71.58 %\n",
      "Average loss on the 10000 test images: 0.714\n",
      "[15,   100] loss: 0.723 acc: 71.20 time: 8.69\n",
      "[15,   200] loss: 0.719 acc: 71.20 time: 8.67\n",
      "[15,   300] loss: 0.725 acc: 71.00 time: 13.90\n",
      "TESTING:\n",
      "Accuracy of the network on the 10000 test images: 71.89 %\n",
      "Average loss on the 10000 test images: 0.705\n",
      "[16,   100] loss: 0.669 acc: 73.58 time: 8.61\n",
      "[16,   200] loss: 0.652 acc: 74.32 time: 8.75\n",
      "[16,   300] loss: 0.660 acc: 74.03 time: 8.81\n",
      "TESTING:\n",
      "Accuracy of the network on the 10000 test images: 75.07 %\n",
      "Average loss on the 10000 test images: 0.624\n",
      "[17,   100] loss: 0.638 acc: 74.82 time: 10.64\n",
      "[17,   200] loss: 0.636 acc: 74.84 time: 8.73\n",
      "[17,   300] loss: 0.636 acc: 74.73 time: 8.67\n",
      "TESTING:\n",
      "Accuracy of the network on the 10000 test images: 75.89 %\n",
      "Average loss on the 10000 test images: 0.604\n",
      "[18,   100] loss: 0.626 acc: 75.23 time: 8.67\n",
      "[18,   200] loss: 0.628 acc: 75.13 time: 13.45\n",
      "[18,   300] loss: 0.607 acc: 76.09 time: 9.23\n",
      "TESTING:\n",
      "Accuracy of the network on the 10000 test images: 76.15 %\n",
      "Average loss on the 10000 test images: 0.598\n",
      "[19,   100] loss: 0.621 acc: 75.54 time: 8.66\n",
      "[19,   200] loss: 0.620 acc: 75.77 time: 8.63\n",
      "[19,   300] loss: 0.616 acc: 75.84 time: 8.58\n",
      "TESTING:\n",
      "Accuracy of the network on the 10000 test images: 76.80 %\n",
      "Average loss on the 10000 test images: 0.590\n",
      "[20,   100] loss: 0.607 acc: 76.30 time: 8.86\n",
      "[20,   200] loss: 0.606 acc: 76.26 time: 8.80\n",
      "[20,   300] loss: 0.597 acc: 76.43 time: 8.78\n",
      "TESTING:\n",
      "Accuracy of the network on the 10000 test images: 76.90 %\n",
      "Average loss on the 10000 test images: 0.588\n",
      "[21,   100] loss: 0.607 acc: 76.26 time: 10.19\n",
      "[21,   200] loss: 0.601 acc: 76.20 time: 12.38\n",
      "[21,   300] loss: 0.591 acc: 76.81 time: 8.84\n",
      "TESTING:\n",
      "Accuracy of the network on the 10000 test images: 76.75 %\n",
      "Average loss on the 10000 test images: 0.583\n",
      "[22,   100] loss: 0.599 acc: 76.53 time: 8.81\n",
      "[22,   200] loss: 0.602 acc: 76.30 time: 8.80\n",
      "[22,   300] loss: 0.580 acc: 77.22 time: 11.97\n",
      "TESTING:\n",
      "Accuracy of the network on the 10000 test images: 76.80 %\n",
      "Average loss on the 10000 test images: 0.578\n",
      "[23,   100] loss: 0.587 acc: 76.98 time: 8.58\n",
      "[23,   200] loss: 0.605 acc: 76.43 time: 8.71\n",
      "[23,   300] loss: 0.581 acc: 77.35 time: 8.77\n",
      "TESTING:\n",
      "Accuracy of the network on the 10000 test images: 77.61 %\n",
      "Average loss on the 10000 test images: 0.571\n",
      "[24,   100] loss: 0.594 acc: 76.72 time: 13.98\n",
      "[24,   200] loss: 0.590 acc: 77.26 time: 8.67\n",
      "[24,   300] loss: 0.559 acc: 78.31 time: 8.74\n",
      "TESTING:\n",
      "Accuracy of the network on the 10000 test images: 77.45 %\n",
      "Average loss on the 10000 test images: 0.568\n",
      "[25,   100] loss: 0.578 acc: 77.48 time: 9.05\n",
      "[25,   200] loss: 0.580 acc: 77.26 time: 10.16\n",
      "[25,   300] loss: 0.586 acc: 76.96 time: 13.46\n",
      "TESTING:\n",
      "Accuracy of the network on the 10000 test images: 77.80 %\n",
      "Average loss on the 10000 test images: 0.571\n",
      "[26,   100] loss: 0.587 acc: 76.85 time: 9.14\n",
      "[26,   200] loss: 0.568 acc: 78.27 time: 9.21\n",
      "[26,   300] loss: 0.577 acc: 77.34 time: 8.93\n",
      "TESTING:\n",
      "Accuracy of the network on the 10000 test images: 77.87 %\n",
      "Average loss on the 10000 test images: 0.568\n",
      "[27,   100] loss: 0.574 acc: 77.13 time: 8.93\n",
      "[27,   200] loss: 0.560 acc: 78.47 time: 8.85\n",
      "[27,   300] loss: 0.572 acc: 77.52 time: 8.77\n",
      "TESTING:\n",
      "Accuracy of the network on the 10000 test images: 77.53 %\n",
      "Average loss on the 10000 test images: 0.560\n",
      "[28,   100] loss: 0.558 acc: 78.40 time: 11.52\n",
      "[28,   200] loss: 0.565 acc: 77.72 time: 11.74\n",
      "[28,   300] loss: 0.569 acc: 77.46 time: 9.22\n",
      "TESTING:\n",
      "Accuracy of the network on the 10000 test images: 77.97 %\n",
      "Average loss on the 10000 test images: 0.558\n",
      "[29,   100] loss: 0.573 acc: 77.53 time: 9.26\n",
      "[29,   200] loss: 0.555 acc: 78.30 time: 9.18\n",
      "[29,   300] loss: 0.560 acc: 78.14 time: 14.70\n",
      "TESTING:\n",
      "Accuracy of the network on the 10000 test images: 78.04 %\n",
      "Average loss on the 10000 test images: 0.559\n",
      "[30,   100] loss: 0.561 acc: 78.02 time: 8.76\n",
      "[30,   200] loss: 0.557 acc: 77.73 time: 8.91\n",
      "[30,   300] loss: 0.561 acc: 78.41 time: 8.88\n",
      "TESTING:\n",
      "Accuracy of the network on the 10000 test images: 78.34 %\n",
      "Average loss on the 10000 test images: 0.550\n",
      "[31,   100] loss: 0.559 acc: 77.88 time: 10.44\n",
      "[31,   200] loss: 0.548 acc: 78.46 time: 8.82\n",
      "[31,   300] loss: 0.554 acc: 78.20 time: 8.91\n",
      "TESTING:\n",
      "Accuracy of the network on the 10000 test images: 78.76 %\n",
      "Average loss on the 10000 test images: 0.543\n",
      "[32,   100] loss: 0.546 acc: 79.03 time: 8.84\n",
      "[32,   200] loss: 0.552 acc: 78.59 time: 14.05\n",
      "[32,   300] loss: 0.544 acc: 78.83 time: 8.87\n",
      "TESTING:\n",
      "Accuracy of the network on the 10000 test images: 78.09 %\n",
      "Average loss on the 10000 test images: 0.550\n",
      "[33,   100] loss: 0.535 acc: 79.22 time: 8.83\n",
      "[33,   200] loss: 0.547 acc: 78.97 time: 9.06\n",
      "[33,   300] loss: 0.552 acc: 79.05 time: 8.98\n",
      "TESTING:\n",
      "Accuracy of the network on the 10000 test images: 78.60 %\n",
      "Average loss on the 10000 test images: 0.541\n"
     ]
    },
    {
     "name": "stdout",
     "output_type": "stream",
     "text": [
      "[34,   100] loss: 0.538 acc: 79.11 time: 8.91\n",
      "[34,   200] loss: 0.555 acc: 78.47 time: 9.09\n",
      "[34,   300] loss: 0.535 acc: 79.06 time: 9.17\n",
      "TESTING:\n",
      "Accuracy of the network on the 10000 test images: 78.71 %\n",
      "Average loss on the 10000 test images: 0.538\n",
      "[35,   100] loss: 0.543 acc: 78.98 time: 14.54\n",
      "[35,   200] loss: 0.530 acc: 79.21 time: 9.08\n",
      "[35,   300] loss: 0.552 acc: 78.60 time: 8.98\n",
      "TESTING:\n",
      "Accuracy of the network on the 10000 test images: 78.50 %\n",
      "Average loss on the 10000 test images: 0.542\n",
      "[36,   100] loss: 0.542 acc: 79.05 time: 8.97\n",
      "[36,   200] loss: 0.551 acc: 78.37 time: 9.08\n",
      "[36,   300] loss: 0.535 acc: 79.21 time: 14.26\n",
      "TESTING:\n",
      "Accuracy of the network on the 10000 test images: 78.59 %\n",
      "Average loss on the 10000 test images: 0.536\n",
      "[37,   100] loss: 0.540 acc: 78.77 time: 8.90\n",
      "[37,   200] loss: 0.533 acc: 79.32 time: 9.12\n",
      "[37,   300] loss: 0.550 acc: 78.68 time: 9.10\n",
      "TESTING:\n",
      "Accuracy of the network on the 10000 test images: 78.52 %\n",
      "Average loss on the 10000 test images: 0.542\n",
      "[38,   100] loss: 0.544 acc: 78.78 time: 9.00\n",
      "[38,   200] loss: 0.541 acc: 78.90 time: 9.05\n",
      "[38,   300] loss: 0.530 acc: 79.48 time: 8.96\n",
      "TESTING:\n",
      "Accuracy of the network on the 10000 test images: 78.52 %\n",
      "Average loss on the 10000 test images: 0.540\n",
      "[39,   100] loss: 0.535 acc: 79.55 time: 10.23\n",
      "[39,   200] loss: 0.538 acc: 79.02 time: 13.40\n",
      "[39,   300] loss: 0.543 acc: 78.50 time: 8.85\n",
      "TESTING:\n",
      "Accuracy of the network on the 10000 test images: 78.96 %\n",
      "Average loss on the 10000 test images: 0.542\n",
      "[40,   100] loss: 0.535 acc: 79.21 time: 8.94\n",
      "[40,   200] loss: 0.542 acc: 78.69 time: 9.02\n",
      "[40,   300] loss: 0.543 acc: 78.41 time: 14.27\n",
      "TESTING:\n",
      "Accuracy of the network on the 10000 test images: 79.20 %\n",
      "Average loss on the 10000 test images: 0.539\n",
      "[41,   100] loss: 0.542 acc: 78.91 time: 8.86\n",
      "[41,   200] loss: 0.538 acc: 79.35 time: 8.98\n",
      "[41,   300] loss: 0.534 acc: 79.02 time: 8.98\n",
      "TESTING:\n",
      "Accuracy of the network on the 10000 test images: 78.95 %\n",
      "Average loss on the 10000 test images: 0.538\n",
      "[42,   100] loss: 0.538 acc: 78.69 time: 12.08\n",
      "[42,   200] loss: 0.537 acc: 79.33 time: 8.87\n",
      "[42,   300] loss: 0.541 acc: 78.97 time: 8.97\n",
      "TESTING:\n",
      "Accuracy of the network on the 10000 test images: 78.61 %\n",
      "Average loss on the 10000 test images: 0.540\n",
      "[43,   100] loss: 0.534 acc: 79.21 time: 8.86\n",
      "[43,   200] loss: 0.532 acc: 79.17 time: 14.43\n",
      "[43,   300] loss: 0.549 acc: 78.40 time: 9.06\n",
      "TESTING:\n",
      "Accuracy of the network on the 10000 test images: 78.80 %\n",
      "Average loss on the 10000 test images: 0.539\n",
      "[44,   100] loss: 0.542 acc: 79.41 time: 9.02\n",
      "[44,   200] loss: 0.537 acc: 79.16 time: 9.04\n",
      "[44,   300] loss: 0.547 acc: 78.80 time: 8.94\n",
      "TESTING:\n",
      "Accuracy of the network on the 10000 test images: 78.99 %\n",
      "Average loss on the 10000 test images: 0.534\n",
      "[45,   100] loss: 0.538 acc: 79.22 time: 9.10\n",
      "[45,   200] loss: 0.545 acc: 78.68 time: 8.77\n",
      "[45,   300] loss: 0.538 acc: 79.09 time: 8.91\n",
      "TESTING:\n",
      "Accuracy of the network on the 10000 test images: 78.51 %\n",
      "Average loss on the 10000 test images: 0.539\n",
      "Finished Training\n"
     ]
    }
   ],
   "source": [
    "train(net, criterion, optimizer, num_epochs=45, decay_epochs=15, init_lr=0.01, task='rotation')\n",
    "\n",
    "# TODO: Save the model\n",
    "#\n",
    "PATH = './cifar_net.pth'\n",
    "torch.save(net.state_dict(), PATH)"
   ]
  },
  {
   "cell_type": "markdown",
   "metadata": {
    "id": "PLLMRTS9rTnk"
   },
   "source": [
    "##Fine-tuning on the pre-trained model\n",
    "\n",
    "In this section, we will load the pre-trained ResNet18 model and fine-tune on the classification task. We will freeze all previous layers except for the 'layer4' block and 'fc' layer."
   ]
  },
  {
   "cell_type": "code",
   "execution_count": 64,
   "metadata": {
    "id": "S4nX4ExlrymI"
   },
   "outputs": [],
   "source": [
    "import torch.nn as nn\n",
    "import torch.nn.functional as F\n",
    "\n",
    "from torchvision.models import resnet18\n",
    "PATH = './cifar_net_pretrained.pth'\n",
    "# TODO: Load the pre-trained ResNet18 model\n",
    "#\n",
    "#\n",
    "#\n",
    "net = resnet18(num_classes=4)\n",
    "net.load_state_dict(torch.load(PATH))\n",
    "num_ftrs = net.fc.in_features\n",
    "net.fc = nn.Linear(num_ftrs, 10)\n",
    "net = net.to(device)\n",
    "# print(net)"
   ]
  },
  {
   "cell_type": "code",
   "execution_count": 65,
   "metadata": {
    "id": "kD44g-TxwYdU"
   },
   "outputs": [],
   "source": [
    "# TODO: Freeze all previous layers; only keep the 'layer4' block and 'fc' layer trainable\n",
    "#\n",
    "#\n",
    "#\n",
    "#\n",
    "\n",
    "for name, param in net.named_parameters():\n",
    "    name_param = name.split('.')[0]\n",
    "    if(name_param != 'layer4' and name_param != 'fc'):\n",
    "        param.requires_grad = False"
   ]
  },
  {
   "cell_type": "code",
   "execution_count": 66,
   "metadata": {
    "id": "9T5DX0efr4fh"
   },
   "outputs": [
    {
     "name": "stdout",
     "output_type": "stream",
     "text": [
      "Params to learn:\n",
      "\t layer4.0.conv1.weight\n",
      "\t layer4.0.bn1.weight\n",
      "\t layer4.0.bn1.bias\n",
      "\t layer4.0.conv2.weight\n",
      "\t layer4.0.bn2.weight\n",
      "\t layer4.0.bn2.bias\n",
      "\t layer4.0.downsample.0.weight\n",
      "\t layer4.0.downsample.1.weight\n",
      "\t layer4.0.downsample.1.bias\n",
      "\t layer4.1.conv1.weight\n",
      "\t layer4.1.bn1.weight\n",
      "\t layer4.1.bn1.bias\n",
      "\t layer4.1.conv2.weight\n",
      "\t layer4.1.bn2.weight\n",
      "\t layer4.1.bn2.bias\n",
      "\t fc.weight\n",
      "\t fc.bias\n"
     ]
    }
   ],
   "source": [
    "# Print all the trainable parameters\n",
    "params_to_update = net.parameters()\n",
    "print(\"Params to learn:\")\n",
    "params_to_update = []\n",
    "for name,param in net.named_parameters():\n",
    "    if param.requires_grad == True:\n",
    "        params_to_update.append(param)\n",
    "        print(\"\\t\",name)"
   ]
  },
  {
   "cell_type": "code",
   "execution_count": 67,
   "metadata": {
    "id": "xb032dG700ph"
   },
   "outputs": [],
   "source": [
    "# TODO: Define criterion and optimizer\n",
    "# Note that your optimizer only needs to update the parameters that are trainable.\n",
    "criterion = nn.CrossEntropyLoss()\n",
    "optimizer = optim.Adam(params_to_update, lr=0.001)"
   ]
  },
  {
   "cell_type": "code",
   "execution_count": 68,
   "metadata": {
    "id": "3vLSwOo6sBjl"
   },
   "outputs": [
    {
     "name": "stdout",
     "output_type": "stream",
     "text": [
      "[1,   100] loss: 1.861 acc: 29.83 time: 8.10\n",
      "[1,   200] loss: 1.582 acc: 40.98 time: 8.25\n",
      "[1,   300] loss: 1.504 acc: 44.88 time: 8.17\n",
      "TESTING:\n",
      "Accuracy of the network on the 10000 test images: 47.93 %\n",
      "Average loss on the 10000 test images: 1.429\n",
      "[2,   100] loss: 1.443 acc: 46.99 time: 8.44\n",
      "[2,   200] loss: 1.422 acc: 48.16 time: 8.02\n",
      "[2,   300] loss: 1.386 acc: 49.73 time: 8.03\n",
      "TESTING:\n",
      "Accuracy of the network on the 10000 test images: 51.47 %\n",
      "Average loss on the 10000 test images: 1.347\n",
      "[3,   100] loss: 1.381 acc: 49.88 time: 7.94\n",
      "[3,   200] loss: 1.370 acc: 50.56 time: 9.54\n",
      "[3,   300] loss: 1.373 acc: 50.09 time: 11.21\n",
      "TESTING:\n",
      "Accuracy of the network on the 10000 test images: 53.05 %\n",
      "Average loss on the 10000 test images: 1.308\n",
      "[4,   100] loss: 1.353 acc: 51.16 time: 7.79\n",
      "[4,   200] loss: 1.353 acc: 51.23 time: 7.69\n",
      "[4,   300] loss: 1.329 acc: 51.64 time: 7.86\n",
      "TESTING:\n",
      "Accuracy of the network on the 10000 test images: 53.53 %\n",
      "Average loss on the 10000 test images: 1.310\n",
      "[5,   100] loss: 1.309 acc: 52.41 time: 11.45\n",
      "[5,   200] loss: 1.313 acc: 51.91 time: 7.88\n",
      "[5,   300] loss: 1.326 acc: 52.08 time: 7.68\n",
      "TESTING:\n",
      "Accuracy of the network on the 10000 test images: 54.25 %\n",
      "Average loss on the 10000 test images: 1.275\n",
      "[6,   100] loss: 1.295 acc: 53.12 time: 7.81\n",
      "[6,   200] loss: 1.301 acc: 53.02 time: 7.66\n",
      "[6,   300] loss: 1.311 acc: 52.40 time: 12.41\n",
      "TESTING:\n",
      "Accuracy of the network on the 10000 test images: 54.28 %\n",
      "Average loss on the 10000 test images: 1.278\n",
      "[7,   100] loss: 1.291 acc: 53.11 time: 7.69\n",
      "[7,   200] loss: 1.299 acc: 53.27 time: 7.62\n",
      "[7,   300] loss: 1.290 acc: 53.44 time: 7.68\n",
      "TESTING:\n",
      "Accuracy of the network on the 10000 test images: 54.93 %\n",
      "Average loss on the 10000 test images: 1.249\n",
      "[8,   100] loss: 1.294 acc: 53.41 time: 10.38\n",
      "[8,   200] loss: 1.285 acc: 53.35 time: 9.99\n",
      "[8,   300] loss: 1.282 acc: 54.19 time: 7.87\n",
      "TESTING:\n",
      "Accuracy of the network on the 10000 test images: 55.49 %\n",
      "Average loss on the 10000 test images: 1.253\n",
      "[9,   100] loss: 1.265 acc: 54.67 time: 7.65\n",
      "[9,   200] loss: 1.283 acc: 53.59 time: 7.71\n",
      "[9,   300] loss: 1.270 acc: 54.11 time: 7.69\n",
      "TESTING:\n",
      "Accuracy of the network on the 10000 test images: 55.82 %\n",
      "Average loss on the 10000 test images: 1.233\n",
      "[10,   100] loss: 1.261 acc: 54.70 time: 7.84\n",
      "[10,   200] loss: 1.257 acc: 54.80 time: 7.62\n",
      "[10,   300] loss: 1.274 acc: 54.23 time: 7.71\n",
      "TESTING:\n",
      "Accuracy of the network on the 10000 test images: 55.97 %\n",
      "Average loss on the 10000 test images: 1.223\n",
      "[11,   100] loss: 1.218 acc: 55.95 time: 7.76\n",
      "[11,   200] loss: 1.200 acc: 57.46 time: 11.25\n",
      "[11,   300] loss: 1.194 acc: 57.10 time: 9.24\n",
      "TESTING:\n",
      "Accuracy of the network on the 10000 test images: 58.50 %\n",
      "Average loss on the 10000 test images: 1.163\n",
      "[12,   100] loss: 1.196 acc: 56.77 time: 7.58\n",
      "[12,   200] loss: 1.189 acc: 56.84 time: 7.65\n",
      "[12,   300] loss: 1.201 acc: 57.04 time: 7.74\n",
      "TESTING:\n",
      "Accuracy of the network on the 10000 test images: 59.08 %\n",
      "Average loss on the 10000 test images: 1.152\n",
      "[13,   100] loss: 1.185 acc: 57.34 time: 10.39\n",
      "[13,   200] loss: 1.181 acc: 57.16 time: 7.81\n",
      "[13,   300] loss: 1.203 acc: 56.77 time: 7.71\n",
      "TESTING:\n",
      "Accuracy of the network on the 10000 test images: 59.10 %\n",
      "Average loss on the 10000 test images: 1.159\n",
      "[14,   100] loss: 1.195 acc: 57.34 time: 7.74\n",
      "[14,   200] loss: 1.179 acc: 57.31 time: 7.67\n",
      "[14,   300] loss: 1.174 acc: 57.12 time: 12.68\n",
      "TESTING:\n",
      "Accuracy of the network on the 10000 test images: 59.38 %\n",
      "Average loss on the 10000 test images: 1.154\n",
      "[15,   100] loss: 1.177 acc: 57.78 time: 7.77\n",
      "[15,   200] loss: 1.167 acc: 57.79 time: 7.63\n",
      "[15,   300] loss: 1.187 acc: 57.62 time: 7.65\n",
      "TESTING:\n",
      "Accuracy of the network on the 10000 test images: 59.44 %\n",
      "Average loss on the 10000 test images: 1.147\n",
      "[16,   100] loss: 1.180 acc: 56.82 time: 10.69\n",
      "[16,   200] loss: 1.186 acc: 57.30 time: 9.68\n",
      "[16,   300] loss: 1.171 acc: 57.77 time: 7.91\n",
      "TESTING:\n",
      "Accuracy of the network on the 10000 test images: 59.31 %\n",
      "Average loss on the 10000 test images: 1.148\n",
      "[17,   100] loss: 1.177 acc: 58.04 time: 7.69\n",
      "[17,   200] loss: 1.161 acc: 58.91 time: 7.84\n",
      "[17,   300] loss: 1.166 acc: 58.03 time: 7.68\n",
      "TESTING:\n",
      "Accuracy of the network on the 10000 test images: 59.18 %\n",
      "Average loss on the 10000 test images: 1.139\n",
      "[18,   100] loss: 1.171 acc: 57.40 time: 7.90\n",
      "[18,   200] loss: 1.175 acc: 57.76 time: 7.71\n",
      "[18,   300] loss: 1.172 acc: 57.97 time: 7.73\n",
      "TESTING:\n",
      "Accuracy of the network on the 10000 test images: 59.26 %\n",
      "Average loss on the 10000 test images: 1.143\n",
      "[19,   100] loss: 1.164 acc: 58.10 time: 7.67\n",
      "[19,   200] loss: 1.171 acc: 58.06 time: 12.70\n",
      "[19,   300] loss: 1.180 acc: 57.35 time: 7.69\n",
      "TESTING:\n",
      "Accuracy of the network on the 10000 test images: 59.33 %\n",
      "Average loss on the 10000 test images: 1.142\n",
      "[20,   100] loss: 1.173 acc: 58.10 time: 7.77\n",
      "[20,   200] loss: 1.147 acc: 59.12 time: 7.73\n",
      "[20,   300] loss: 1.153 acc: 58.27 time: 7.78\n",
      "TESTING:\n",
      "Accuracy of the network on the 10000 test images: 59.56 %\n",
      "Average loss on the 10000 test images: 1.133\n",
      "Finished Training\n"
     ]
    }
   ],
   "source": [
    "train(net, criterion, optimizer, num_epochs=20, decay_epochs=10, init_lr=0.01, task='classification')\n"
   ]
  },
  {
   "cell_type": "markdown",
   "metadata": {
    "id": "ghPNhcJBrcNj"
   },
   "source": [
    "## Fine-tuning on the randomly initialized model\n",
    "In this section, we will randomly initialize a ResNet18 model and fine-tune on the classification task. We will freeze all previous layers except for the 'layer4' block and 'fc' layer."
   ]
  },
  {
   "cell_type": "code",
   "execution_count": 69,
   "metadata": {
    "id": "2RfXAh9vxXRB"
   },
   "outputs": [],
   "source": [
    "import torch.nn as nn\n",
    "import torch.nn.functional as F\n",
    "\n",
    "from torchvision.models import resnet18\n",
    "\n",
    "# TODO: Randomly initialize a ResNet18 model\n",
    "#\n",
    "#\n",
    "#\n",
    "net = resnet18(num_classes=10, weights=None)\n",
    "net = net.to(device)"
   ]
  },
  {
   "cell_type": "code",
   "execution_count": 70,
   "metadata": {
    "id": "fpx-SYAizt4p"
   },
   "outputs": [],
   "source": [
    "# TODO: Freeze all previous layers; only keep the 'layer4' block and 'fc' layer trainable\n",
    "# To do this, you should set requires_grad=False for the frozen layers.\n",
    "#\n",
    "#\n",
    "#\n",
    "for name, param in net.named_parameters():\n",
    "    name_param = name.split('.')[0]\n",
    "    if(name_param != 'layer4' and name_param != 'fc'):\n",
    "        param.requires_grad = False"
   ]
  },
  {
   "cell_type": "code",
   "execution_count": 71,
   "metadata": {
    "id": "BUFWizbHxgm2"
   },
   "outputs": [
    {
     "name": "stdout",
     "output_type": "stream",
     "text": [
      "Params to learn:\n",
      "\t layer4.0.conv1.weight\n",
      "\t layer4.0.bn1.weight\n",
      "\t layer4.0.bn1.bias\n",
      "\t layer4.0.conv2.weight\n",
      "\t layer4.0.bn2.weight\n",
      "\t layer4.0.bn2.bias\n",
      "\t layer4.0.downsample.0.weight\n",
      "\t layer4.0.downsample.1.weight\n",
      "\t layer4.0.downsample.1.bias\n",
      "\t layer4.1.conv1.weight\n",
      "\t layer4.1.bn1.weight\n",
      "\t layer4.1.bn1.bias\n",
      "\t layer4.1.conv2.weight\n",
      "\t layer4.1.bn2.weight\n",
      "\t layer4.1.bn2.bias\n",
      "\t fc.weight\n",
      "\t fc.bias\n"
     ]
    }
   ],
   "source": [
    "# Print all the trainable parameters\n",
    "params_to_update = net.parameters()\n",
    "print(\"Params to learn:\")\n",
    "params_to_update = []\n",
    "for name,param in net.named_parameters():\n",
    "    if param.requires_grad == True:\n",
    "        params_to_update.append(param)\n",
    "        print(\"\\t\",name)"
   ]
  },
  {
   "cell_type": "code",
   "execution_count": 72,
   "metadata": {
    "id": "BxFrGj091AN_"
   },
   "outputs": [],
   "source": [
    "# TODO: Define criterion and optimizer\n",
    "# Note that your optimizer only needs to update the parameters that are trainable.\n",
    "criterion = nn.CrossEntropyLoss()\n",
    "optimizer = optim.Adam(params_to_update, lr=0.001)"
   ]
  },
  {
   "cell_type": "code",
   "execution_count": 73,
   "metadata": {
    "id": "GzRVy0MZxpoL"
   },
   "outputs": [
    {
     "name": "stdout",
     "output_type": "stream",
     "text": [
      "[1,   100] loss: 2.275 acc: 25.20 time: 8.94\n",
      "[1,   200] loss: 1.937 acc: 30.35 time: 7.80\n",
      "[1,   300] loss: 1.884 acc: 31.91 time: 7.73\n",
      "TESTING:\n",
      "Accuracy of the network on the 10000 test images: 35.30 %\n",
      "Average loss on the 10000 test images: 1.782\n",
      "[2,   100] loss: 1.819 acc: 34.09 time: 7.78\n",
      "[2,   200] loss: 1.778 acc: 35.68 time: 7.62\n",
      "[2,   300] loss: 1.766 acc: 35.28 time: 13.26\n",
      "TESTING:\n",
      "Accuracy of the network on the 10000 test images: 37.77 %\n",
      "Average loss on the 10000 test images: 1.709\n",
      "[3,   100] loss: 1.743 acc: 36.97 time: 8.18\n",
      "[3,   200] loss: 1.731 acc: 37.62 time: 8.11\n",
      "[3,   300] loss: 1.722 acc: 37.75 time: 8.20\n",
      "TESTING:\n",
      "Accuracy of the network on the 10000 test images: 39.94 %\n",
      "Average loss on the 10000 test images: 1.658\n",
      "[4,   100] loss: 1.720 acc: 37.66 time: 13.49\n",
      "[4,   200] loss: 1.704 acc: 37.82 time: 8.30\n",
      "[4,   300] loss: 1.719 acc: 38.20 time: 8.08\n",
      "TESTING:\n",
      "Accuracy of the network on the 10000 test images: 41.13 %\n",
      "Average loss on the 10000 test images: 1.637\n",
      "[5,   100] loss: 1.706 acc: 38.08 time: 7.71\n",
      "[5,   200] loss: 1.684 acc: 39.72 time: 7.82\n",
      "[5,   300] loss: 1.703 acc: 38.59 time: 12.85\n",
      "TESTING:\n",
      "Accuracy of the network on the 10000 test images: 40.70 %\n",
      "Average loss on the 10000 test images: 1.659\n",
      "[6,   100] loss: 1.677 acc: 39.55 time: 7.72\n",
      "[6,   200] loss: 1.680 acc: 39.67 time: 7.69\n",
      "[6,   300] loss: 1.682 acc: 39.30 time: 7.68\n",
      "TESTING:\n",
      "Accuracy of the network on the 10000 test images: 41.54 %\n",
      "Average loss on the 10000 test images: 1.645\n",
      "[7,   100] loss: 1.673 acc: 39.98 time: 12.56\n",
      "[7,   200] loss: 1.658 acc: 40.02 time: 7.97\n",
      "[7,   300] loss: 1.666 acc: 40.33 time: 7.91\n",
      "TESTING:\n",
      "Accuracy of the network on the 10000 test images: 42.05 %\n",
      "Average loss on the 10000 test images: 1.615\n",
      "[8,   100] loss: 1.657 acc: 40.17 time: 7.65\n",
      "[8,   200] loss: 1.656 acc: 40.91 time: 7.73\n",
      "[8,   300] loss: 1.635 acc: 41.09 time: 7.67\n",
      "TESTING:\n",
      "Accuracy of the network on the 10000 test images: 42.43 %\n",
      "Average loss on the 10000 test images: 1.600\n",
      "[9,   100] loss: 1.636 acc: 41.10 time: 7.82\n",
      "[9,   200] loss: 1.642 acc: 40.91 time: 7.73\n",
      "[9,   300] loss: 1.656 acc: 40.21 time: 7.64\n",
      "TESTING:\n",
      "Accuracy of the network on the 10000 test images: 41.81 %\n",
      "Average loss on the 10000 test images: 1.624\n",
      "[10,   100] loss: 1.631 acc: 41.15 time: 7.88\n",
      "[10,   200] loss: 1.651 acc: 40.36 time: 12.70\n",
      "[10,   300] loss: 1.633 acc: 41.27 time: 7.60\n",
      "TESTING:\n",
      "Accuracy of the network on the 10000 test images: 42.72 %\n",
      "Average loss on the 10000 test images: 1.597\n",
      "[11,   100] loss: 1.618 acc: 41.98 time: 7.66\n",
      "[11,   200] loss: 1.608 acc: 42.05 time: 7.64\n",
      "[11,   300] loss: 1.582 acc: 42.99 time: 7.83\n",
      "TESTING:\n",
      "Accuracy of the network on the 10000 test images: 44.91 %\n",
      "Average loss on the 10000 test images: 1.548\n",
      "[12,   100] loss: 1.574 acc: 43.83 time: 8.35\n",
      "[12,   200] loss: 1.593 acc: 42.72 time: 7.73\n",
      "[12,   300] loss: 1.590 acc: 42.96 time: 7.71\n",
      "TESTING:\n",
      "Accuracy of the network on the 10000 test images: 45.14 %\n",
      "Average loss on the 10000 test images: 1.538\n",
      "[13,   100] loss: 1.583 acc: 42.51 time: 7.68\n",
      "[13,   200] loss: 1.574 acc: 43.68 time: 7.76\n",
      "[13,   300] loss: 1.572 acc: 43.07 time: 12.94\n",
      "TESTING:\n",
      "Accuracy of the network on the 10000 test images: 45.43 %\n",
      "Average loss on the 10000 test images: 1.541\n",
      "[14,   100] loss: 1.563 acc: 43.51 time: 7.58\n",
      "[14,   200] loss: 1.563 acc: 43.56 time: 7.58\n",
      "[14,   300] loss: 1.556 acc: 44.00 time: 7.69\n",
      "TESTING:\n",
      "Accuracy of the network on the 10000 test images: 45.75 %\n",
      "Average loss on the 10000 test images: 1.533\n",
      "[15,   100] loss: 1.564 acc: 43.40 time: 12.91\n",
      "[15,   200] loss: 1.547 acc: 44.54 time: 7.81\n",
      "[15,   300] loss: 1.557 acc: 44.29 time: 7.88\n",
      "TESTING:\n",
      "Accuracy of the network on the 10000 test images: 45.66 %\n",
      "Average loss on the 10000 test images: 1.531\n",
      "[16,   100] loss: 1.552 acc: 44.27 time: 7.69\n",
      "[16,   200] loss: 1.548 acc: 44.52 time: 7.67\n",
      "[16,   300] loss: 1.560 acc: 44.17 time: 7.84\n",
      "TESTING:\n",
      "Accuracy of the network on the 10000 test images: 45.65 %\n",
      "Average loss on the 10000 test images: 1.526\n",
      "[17,   100] loss: 1.550 acc: 43.75 time: 7.81\n",
      "[17,   200] loss: 1.560 acc: 43.89 time: 7.61\n",
      "[17,   300] loss: 1.544 acc: 44.12 time: 7.60\n",
      "TESTING:\n",
      "Accuracy of the network on the 10000 test images: 45.85 %\n",
      "Average loss on the 10000 test images: 1.521\n",
      "[18,   100] loss: 1.545 acc: 44.31 time: 7.77\n",
      "[18,   200] loss: 1.541 acc: 44.12 time: 12.72\n",
      "[18,   300] loss: 1.541 acc: 44.57 time: 7.78\n",
      "TESTING:\n",
      "Accuracy of the network on the 10000 test images: 45.79 %\n",
      "Average loss on the 10000 test images: 1.517\n",
      "[19,   100] loss: 1.562 acc: 44.21 time: 7.65\n",
      "[19,   200] loss: 1.537 acc: 44.70 time: 7.76\n",
      "[19,   300] loss: 1.542 acc: 44.49 time: 7.71\n",
      "TESTING:\n",
      "Accuracy of the network on the 10000 test images: 45.65 %\n",
      "Average loss on the 10000 test images: 1.518\n",
      "[20,   100] loss: 1.535 acc: 44.97 time: 7.79\n",
      "[20,   200] loss: 1.535 acc: 44.29 time: 7.97\n",
      "[20,   300] loss: 1.535 acc: 44.43 time: 7.85\n",
      "TESTING:\n",
      "Accuracy of the network on the 10000 test images: 45.92 %\n",
      "Average loss on the 10000 test images: 1.518\n",
      "Finished Training\n"
     ]
    }
   ],
   "source": [
    "train(net, criterion, optimizer, num_epochs=20, decay_epochs=10, init_lr=0.01, task='classification')"
   ]
  },
  {
   "cell_type": "markdown",
   "metadata": {
    "id": "WcN54tcNN15U"
   },
   "source": [
    "##Supervised training on the pre-trained model\n",
    "In this section, we will load the pre-trained ResNet18 model and re-train the whole model on the classification task."
   ]
  },
  {
   "cell_type": "code",
   "execution_count": 74,
   "metadata": {
    "id": "9xR9h_S1N6Xi"
   },
   "outputs": [],
   "source": [
    "import torch.nn as nn\n",
    "import torch.nn.functional as F\n",
    "\n",
    "from torchvision.models import resnet18\n",
    "\n",
    "PATH = './cifar_net_pretrained.pth'\n",
    "# TODO: Load the pre-trained ResNet18 model\n",
    "#\n",
    "#\n",
    "#\n",
    "net = resnet18(num_classes=4)\n",
    "net.load_state_dict(torch.load(PATH))\n",
    "num_ftrs = net.fc.in_features\n",
    "net.fc = nn.Linear(num_ftrs, 10)\n",
    "net = net.to(device)"
   ]
  },
  {
   "cell_type": "code",
   "execution_count": 75,
   "metadata": {
    "id": "gGozc2cM0ADw"
   },
   "outputs": [],
   "source": [
    "# TODO: Define criterion and optimizer\n",
    "criterion = nn.CrossEntropyLoss()\n",
    "optimizer = optim.Adam(net.parameters(), lr=0.001)"
   ]
  },
  {
   "cell_type": "code",
   "execution_count": 76,
   "metadata": {
    "id": "JGWW7gzCz_Bu"
   },
   "outputs": [
    {
     "name": "stdout",
     "output_type": "stream",
     "text": [
      "[1,   100] loss: 1.475 acc: 45.16 time: 8.64\n",
      "[1,   200] loss: 1.204 acc: 56.53 time: 11.73\n",
      "[1,   300] loss: 1.075 acc: 61.99 time: 10.69\n",
      "TESTING:\n",
      "Accuracy of the network on the 10000 test images: 65.47 %\n",
      "Average loss on the 10000 test images: 1.002\n",
      "[2,   100] loss: 0.962 acc: 66.54 time: 8.65\n",
      "[2,   200] loss: 0.915 acc: 67.80 time: 8.69\n",
      "[2,   300] loss: 0.898 acc: 68.51 time: 8.64\n",
      "TESTING:\n",
      "Accuracy of the network on the 10000 test images: 70.19 %\n",
      "Average loss on the 10000 test images: 0.863\n",
      "[3,   100] loss: 0.827 acc: 71.45 time: 8.56\n",
      "[3,   200] loss: 0.814 acc: 71.74 time: 8.93\n",
      "[3,   300] loss: 0.815 acc: 71.78 time: 8.73\n",
      "TESTING:\n",
      "Accuracy of the network on the 10000 test images: 74.44 %\n",
      "Average loss on the 10000 test images: 0.749\n",
      "[4,   100] loss: 0.744 acc: 74.43 time: 9.41\n",
      "[4,   200] loss: 0.743 acc: 74.62 time: 14.40\n",
      "[4,   300] loss: 0.746 acc: 74.57 time: 9.04\n",
      "TESTING:\n",
      "Accuracy of the network on the 10000 test images: 75.34 %\n",
      "Average loss on the 10000 test images: 0.730\n",
      "[5,   100] loss: 0.712 acc: 75.65 time: 9.03\n",
      "[5,   200] loss: 0.699 acc: 75.68 time: 8.94\n",
      "[5,   300] loss: 0.680 acc: 76.16 time: 13.36\n",
      "TESTING:\n",
      "Accuracy of the network on the 10000 test images: 77.23 %\n",
      "Average loss on the 10000 test images: 0.674\n",
      "[6,   100] loss: 0.648 acc: 77.66 time: 8.74\n",
      "[6,   200] loss: 0.661 acc: 77.16 time: 8.58\n",
      "[6,   300] loss: 0.646 acc: 77.74 time: 8.54\n",
      "TESTING:\n",
      "Accuracy of the network on the 10000 test images: 77.74 %\n",
      "Average loss on the 10000 test images: 0.648\n",
      "[7,   100] loss: 0.622 acc: 78.18 time: 13.48\n",
      "[7,   200] loss: 0.628 acc: 78.41 time: 8.57\n",
      "[7,   300] loss: 0.631 acc: 78.41 time: 8.81\n",
      "TESTING:\n",
      "Accuracy of the network on the 10000 test images: 78.04 %\n",
      "Average loss on the 10000 test images: 0.642\n",
      "[8,   100] loss: 0.579 acc: 80.13 time: 8.68\n",
      "[8,   200] loss: 0.596 acc: 79.16 time: 9.64\n",
      "[8,   300] loss: 0.600 acc: 79.40 time: 12.73\n",
      "TESTING:\n",
      "Accuracy of the network on the 10000 test images: 77.03 %\n",
      "Average loss on the 10000 test images: 0.664\n",
      "[9,   100] loss: 0.582 acc: 79.78 time: 8.75\n",
      "[9,   200] loss: 0.564 acc: 80.31 time: 8.56\n",
      "[9,   300] loss: 0.553 acc: 80.93 time: 8.60\n",
      "TESTING:\n",
      "Accuracy of the network on the 10000 test images: 79.58 %\n",
      "Average loss on the 10000 test images: 0.602\n",
      "[10,   100] loss: 0.532 acc: 81.96 time: 8.78\n",
      "[10,   200] loss: 0.548 acc: 80.95 time: 8.78\n",
      "[10,   300] loss: 0.543 acc: 80.98 time: 8.68\n",
      "TESTING:\n",
      "Accuracy of the network on the 10000 test images: 80.46 %\n",
      "Average loss on the 10000 test images: 0.582\n",
      "[11,   100] loss: 0.465 acc: 84.38 time: 8.67\n",
      "[11,   200] loss: 0.436 acc: 84.97 time: 13.91\n",
      "[11,   300] loss: 0.432 acc: 84.75 time: 8.60\n",
      "TESTING:\n",
      "Accuracy of the network on the 10000 test images: 83.02 %\n",
      "Average loss on the 10000 test images: 0.496\n",
      "[12,   100] loss: 0.415 acc: 85.51 time: 8.64\n",
      "[12,   200] loss: 0.415 acc: 85.67 time: 8.66\n",
      "[12,   300] loss: 0.412 acc: 85.77 time: 8.74\n",
      "TESTING:\n",
      "Accuracy of the network on the 10000 test images: 83.66 %\n",
      "Average loss on the 10000 test images: 0.482\n",
      "[13,   100] loss: 0.391 acc: 86.41 time: 8.68\n",
      "[13,   200] loss: 0.391 acc: 86.41 time: 8.77\n",
      "[13,   300] loss: 0.402 acc: 86.45 time: 8.71\n",
      "TESTING:\n",
      "Accuracy of the network on the 10000 test images: 83.65 %\n",
      "Average loss on the 10000 test images: 0.484\n",
      "[14,   100] loss: 0.393 acc: 86.50 time: 11.34\n",
      "[14,   200] loss: 0.378 acc: 87.03 time: 11.15\n",
      "[14,   300] loss: 0.393 acc: 86.33 time: 8.60\n",
      "TESTING:\n",
      "Accuracy of the network on the 10000 test images: 84.16 %\n",
      "Average loss on the 10000 test images: 0.476\n",
      "[15,   100] loss: 0.379 acc: 87.09 time: 8.62\n",
      "[15,   200] loss: 0.387 acc: 86.61 time: 8.57\n",
      "[15,   300] loss: 0.374 acc: 87.05 time: 12.28\n",
      "TESTING:\n",
      "Accuracy of the network on the 10000 test images: 83.98 %\n",
      "Average loss on the 10000 test images: 0.478\n",
      "[16,   100] loss: 0.369 acc: 87.09 time: 8.63\n",
      "[16,   200] loss: 0.376 acc: 87.23 time: 8.62\n",
      "[16,   300] loss: 0.374 acc: 86.88 time: 8.51\n",
      "TESTING:\n",
      "Accuracy of the network on the 10000 test images: 83.97 %\n",
      "Average loss on the 10000 test images: 0.475\n",
      "[17,   100] loss: 0.371 acc: 87.11 time: 13.92\n",
      "[17,   200] loss: 0.375 acc: 87.20 time: 8.59\n",
      "[17,   300] loss: 0.364 acc: 87.23 time: 8.79\n",
      "TESTING:\n",
      "Accuracy of the network on the 10000 test images: 84.14 %\n",
      "Average loss on the 10000 test images: 0.471\n",
      "[18,   100] loss: 0.361 acc: 87.47 time: 8.58\n",
      "[18,   200] loss: 0.361 acc: 87.61 time: 8.60\n",
      "[18,   300] loss: 0.375 acc: 87.05 time: 14.06\n",
      "TESTING:\n",
      "Accuracy of the network on the 10000 test images: 84.21 %\n",
      "Average loss on the 10000 test images: 0.474\n",
      "[19,   100] loss: 0.361 acc: 87.38 time: 8.72\n",
      "[19,   200] loss: 0.356 acc: 87.70 time: 8.61\n",
      "[19,   300] loss: 0.353 acc: 87.65 time: 8.59\n",
      "TESTING:\n",
      "Accuracy of the network on the 10000 test images: 84.06 %\n",
      "Average loss on the 10000 test images: 0.474\n",
      "[20,   100] loss: 0.360 acc: 87.55 time: 9.73\n",
      "[20,   200] loss: 0.355 acc: 87.52 time: 8.54\n",
      "[20,   300] loss: 0.355 acc: 87.37 time: 8.74\n",
      "TESTING:\n",
      "Accuracy of the network on the 10000 test images: 84.14 %\n",
      "Average loss on the 10000 test images: 0.477\n",
      "Finished Training\n"
     ]
    }
   ],
   "source": [
    "train(net, criterion, optimizer, num_epochs=20, decay_epochs=10, init_lr=0.01, task='classification')"
   ]
  },
  {
   "cell_type": "markdown",
   "metadata": {
    "id": "xjVTp9jhefTi"
   },
   "source": [
    "##Supervised training on the randomly initialized model\n",
    "In this section, we will randomly initialize a ResNet18 model and re-train the whole model on the classification task."
   ]
  },
  {
   "cell_type": "code",
   "execution_count": 77,
   "metadata": {
    "id": "uEjy8TBieeLK"
   },
   "outputs": [],
   "source": [
    "import torch.nn as nn\n",
    "import torch.nn.functional as F\n",
    "\n",
    "from torchvision.models import resnet18\n",
    "\n",
    "# TODO: Randomly initialize a ResNet18 model\n",
    "#\n",
    "#\n",
    "#\n",
    "net = resnet18(num_classes=10, weights=None)\n",
    "net = net.to(device)"
   ]
  },
  {
   "cell_type": "code",
   "execution_count": 78,
   "metadata": {
    "id": "jEY90pK_0ZAm"
   },
   "outputs": [],
   "source": [
    "# TODO: Define criterion and optimizer\n",
    "criterion = nn.CrossEntropyLoss()\n",
    "optimizer = optim.Adam(net.parameters(), lr=0.001)"
   ]
  },
  {
   "cell_type": "code",
   "execution_count": 79,
   "metadata": {
    "id": "lMDwelhY0auO"
   },
   "outputs": [
    {
     "name": "stdout",
     "output_type": "stream",
     "text": [
      "[1,   100] loss: 2.220 acc: 24.91 time: 8.58\n",
      "[1,   200] loss: 1.839 acc: 33.33 time: 13.34\n",
      "[1,   300] loss: 1.679 acc: 37.99 time: 9.09\n",
      "TESTING:\n",
      "Accuracy of the network on the 10000 test images: 43.67 %\n",
      "Average loss on the 10000 test images: 1.554\n",
      "[2,   100] loss: 1.521 acc: 43.67 time: 8.65\n",
      "[2,   200] loss: 1.416 acc: 47.96 time: 8.73\n",
      "[2,   300] loss: 1.404 acc: 48.66 time: 8.73\n",
      "TESTING:\n",
      "Accuracy of the network on the 10000 test images: 53.93 %\n",
      "Average loss on the 10000 test images: 1.379\n",
      "[3,   100] loss: 1.256 acc: 54.75 time: 8.88\n",
      "[3,   200] loss: 1.194 acc: 56.64 time: 8.97\n",
      "[3,   300] loss: 1.162 acc: 58.30 time: 8.91\n",
      "TESTING:\n",
      "Accuracy of the network on the 10000 test images: 61.93 %\n",
      "Average loss on the 10000 test images: 1.071\n",
      "[4,   100] loss: 1.093 acc: 60.61 time: 13.19\n",
      "[4,   200] loss: 1.050 acc: 62.95 time: 11.27\n",
      "[4,   300] loss: 1.024 acc: 63.95 time: 8.90\n",
      "TESTING:\n",
      "Accuracy of the network on the 10000 test images: 64.95 %\n",
      "Average loss on the 10000 test images: 0.994\n",
      "[5,   100] loss: 0.977 acc: 66.12 time: 8.70\n",
      "[5,   200] loss: 0.960 acc: 66.04 time: 8.61\n",
      "[5,   300] loss: 0.923 acc: 67.50 time: 14.02\n",
      "TESTING:\n",
      "Accuracy of the network on the 10000 test images: 69.23 %\n",
      "Average loss on the 10000 test images: 0.893\n",
      "[6,   100] loss: 0.880 acc: 69.30 time: 8.61\n",
      "[6,   200] loss: 0.889 acc: 68.79 time: 8.61\n",
      "[6,   300] loss: 0.880 acc: 68.84 time: 8.56\n",
      "TESTING:\n",
      "Accuracy of the network on the 10000 test images: 71.80 %\n",
      "Average loss on the 10000 test images: 0.845\n",
      "[7,   100] loss: 0.830 acc: 70.69 time: 11.91\n",
      "[7,   200] loss: 0.821 acc: 71.41 time: 8.65\n",
      "[7,   300] loss: 0.808 acc: 71.83 time: 8.57\n",
      "TESTING:\n",
      "Accuracy of the network on the 10000 test images: 72.48 %\n",
      "Average loss on the 10000 test images: 0.817\n",
      "[8,   100] loss: 0.774 acc: 73.01 time: 8.60\n",
      "[8,   200] loss: 0.777 acc: 72.91 time: 11.11\n",
      "[8,   300] loss: 0.762 acc: 73.30 time: 11.36\n",
      "TESTING:\n",
      "Accuracy of the network on the 10000 test images: 72.53 %\n",
      "Average loss on the 10000 test images: 0.808\n",
      "[9,   100] loss: 0.731 acc: 74.83 time: 8.70\n",
      "[9,   200] loss: 0.724 acc: 75.03 time: 8.57\n",
      "[9,   300] loss: 0.722 acc: 74.66 time: 8.55\n",
      "TESTING:\n",
      "Accuracy of the network on the 10000 test images: 74.61 %\n",
      "Average loss on the 10000 test images: 0.751\n",
      "[10,   100] loss: 0.706 acc: 75.33 time: 8.57\n",
      "[10,   200] loss: 0.687 acc: 76.10 time: 8.58\n",
      "[10,   300] loss: 0.699 acc: 75.44 time: 8.71\n",
      "TESTING:\n",
      "Accuracy of the network on the 10000 test images: 75.47 %\n",
      "Average loss on the 10000 test images: 0.725\n",
      "[11,   100] loss: 0.619 acc: 78.73 time: 8.54\n",
      "[11,   200] loss: 0.561 acc: 80.70 time: 13.82\n",
      "[11,   300] loss: 0.576 acc: 79.85 time: 8.48\n",
      "TESTING:\n",
      "Accuracy of the network on the 10000 test images: 80.29 %\n",
      "Average loss on the 10000 test images: 0.573\n",
      "[12,   100] loss: 0.540 acc: 81.12 time: 8.65\n",
      "[12,   200] loss: 0.523 acc: 81.95 time: 8.54\n",
      "[12,   300] loss: 0.545 acc: 80.88 time: 8.55\n",
      "TESTING:\n",
      "Accuracy of the network on the 10000 test images: 80.28 %\n",
      "Average loss on the 10000 test images: 0.569\n",
      "[13,   100] loss: 0.499 acc: 82.66 time: 8.67\n",
      "[13,   200] loss: 0.513 acc: 82.57 time: 8.64\n",
      "[13,   300] loss: 0.521 acc: 82.12 time: 8.75\n",
      "TESTING:\n",
      "Accuracy of the network on the 10000 test images: 81.31 %\n",
      "Average loss on the 10000 test images: 0.551\n",
      "[14,   100] loss: 0.498 acc: 82.40 time: 12.18\n",
      "[14,   200] loss: 0.513 acc: 82.34 time: 10.33\n",
      "[14,   300] loss: 0.509 acc: 81.89 time: 8.56\n",
      "TESTING:\n",
      "Accuracy of the network on the 10000 test images: 81.29 %\n",
      "Average loss on the 10000 test images: 0.551\n",
      "[15,   100] loss: 0.483 acc: 83.09 time: 8.60\n",
      "[15,   200] loss: 0.500 acc: 82.15 time: 8.54\n",
      "[15,   300] loss: 0.487 acc: 83.05 time: 12.49\n",
      "TESTING:\n",
      "Accuracy of the network on the 10000 test images: 81.38 %\n",
      "Average loss on the 10000 test images: 0.539\n",
      "[16,   100] loss: 0.479 acc: 83.06 time: 8.62\n",
      "[16,   200] loss: 0.463 acc: 83.98 time: 8.72\n",
      "[16,   300] loss: 0.493 acc: 82.77 time: 8.64\n",
      "TESTING:\n",
      "Accuracy of the network on the 10000 test images: 81.65 %\n",
      "Average loss on the 10000 test images: 0.536\n",
      "[17,   100] loss: 0.472 acc: 83.84 time: 13.82\n",
      "[17,   200] loss: 0.470 acc: 83.76 time: 8.55\n",
      "[17,   300] loss: 0.466 acc: 83.68 time: 8.52\n",
      "TESTING:\n",
      "Accuracy of the network on the 10000 test images: 81.70 %\n",
      "Average loss on the 10000 test images: 0.532\n",
      "[18,   100] loss: 0.447 acc: 84.39 time: 8.49\n",
      "[18,   200] loss: 0.467 acc: 83.62 time: 8.47\n",
      "[18,   300] loss: 0.463 acc: 83.88 time: 13.85\n",
      "TESTING:\n",
      "Accuracy of the network on the 10000 test images: 81.94 %\n",
      "Average loss on the 10000 test images: 0.530\n",
      "[19,   100] loss: 0.452 acc: 84.10 time: 8.56\n",
      "[19,   200] loss: 0.445 acc: 84.56 time: 8.71\n",
      "[19,   300] loss: 0.461 acc: 83.98 time: 8.54\n",
      "TESTING:\n",
      "Accuracy of the network on the 10000 test images: 81.98 %\n",
      "Average loss on the 10000 test images: 0.526\n",
      "[20,   100] loss: 0.442 acc: 84.71 time: 10.58\n",
      "[20,   200] loss: 0.445 acc: 84.61 time: 8.46\n",
      "[20,   300] loss: 0.453 acc: 84.48 time: 8.54\n",
      "TESTING:\n",
      "Accuracy of the network on the 10000 test images: 81.25 %\n",
      "Average loss on the 10000 test images: 0.542\n",
      "Finished Training\n"
     ]
    }
   ],
   "source": [
    "train(net, criterion, optimizer, num_epochs=20, decay_epochs=10, init_lr=0.01, task='classification')"
   ]
  },
  {
   "cell_type": "code",
   "execution_count": null,
   "metadata": {},
   "outputs": [],
   "source": []
  },
  {
   "cell_type": "code",
   "execution_count": null,
   "metadata": {},
   "outputs": [],
   "source": []
  }
 ],
 "metadata": {
  "accelerator": "GPU",
  "colab": {
   "provenance": [
    {
     "file_id": "1qQ3NEaCUln7yDSksrEOnDwrt3u9dYNr4",
     "timestamp": 1677623843954
    }
   ]
  },
  "gpuClass": "standard",
  "kernelspec": {
   "display_name": "Python 3 (ipykernel)",
   "language": "python",
   "name": "python3"
  },
  "language_info": {
   "codemirror_mode": {
    "name": "ipython",
    "version": 3
   },
   "file_extension": ".py",
   "mimetype": "text/x-python",
   "name": "python",
   "nbconvert_exporter": "python",
   "pygments_lexer": "ipython3",
   "version": "3.9.13"
  }
 },
 "nbformat": 4,
 "nbformat_minor": 1
}
