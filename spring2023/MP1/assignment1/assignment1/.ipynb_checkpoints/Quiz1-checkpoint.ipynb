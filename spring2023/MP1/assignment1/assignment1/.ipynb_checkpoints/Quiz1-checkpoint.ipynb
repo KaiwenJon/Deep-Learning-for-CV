{
 "cells": [
  {
   "cell_type": "code",
   "execution_count": 2,
   "id": "edc8ca11",
   "metadata": {},
   "outputs": [
    {
     "data": {
      "text/plain": [
       "array([-1.76, -3.32, -2.04])"
      ]
     },
     "execution_count": 2,
     "metadata": {},
     "output_type": "execute_result"
    }
   ],
   "source": [
    "import numpy as np\n",
    "x = np.array([-1.7,  1.7,  1.4,  1.0,  0.0])\n",
    "w = np.array([[-1.6, -1.6, -1.4, -1.7,  0.3],\n",
    "              [ 0.1, -0.5, -1.0, -0.8, -1.8],\n",
    "              [ 1.7, -0.1, -0.7,  0.5,  1.9]])\n",
    "b = np.array([1.9, -0.1, 1.5])\n",
    "x @ w.T + b"
   ]
  },
  {
   "cell_type": "code",
   "execution_count": 5,
   "id": "7436c753",
   "metadata": {},
   "outputs": [
    {
     "data": {
      "text/plain": [
       "array([0.20550031])"
      ]
     },
     "execution_count": 5,
     "metadata": {},
     "output_type": "execute_result"
    }
   ],
   "source": [
    "def sigmoid(z: np.ndarray) -> np.ndarray:\n",
    "    \"\"\"Sigmoid function.\n",
    "\n",
    "    Parameters:\n",
    "        z: the input\n",
    "\n",
    "    Returns:\n",
    "        the sigmoid of the input\n",
    "    \"\"\"\n",
    "    # TODO: implement me\n",
    "    return 1 / (1 + np.exp(-z))\n",
    "x = np.array([0.9])\n",
    "sigmoid(x) * (1-sigmoid(x))"
   ]
  },
  {
   "cell_type": "code",
   "execution_count": null,
   "id": "ac415d8f",
   "metadata": {},
   "outputs": [],
   "source": [
    "w = np.array([[-1.1, -0.4,  1.6,  0.7],\n",
    "              [ 1.7,  0.1, -1.9, -1.5],\n",
    "              [-0.8,  1.8,  1.9, -1.6]])\n",
    "x = np.array([ 0.7,  1.9, -0.9, -1.4])"
   ]
  }
 ],
 "metadata": {
  "kernelspec": {
   "display_name": "Python 3 (ipykernel)",
   "language": "python",
   "name": "python3"
  },
  "language_info": {
   "codemirror_mode": {
    "name": "ipython",
    "version": 3
   },
   "file_extension": ".py",
   "mimetype": "text/x-python",
   "name": "python",
   "nbconvert_exporter": "python",
   "pygments_lexer": "ipython3",
   "version": "3.8.10"
  }
 },
 "nbformat": 4,
 "nbformat_minor": 5
}
