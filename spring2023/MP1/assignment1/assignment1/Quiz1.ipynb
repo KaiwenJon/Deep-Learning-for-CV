{
 "cells": [
  {
   "cell_type": "code",
   "execution_count": 2,
   "id": "99c663cd",
   "metadata": {},
   "outputs": [
    {
     "data": {
      "text/plain": [
       "array([-1.76, -3.32, -2.04])"
      ]
     },
     "execution_count": 2,
     "metadata": {},
     "output_type": "execute_result"
    }
   ],
   "source": [
    "import numpy as np\n",
    "x = np.array([-1.7,  1.7,  1.4,  1.0,  0.0])\n",
    "w = np.array([[-1.6, -1.6, -1.4, -1.7,  0.3],\n",
    "              [ 0.1, -0.5, -1.0, -0.8, -1.8],\n",
    "              [ 1.7, -0.1, -0.7,  0.5,  1.9]])\n",
    "b = np.array([1.9, -0.1, 1.5])\n",
    "x @ w.T + b"
   ]
  },
  {
   "cell_type": "code",
   "execution_count": 5,
   "id": "bc44ca9b",
   "metadata": {},
   "outputs": [
    {
     "data": {
      "text/plain": [
       "array([0.20550031])"
      ]
     },
     "execution_count": 5,
     "metadata": {},
     "output_type": "execute_result"
    }
   ],
   "source": [
    "def sigmoid(z: np.ndarray) -> np.ndarray:\n",
    "    \"\"\"Sigmoid function.\n",
    "\n",
    "    Parameters:\n",
    "        z: the input\n",
    "\n",
    "    Returns:\n",
    "        the sigmoid of the input\n",
    "    \"\"\"\n",
    "    # TODO: implement me\n",
    "    return 1 / (1 + np.exp(-z))\n",
    "x = np.array([0.9])\n",
    "sigmoid(x) * (1-sigmoid(x))"
   ]
  },
  {
   "cell_type": "code",
   "execution_count": 7,
   "id": "98c0aaf5",
   "metadata": {},
   "outputs": [
    {
     "name": "stdout",
     "output_type": "stream",
     "text": [
      "[ 0.60064895  1.63033287 -0.77226294 -1.20129791]\n"
     ]
    }
   ],
   "source": [
    "w = np.array([[-1.1, -0.4,  1.6,  0.7],\n",
    "              [ 1.7,  0.1, -1.9, -1.5],\n",
    "              [-0.8,  1.8,  1.9, -1.6]])\n",
    "# cats, dogs and rabbits\n",
    "x = np.array([ 0.7,  1.9, -0.9, -1.4]) # label = cat\n",
    "# what’s the second component of the gradient w.r.t the weight vector for dog? cross entropy\n",
    "s = 0\n",
    "for i in range(3):\n",
    "    s += np.exp(x @ w[i, :].T)\n",
    "w1 = (np.exp(x @ w[1, :].T) * x) / s\n",
    "print(w1)"
   ]
  },
  {
   "cell_type": "code",
   "execution_count": 8,
   "id": "415dc574",
   "metadata": {},
   "outputs": [
    {
     "data": {
      "text/plain": [
       "0.08709999999999996"
      ]
     },
     "execution_count": 8,
     "metadata": {},
     "output_type": "execute_result"
    }
   ],
   "source": [
    "1 - 0.0321 -0.2369 - 0.6439"
   ]
  },
  {
   "cell_type": "code",
   "execution_count": 12,
   "id": "f3214312",
   "metadata": {},
   "outputs": [
    {
     "name": "stdout",
     "output_type": "stream",
     "text": [
      "[[-0.2244898 ]\n",
      " [ 1.28571429]]\n"
     ]
    }
   ],
   "source": [
    "x0=0.0\n",
    "y0=1\n",
    "\n",
    "x1=1.0\n",
    "y1=1\n",
    "\n",
    "x2=4.0\n",
    "y2=1\n",
    "\n",
    "x3=9.0\n",
    "y3=-1\n",
    "\n",
    "X = np.array([[x0, 1],\n",
    "              [x1, 1],\n",
    "              [x2, 1],\n",
    "              [x3, 1]])\n",
    "# weight = np.array([[w],\n",
    "#                    [b]])\n",
    "y = np.array([[y0],\n",
    "              [y1],\n",
    "              [y2],\n",
    "              [y3],])\n",
    "w = np.linalg.inv(X.T @ X) @ X.T @ y\n",
    "print(w)"
   ]
  },
  {
   "cell_type": "code",
   "execution_count": 24,
   "id": "5b5c22bb",
   "metadata": {},
   "outputs": [
    {
     "name": "stdout",
     "output_type": "stream",
     "text": [
      "[[0, 0], [-1, 2], [1, -2], [1, 2]]\n",
      "w 1 norm:  1.118033988749895\n",
      "w 2 norm:  0.10604747631732328\n",
      "w 3 norm:  2.1300205011824667\n",
      "w 4 norm:  0.014965669629973236\n"
     ]
    }
   ],
   "source": [
    "def sigmoid(z: np.ndarray) -> np.ndarray:\n",
    "    \"\"\"Sigmoid function.\n",
    "\n",
    "    Parameters:\n",
    "        z: the input\n",
    "\n",
    "    Returns:\n",
    "        the sigmoid of the input\n",
    "    \"\"\"\n",
    "    # TODO: implement me\n",
    "    return 1 / (1 + np.exp(-z))\n",
    "\n",
    "w = [[], [], [], []]\n",
    "w[0] = [0, 0]\n",
    "w[1] = [-1, 2]\n",
    "w[2] = [1, -2]\n",
    "w[3] = [1, 2]\n",
    "print(w)\n",
    "for i in range(4):\n",
    "    weight = np.array(w[i])\n",
    "    x = np.array([1, 2])\n",
    "    y = 1\n",
    "    grad = -sigmoid(-y*weight.T@x)*y*x\n",
    "    print(\"w\", i+1, \"norm: \",np.linalg.norm(grad))"
   ]
  },
  {
   "cell_type": "code",
   "execution_count": null,
   "id": "29179783",
   "metadata": {},
   "outputs": [],
   "source": []
  }
 ],
 "metadata": {
  "kernelspec": {
   "display_name": "Python 3 (ipykernel)",
   "language": "python",
   "name": "python3"
  },
  "language_info": {
   "codemirror_mode": {
    "name": "ipython",
    "version": 3
   },
   "file_extension": ".py",
   "mimetype": "text/x-python",
   "name": "python",
   "nbconvert_exporter": "python",
   "pygments_lexer": "ipython3",
   "version": "3.8.10"
  }
 },
 "nbformat": 4,
 "nbformat_minor": 5
}
