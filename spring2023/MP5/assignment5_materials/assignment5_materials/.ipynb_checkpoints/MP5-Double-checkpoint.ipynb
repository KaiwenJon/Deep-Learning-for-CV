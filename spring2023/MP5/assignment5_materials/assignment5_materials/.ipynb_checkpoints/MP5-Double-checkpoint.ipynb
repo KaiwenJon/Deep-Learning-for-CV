{
 "cells": [
  {
   "cell_type": "markdown",
   "metadata": {},
   "source": [
    "# Deep Q-Learning "
   ]
  },
  {
   "cell_type": "markdown",
   "metadata": {},
   "source": [
    "Install dependencies for AI gym to run properly (shouldn't take more than a minute). If running on google cloud or running locally, only need to run once. Colab may require installing everytime the vm shuts down."
   ]
  },
  {
   "cell_type": "code",
   "execution_count": null,
   "metadata": {},
   "outputs": [],
   "source": [
    "!pip3 install gym pyvirtualdisplay\n",
    "!sudo apt-get install -y xvfb python-opengl ffmpeg"
   ]
  },
  {
   "cell_type": "code",
   "execution_count": null,
   "metadata": {},
   "outputs": [],
   "source": [
    "!pip3 install --upgrade setuptools --user\n",
    "!pip3 install ez_setup \n",
    "!pip3 install gym[atari] \n",
    "!pip3 install gym[accept-rom-license] "
   ]
  },
  {
   "cell_type": "markdown",
   "metadata": {},
   "source": [
    "For this assignment we will implement the Deep Q-Learning algorithm with Experience Replay as described in breakthrough paper __\"Playing Atari with Deep Reinforcement Learning\"__. We will train an agent to play the famous game of __Breakout__."
   ]
  },
  {
   "cell_type": "code",
   "execution_count": 1,
   "metadata": {},
   "outputs": [],
   "source": [
    "%load_ext autoreload\n",
    "%autoreload 2"
   ]
  },
  {
   "cell_type": "code",
   "execution_count": 2,
   "metadata": {},
   "outputs": [],
   "source": [
    "%matplotlib inline\n",
    "import sys\n",
    "import gym\n",
    "import torch\n",
    "import pylab\n",
    "import random\n",
    "import numpy as np\n",
    "from collections import deque\n",
    "from datetime import datetime\n",
    "from copy import deepcopy\n",
    "import torch.nn as nn\n",
    "import torch.optim as optim\n",
    "import torch.nn.functional as F\n",
    "from torch.autograd import Variable\n",
    "from utils import find_max_lives, check_live, get_frame, get_init_state\n",
    "from model import DQN\n",
    "from config import *\n",
    "\n",
    "import matplotlib.pyplot as plt"
   ]
  },
  {
   "cell_type": "markdown",
   "metadata": {},
   "source": [
    "## Understanding the environment"
   ]
  },
  {
   "cell_type": "markdown",
   "metadata": {},
   "source": [
    "In the following cell, we initialize our game of __Breakout__ and you can see how the environment looks like. For further documentation of the of the environment refer to https://www.gymlibrary.dev/environments/atari/breakout/. \n",
    "\n",
    "In breakout, we will use 3 actions \"fire\", \"left\", and \"right\". \"fire\" is only used to reset the game when a life is lost, \"left\" moves the agent left and \"right\" moves the agent right."
   ]
  },
  {
   "cell_type": "code",
   "execution_count": 4,
   "metadata": {},
   "outputs": [],
   "source": [
    "env = gym.make('BreakoutDeterministic-v4')\n",
    "state = env.reset()"
   ]
  },
  {
   "cell_type": "code",
   "execution_count": 5,
   "metadata": {},
   "outputs": [],
   "source": [
    "number_lives = find_max_lives(env)\n",
    "state_size = env.observation_space.shape\n",
    "action_size = 3 #fire, left, and right"
   ]
  },
  {
   "cell_type": "markdown",
   "metadata": {},
   "source": [
    "## Creating a DQN Agent"
   ]
  },
  {
   "cell_type": "markdown",
   "metadata": {},
   "source": [
    "Here we create a DQN Agent. This agent is defined in the __agent.py__. The corresponding neural network is defined in the __model.py__. Once you've created a working DQN agent, use the code in agent.py to create a double DQN agent in __agent_double.py__. Set the flag \"double_dqn\" to True to train the double DQN agent.\n",
    "\n",
    "__Evaluation Reward__ : The average reward received in the past 100 episodes/games.\n",
    "\n",
    "__Frame__ : Number of frames processed in total.\n",
    "\n",
    "__Memory Size__ : The current size of the replay memory."
   ]
  },
  {
   "cell_type": "code",
   "execution_count": 6,
   "metadata": {},
   "outputs": [],
   "source": [
    "double_dqn = True # set to True if using double DQN agent\n",
    "\n",
    "if double_dqn:\n",
    "    from agent_double import Agent\n",
    "else:\n",
    "    from agent import Agent\n",
    "\n",
    "agent = Agent(action_size)\n",
    "evaluation_reward = deque(maxlen=evaluation_reward_length)\n",
    "frame = 0\n",
    "memory_size = 0"
   ]
  },
  {
   "cell_type": "markdown",
   "metadata": {},
   "source": [
    "### Main Training Loop"
   ]
  },
  {
   "cell_type": "markdown",
   "metadata": {},
   "source": [
    "In this training loop, we do not render the screen because it slows down training signficantly. To watch the agent play the game, run the code in next section \"Visualize Agent Performance\""
   ]
  },
  {
   "cell_type": "code",
   "execution_count": 7,
   "metadata": {
    "scrolled": true
   },
   "outputs": [
    {
     "name": "stderr",
     "output_type": "stream",
     "text": [
      "/tmp/ipykernel_84156/607054412.py:20: VisibleDeprecationWarning: Creating an ndarray from ragged nested sequences (which is a list-or-tuple of lists-or-tuples-or ndarrays with different lengths or shapes) is deprecated. If you meant to do this, you must specify 'dtype=object' when creating the ndarray.\n",
      "  if step > 1 and len(np.unique(next_state[:189] == state[:189])) < 2:\n",
      "/tmp/ipykernel_84156/607054412.py:20: DeprecationWarning: elementwise comparison failed; this will raise an error in the future.\n",
      "  if step > 1 and len(np.unique(next_state[:189] == state[:189])) < 2:\n"
     ]
    },
    {
     "name": "stdout",
     "output_type": "stream",
     "text": [
      "epis: 0   score: 0.0   mem len: 122   epsilon: 1.0    steps: 122    lr: 0.0001     reward: 0.0\n",
      "epis: 1   score: 1.0   mem len: 273   epsilon: 1.0    steps: 151    lr: 0.0001     reward: 0.5\n",
      "epis: 2   score: 0.0   mem len: 395   epsilon: 1.0    steps: 122    lr: 0.0001     reward: 0.33\n",
      "epis: 3   score: 3.0   mem len: 661   epsilon: 1.0    steps: 266    lr: 0.0001     reward: 1.0\n",
      "epis: 4   score: 1.0   mem len: 831   epsilon: 1.0    steps: 170    lr: 0.0001     reward: 1.0\n",
      "epis: 5   score: 2.0   mem len: 1049   epsilon: 1.0    steps: 218    lr: 0.0001     reward: 1.17\n",
      "epis: 6   score: 2.0   mem len: 1265   epsilon: 1.0    steps: 216    lr: 0.0001     reward: 1.29\n",
      "epis: 7   score: 1.0   mem len: 1433   epsilon: 1.0    steps: 168    lr: 0.0001     reward: 1.25\n",
      "epis: 8   score: 3.0   mem len: 1679   epsilon: 1.0    steps: 246    lr: 0.0001     reward: 1.44\n",
      "epis: 9   score: 1.0   mem len: 1848   epsilon: 1.0    steps: 169    lr: 0.0001     reward: 1.4\n",
      "epis: 10   score: 2.0   mem len: 2030   epsilon: 1.0    steps: 182    lr: 0.0001     reward: 1.45\n",
      "epis: 11   score: 1.0   mem len: 2199   epsilon: 1.0    steps: 169    lr: 0.0001     reward: 1.42\n",
      "epis: 12   score: 2.0   mem len: 2379   epsilon: 1.0    steps: 180    lr: 0.0001     reward: 1.46\n",
      "epis: 13   score: 0.0   mem len: 2501   epsilon: 1.0    steps: 122    lr: 0.0001     reward: 1.36\n",
      "epis: 14   score: 3.0   mem len: 2745   epsilon: 1.0    steps: 244    lr: 0.0001     reward: 1.47\n",
      "epis: 15   score: 0.0   mem len: 2868   epsilon: 1.0    steps: 123    lr: 0.0001     reward: 1.38\n",
      "epis: 16   score: 1.0   mem len: 3036   epsilon: 1.0    steps: 168    lr: 0.0001     reward: 1.35\n",
      "epis: 17   score: 1.0   mem len: 3188   epsilon: 1.0    steps: 152    lr: 0.0001     reward: 1.33\n",
      "epis: 18   score: 4.0   mem len: 3448   epsilon: 1.0    steps: 260    lr: 0.0001     reward: 1.47\n",
      "epis: 19   score: 5.0   mem len: 3755   epsilon: 1.0    steps: 307    lr: 0.0001     reward: 1.65\n",
      "epis: 20   score: 2.0   mem len: 3953   epsilon: 1.0    steps: 198    lr: 0.0001     reward: 1.67\n",
      "epis: 21   score: 1.0   mem len: 4124   epsilon: 1.0    steps: 171    lr: 0.0001     reward: 1.64\n",
      "epis: 22   score: 4.0   mem len: 4401   epsilon: 1.0    steps: 277    lr: 0.0001     reward: 1.74\n",
      "epis: 23   score: 1.0   mem len: 4569   epsilon: 1.0    steps: 168    lr: 0.0001     reward: 1.71\n",
      "epis: 24   score: 2.0   mem len: 4787   epsilon: 1.0    steps: 218    lr: 0.0001     reward: 1.72\n",
      "epis: 25   score: 1.0   mem len: 4937   epsilon: 1.0    steps: 150    lr: 0.0001     reward: 1.69\n",
      "epis: 26   score: 4.0   mem len: 5212   epsilon: 1.0    steps: 275    lr: 0.0001     reward: 1.78\n",
      "epis: 27   score: 0.0   mem len: 5334   epsilon: 1.0    steps: 122    lr: 0.0001     reward: 1.71\n",
      "epis: 28   score: 0.0   mem len: 5457   epsilon: 1.0    steps: 123    lr: 0.0001     reward: 1.66\n",
      "epis: 29   score: 1.0   mem len: 5608   epsilon: 1.0    steps: 151    lr: 0.0001     reward: 1.63\n",
      "epis: 30   score: 0.0   mem len: 5731   epsilon: 1.0    steps: 123    lr: 0.0001     reward: 1.58\n",
      "epis: 31   score: 2.0   mem len: 5950   epsilon: 1.0    steps: 219    lr: 0.0001     reward: 1.59\n",
      "epis: 32   score: 1.0   mem len: 6101   epsilon: 1.0    steps: 151    lr: 0.0001     reward: 1.58\n",
      "epis: 33   score: 0.0   mem len: 6223   epsilon: 1.0    steps: 122    lr: 0.0001     reward: 1.53\n",
      "epis: 34   score: 2.0   mem len: 6439   epsilon: 1.0    steps: 216    lr: 0.0001     reward: 1.54\n",
      "epis: 35   score: 3.0   mem len: 6686   epsilon: 1.0    steps: 247    lr: 0.0001     reward: 1.58\n",
      "epis: 36   score: 0.0   mem len: 6808   epsilon: 1.0    steps: 122    lr: 0.0001     reward: 1.54\n",
      "epis: 37   score: 1.0   mem len: 6959   epsilon: 1.0    steps: 151    lr: 0.0001     reward: 1.53\n",
      "epis: 38   score: 2.0   mem len: 7157   epsilon: 1.0    steps: 198    lr: 0.0001     reward: 1.54\n",
      "epis: 39   score: 0.0   mem len: 7280   epsilon: 1.0    steps: 123    lr: 0.0001     reward: 1.5\n",
      "epis: 40   score: 1.0   mem len: 7430   epsilon: 1.0    steps: 150    lr: 0.0001     reward: 1.49\n",
      "epis: 41   score: 2.0   mem len: 7628   epsilon: 1.0    steps: 198    lr: 0.0001     reward: 1.5\n",
      "epis: 42   score: 1.0   mem len: 7797   epsilon: 1.0    steps: 169    lr: 0.0001     reward: 1.49\n",
      "epis: 43   score: 1.0   mem len: 7968   epsilon: 1.0    steps: 171    lr: 0.0001     reward: 1.48\n",
      "epis: 44   score: 0.0   mem len: 8091   epsilon: 1.0    steps: 123    lr: 0.0001     reward: 1.44\n",
      "epis: 45   score: 1.0   mem len: 8242   epsilon: 1.0    steps: 151    lr: 0.0001     reward: 1.43\n",
      "epis: 46   score: 3.0   mem len: 8486   epsilon: 1.0    steps: 244    lr: 0.0001     reward: 1.47\n",
      "epis: 47   score: 4.0   mem len: 8763   epsilon: 1.0    steps: 277    lr: 0.0001     reward: 1.52\n",
      "epis: 48   score: 1.0   mem len: 8914   epsilon: 1.0    steps: 151    lr: 0.0001     reward: 1.51\n",
      "epis: 49   score: 1.0   mem len: 9083   epsilon: 1.0    steps: 169    lr: 0.0001     reward: 1.5\n",
      "epis: 50   score: 1.0   mem len: 9254   epsilon: 1.0    steps: 171    lr: 0.0001     reward: 1.49\n",
      "epis: 51   score: 0.0   mem len: 9377   epsilon: 1.0    steps: 123    lr: 0.0001     reward: 1.46\n",
      "epis: 52   score: 4.0   mem len: 9655   epsilon: 1.0    steps: 278    lr: 0.0001     reward: 1.51\n",
      "epis: 53   score: 1.0   mem len: 9824   epsilon: 1.0    steps: 169    lr: 0.0001     reward: 1.5\n",
      "epis: 54   score: 0.0   mem len: 9947   epsilon: 1.0    steps: 123    lr: 0.0001     reward: 1.47\n",
      "epis: 55   score: 2.0   mem len: 10127   epsilon: 1.0    steps: 180    lr: 0.0001     reward: 1.48\n",
      "epis: 56   score: 1.0   mem len: 10298   epsilon: 1.0    steps: 171    lr: 0.0001     reward: 1.47\n",
      "epis: 57   score: 3.0   mem len: 10531   epsilon: 1.0    steps: 233    lr: 0.0001     reward: 1.5\n",
      "epis: 58   score: 1.0   mem len: 10701   epsilon: 1.0    steps: 170    lr: 0.0001     reward: 1.49\n",
      "epis: 59   score: 2.0   mem len: 10919   epsilon: 1.0    steps: 218    lr: 0.0001     reward: 1.5\n",
      "epis: 60   score: 0.0   mem len: 11042   epsilon: 1.0    steps: 123    lr: 0.0001     reward: 1.48\n",
      "epis: 61   score: 1.0   mem len: 11212   epsilon: 1.0    steps: 170    lr: 0.0001     reward: 1.47\n",
      "epis: 62   score: 2.0   mem len: 11429   epsilon: 1.0    steps: 217    lr: 0.0001     reward: 1.48\n",
      "epis: 63   score: 1.0   mem len: 11580   epsilon: 1.0    steps: 151    lr: 0.0001     reward: 1.47\n",
      "epis: 64   score: 2.0   mem len: 11778   epsilon: 1.0    steps: 198    lr: 0.0001     reward: 1.48\n",
      "epis: 65   score: 2.0   mem len: 11976   epsilon: 1.0    steps: 198    lr: 0.0001     reward: 1.48\n",
      "epis: 66   score: 0.0   mem len: 12099   epsilon: 1.0    steps: 123    lr: 0.0001     reward: 1.46\n",
      "epis: 67   score: 0.0   mem len: 12222   epsilon: 1.0    steps: 123    lr: 0.0001     reward: 1.44\n",
      "epis: 68   score: 2.0   mem len: 12419   epsilon: 1.0    steps: 197    lr: 0.0001     reward: 1.45\n",
      "epis: 69   score: 4.0   mem len: 12686   epsilon: 1.0    steps: 267    lr: 0.0001     reward: 1.49\n",
      "epis: 70   score: 2.0   mem len: 12883   epsilon: 1.0    steps: 197    lr: 0.0001     reward: 1.49\n",
      "epis: 71   score: 0.0   mem len: 13005   epsilon: 1.0    steps: 122    lr: 0.0001     reward: 1.47\n",
      "epis: 72   score: 2.0   mem len: 13187   epsilon: 1.0    steps: 182    lr: 0.0001     reward: 1.48\n",
      "epis: 73   score: 1.0   mem len: 13355   epsilon: 1.0    steps: 168    lr: 0.0001     reward: 1.47\n",
      "epis: 74   score: 1.0   mem len: 13507   epsilon: 1.0    steps: 152    lr: 0.0001     reward: 1.47\n",
      "epis: 75   score: 0.0   mem len: 13630   epsilon: 1.0    steps: 123    lr: 0.0001     reward: 1.45\n",
      "epis: 76   score: 4.0   mem len: 13925   epsilon: 1.0    steps: 295    lr: 0.0001     reward: 1.48\n",
      "epis: 77   score: 0.0   mem len: 14048   epsilon: 1.0    steps: 123    lr: 0.0001     reward: 1.46\n",
      "epis: 78   score: 1.0   mem len: 14199   epsilon: 1.0    steps: 151    lr: 0.0001     reward: 1.46\n",
      "epis: 79   score: 3.0   mem len: 14448   epsilon: 1.0    steps: 249    lr: 0.0001     reward: 1.48\n",
      "epis: 80   score: 3.0   mem len: 14695   epsilon: 1.0    steps: 247    lr: 0.0001     reward: 1.49\n",
      "epis: 81   score: 0.0   mem len: 14817   epsilon: 1.0    steps: 122    lr: 0.0001     reward: 1.48\n",
      "epis: 82   score: 2.0   mem len: 15036   epsilon: 1.0    steps: 219    lr: 0.0001     reward: 1.48\n",
      "epis: 83   score: 2.0   mem len: 15216   epsilon: 1.0    steps: 180    lr: 0.0001     reward: 1.49\n"
     ]
    },
    {
     "name": "stdout",
     "output_type": "stream",
     "text": [
      "epis: 84   score: 0.0   mem len: 15339   epsilon: 1.0    steps: 123    lr: 0.0001     reward: 1.47\n",
      "epis: 85   score: 0.0   mem len: 15462   epsilon: 1.0    steps: 123    lr: 0.0001     reward: 1.45\n",
      "epis: 86   score: 0.0   mem len: 15584   epsilon: 1.0    steps: 122    lr: 0.0001     reward: 1.44\n",
      "epis: 87   score: 1.0   mem len: 15734   epsilon: 1.0    steps: 150    lr: 0.0001     reward: 1.43\n",
      "epis: 88   score: 2.0   mem len: 15949   epsilon: 1.0    steps: 215    lr: 0.0001     reward: 1.44\n",
      "epis: 89   score: 0.0   mem len: 16072   epsilon: 1.0    steps: 123    lr: 0.0001     reward: 1.42\n",
      "epis: 90   score: 2.0   mem len: 16272   epsilon: 1.0    steps: 200    lr: 0.0001     reward: 1.43\n",
      "epis: 91   score: 1.0   mem len: 16424   epsilon: 1.0    steps: 152    lr: 0.0001     reward: 1.42\n",
      "epis: 92   score: 1.0   mem len: 16595   epsilon: 1.0    steps: 171    lr: 0.0001     reward: 1.42\n",
      "epis: 93   score: 1.0   mem len: 16763   epsilon: 1.0    steps: 168    lr: 0.0001     reward: 1.41\n",
      "epis: 94   score: 1.0   mem len: 16933   epsilon: 1.0    steps: 170    lr: 0.0001     reward: 1.41\n",
      "epis: 95   score: 5.0   mem len: 17279   epsilon: 1.0    steps: 346    lr: 0.0001     reward: 1.45\n",
      "epis: 96   score: 1.0   mem len: 17430   epsilon: 1.0    steps: 151    lr: 0.0001     reward: 1.44\n",
      "epis: 97   score: 2.0   mem len: 17628   epsilon: 1.0    steps: 198    lr: 0.0001     reward: 1.45\n",
      "epis: 98   score: 2.0   mem len: 17825   epsilon: 1.0    steps: 197    lr: 0.0001     reward: 1.45\n",
      "epis: 99   score: 0.0   mem len: 17947   epsilon: 1.0    steps: 122    lr: 0.0001     reward: 1.44\n",
      "epis: 100   score: 0.0   mem len: 18069   epsilon: 1.0    steps: 122    lr: 0.0001     reward: 1.44\n",
      "epis: 101   score: 0.0   mem len: 18192   epsilon: 1.0    steps: 123    lr: 0.0001     reward: 1.43\n",
      "epis: 102   score: 2.0   mem len: 18410   epsilon: 1.0    steps: 218    lr: 0.0001     reward: 1.45\n",
      "epis: 103   score: 2.0   mem len: 18629   epsilon: 1.0    steps: 219    lr: 0.0001     reward: 1.44\n",
      "epis: 104   score: 1.0   mem len: 18797   epsilon: 1.0    steps: 168    lr: 0.0001     reward: 1.44\n",
      "epis: 105   score: 2.0   mem len: 18977   epsilon: 1.0    steps: 180    lr: 0.0001     reward: 1.44\n",
      "epis: 106   score: 1.0   mem len: 19148   epsilon: 1.0    steps: 171    lr: 0.0001     reward: 1.43\n",
      "epis: 107   score: 2.0   mem len: 19364   epsilon: 1.0    steps: 216    lr: 0.0001     reward: 1.44\n",
      "epis: 108   score: 1.0   mem len: 19532   epsilon: 1.0    steps: 168    lr: 0.0001     reward: 1.42\n",
      "epis: 109   score: 0.0   mem len: 19655   epsilon: 1.0    steps: 123    lr: 0.0001     reward: 1.41\n",
      "epis: 110   score: 1.0   mem len: 19824   epsilon: 1.0    steps: 169    lr: 0.0001     reward: 1.4\n",
      "epis: 111   score: 1.0   mem len: 19975   epsilon: 1.0    steps: 151    lr: 0.0001     reward: 1.4\n",
      "epis: 112   score: 6.0   mem len: 20365   epsilon: 1.0    steps: 390    lr: 0.0001     reward: 1.44\n",
      "epis: 113   score: 0.0   mem len: 20487   epsilon: 1.0    steps: 122    lr: 0.0001     reward: 1.44\n",
      "epis: 114   score: 2.0   mem len: 20706   epsilon: 1.0    steps: 219    lr: 0.0001     reward: 1.43\n",
      "epis: 115   score: 1.0   mem len: 20874   epsilon: 1.0    steps: 168    lr: 0.0001     reward: 1.44\n",
      "epis: 116   score: 4.0   mem len: 21171   epsilon: 1.0    steps: 297    lr: 0.0001     reward: 1.47\n",
      "epis: 117   score: 2.0   mem len: 21368   epsilon: 1.0    steps: 197    lr: 0.0001     reward: 1.48\n",
      "epis: 118   score: 0.0   mem len: 21491   epsilon: 1.0    steps: 123    lr: 0.0001     reward: 1.44\n",
      "epis: 119   score: 2.0   mem len: 21670   epsilon: 1.0    steps: 179    lr: 0.0001     reward: 1.41\n",
      "epis: 120   score: 0.0   mem len: 21793   epsilon: 1.0    steps: 123    lr: 0.0001     reward: 1.39\n",
      "epis: 121   score: 0.0   mem len: 21915   epsilon: 1.0    steps: 122    lr: 0.0001     reward: 1.38\n",
      "epis: 122   score: 2.0   mem len: 22113   epsilon: 1.0    steps: 198    lr: 0.0001     reward: 1.36\n",
      "epis: 123   score: 2.0   mem len: 22311   epsilon: 1.0    steps: 198    lr: 0.0001     reward: 1.37\n",
      "epis: 124   score: 0.0   mem len: 22434   epsilon: 1.0    steps: 123    lr: 0.0001     reward: 1.35\n",
      "epis: 125   score: 2.0   mem len: 22632   epsilon: 1.0    steps: 198    lr: 0.0001     reward: 1.36\n",
      "epis: 126   score: 2.0   mem len: 22830   epsilon: 1.0    steps: 198    lr: 0.0001     reward: 1.34\n",
      "epis: 127   score: 0.0   mem len: 22952   epsilon: 1.0    steps: 122    lr: 0.0001     reward: 1.34\n",
      "epis: 128   score: 2.0   mem len: 23150   epsilon: 1.0    steps: 198    lr: 0.0001     reward: 1.36\n",
      "epis: 129   score: 2.0   mem len: 23348   epsilon: 1.0    steps: 198    lr: 0.0001     reward: 1.37\n",
      "epis: 130   score: 1.0   mem len: 23518   epsilon: 1.0    steps: 170    lr: 0.0001     reward: 1.38\n",
      "epis: 131   score: 2.0   mem len: 23719   epsilon: 1.0    steps: 201    lr: 0.0001     reward: 1.38\n",
      "epis: 132   score: 2.0   mem len: 23917   epsilon: 1.0    steps: 198    lr: 0.0001     reward: 1.39\n",
      "epis: 133   score: 0.0   mem len: 24040   epsilon: 1.0    steps: 123    lr: 0.0001     reward: 1.39\n",
      "epis: 134   score: 0.0   mem len: 24163   epsilon: 1.0    steps: 123    lr: 0.0001     reward: 1.37\n",
      "epis: 135   score: 4.0   mem len: 24483   epsilon: 1.0    steps: 320    lr: 0.0001     reward: 1.38\n",
      "epis: 136   score: 5.0   mem len: 24806   epsilon: 1.0    steps: 323    lr: 0.0001     reward: 1.43\n",
      "epis: 137   score: 5.0   mem len: 25144   epsilon: 1.0    steps: 338    lr: 0.0001     reward: 1.47\n",
      "epis: 138   score: 2.0   mem len: 25364   epsilon: 1.0    steps: 220    lr: 0.0001     reward: 1.47\n",
      "epis: 139   score: 2.0   mem len: 25562   epsilon: 1.0    steps: 198    lr: 0.0001     reward: 1.49\n",
      "epis: 140   score: 2.0   mem len: 25780   epsilon: 1.0    steps: 218    lr: 0.0001     reward: 1.5\n",
      "epis: 141   score: 2.0   mem len: 25995   epsilon: 1.0    steps: 215    lr: 0.0001     reward: 1.5\n",
      "epis: 142   score: 0.0   mem len: 26118   epsilon: 1.0    steps: 123    lr: 0.0001     reward: 1.49\n",
      "epis: 143   score: 1.0   mem len: 26269   epsilon: 1.0    steps: 151    lr: 0.0001     reward: 1.49\n",
      "epis: 144   score: 0.0   mem len: 26392   epsilon: 1.0    steps: 123    lr: 0.0001     reward: 1.49\n",
      "epis: 145   score: 0.0   mem len: 26514   epsilon: 1.0    steps: 122    lr: 0.0001     reward: 1.48\n",
      "epis: 146   score: 2.0   mem len: 26712   epsilon: 1.0    steps: 198    lr: 0.0001     reward: 1.47\n",
      "epis: 147   score: 1.0   mem len: 26880   epsilon: 1.0    steps: 168    lr: 0.0001     reward: 1.44\n",
      "epis: 148   score: 3.0   mem len: 27107   epsilon: 1.0    steps: 227    lr: 0.0001     reward: 1.46\n",
      "epis: 149   score: 2.0   mem len: 27287   epsilon: 1.0    steps: 180    lr: 0.0001     reward: 1.47\n",
      "epis: 150   score: 1.0   mem len: 27456   epsilon: 1.0    steps: 169    lr: 0.0001     reward: 1.47\n",
      "epis: 151   score: 0.0   mem len: 27578   epsilon: 1.0    steps: 122    lr: 0.0001     reward: 1.47\n",
      "epis: 152   score: 0.0   mem len: 27700   epsilon: 1.0    steps: 122    lr: 0.0001     reward: 1.43\n",
      "epis: 153   score: 5.0   mem len: 28024   epsilon: 1.0    steps: 324    lr: 0.0001     reward: 1.47\n",
      "epis: 154   score: 1.0   mem len: 28196   epsilon: 1.0    steps: 172    lr: 0.0001     reward: 1.48\n",
      "epis: 155   score: 2.0   mem len: 28395   epsilon: 1.0    steps: 199    lr: 0.0001     reward: 1.48\n",
      "epis: 156   score: 2.0   mem len: 28593   epsilon: 1.0    steps: 198    lr: 0.0001     reward: 1.49\n",
      "epis: 157   score: 1.0   mem len: 28743   epsilon: 1.0    steps: 150    lr: 0.0001     reward: 1.47\n",
      "epis: 158   score: 2.0   mem len: 28944   epsilon: 1.0    steps: 201    lr: 0.0001     reward: 1.48\n",
      "epis: 159   score: 3.0   mem len: 29172   epsilon: 1.0    steps: 228    lr: 0.0001     reward: 1.49\n",
      "epis: 160   score: 2.0   mem len: 29371   epsilon: 1.0    steps: 199    lr: 0.0001     reward: 1.51\n",
      "epis: 161   score: 1.0   mem len: 29539   epsilon: 1.0    steps: 168    lr: 0.0001     reward: 1.51\n",
      "epis: 162   score: 0.0   mem len: 29661   epsilon: 1.0    steps: 122    lr: 0.0001     reward: 1.49\n",
      "epis: 163   score: 2.0   mem len: 29858   epsilon: 1.0    steps: 197    lr: 0.0001     reward: 1.5\n",
      "epis: 164   score: 1.0   mem len: 30026   epsilon: 1.0    steps: 168    lr: 0.0001     reward: 1.49\n",
      "epis: 165   score: 2.0   mem len: 30244   epsilon: 1.0    steps: 218    lr: 0.0001     reward: 1.49\n",
      "epis: 166   score: 0.0   mem len: 30367   epsilon: 1.0    steps: 123    lr: 0.0001     reward: 1.49\n"
     ]
    },
    {
     "name": "stdout",
     "output_type": "stream",
     "text": [
      "epis: 167   score: 1.0   mem len: 30538   epsilon: 1.0    steps: 171    lr: 0.0001     reward: 1.5\n",
      "epis: 168   score: 4.0   mem len: 30817   epsilon: 1.0    steps: 279    lr: 0.0001     reward: 1.52\n",
      "epis: 169   score: 1.0   mem len: 30967   epsilon: 1.0    steps: 150    lr: 0.0001     reward: 1.49\n",
      "epis: 170   score: 2.0   mem len: 31183   epsilon: 1.0    steps: 216    lr: 0.0001     reward: 1.49\n",
      "epis: 171   score: 1.0   mem len: 31351   epsilon: 1.0    steps: 168    lr: 0.0001     reward: 1.5\n",
      "epis: 172   score: 6.0   mem len: 31682   epsilon: 1.0    steps: 331    lr: 0.0001     reward: 1.54\n",
      "epis: 173   score: 1.0   mem len: 31850   epsilon: 1.0    steps: 168    lr: 0.0001     reward: 1.54\n",
      "epis: 174   score: 0.0   mem len: 31972   epsilon: 1.0    steps: 122    lr: 0.0001     reward: 1.53\n",
      "epis: 175   score: 1.0   mem len: 32122   epsilon: 1.0    steps: 150    lr: 0.0001     reward: 1.54\n",
      "epis: 176   score: 2.0   mem len: 32340   epsilon: 1.0    steps: 218    lr: 0.0001     reward: 1.52\n",
      "epis: 177   score: 1.0   mem len: 32490   epsilon: 1.0    steps: 150    lr: 0.0001     reward: 1.53\n",
      "epis: 178   score: 1.0   mem len: 32659   epsilon: 1.0    steps: 169    lr: 0.0001     reward: 1.53\n",
      "epis: 179   score: 3.0   mem len: 32905   epsilon: 1.0    steps: 246    lr: 0.0001     reward: 1.53\n",
      "epis: 180   score: 4.0   mem len: 33183   epsilon: 1.0    steps: 278    lr: 0.0001     reward: 1.54\n",
      "epis: 181   score: 1.0   mem len: 33333   epsilon: 1.0    steps: 150    lr: 0.0001     reward: 1.55\n",
      "epis: 182   score: 2.0   mem len: 33531   epsilon: 1.0    steps: 198    lr: 0.0001     reward: 1.55\n",
      "epis: 183   score: 1.0   mem len: 33681   epsilon: 1.0    steps: 150    lr: 0.0001     reward: 1.54\n",
      "epis: 184   score: 1.0   mem len: 33853   epsilon: 1.0    steps: 172    lr: 0.0001     reward: 1.55\n",
      "epis: 185   score: 1.0   mem len: 34005   epsilon: 1.0    steps: 152    lr: 0.0001     reward: 1.56\n",
      "epis: 186   score: 3.0   mem len: 34249   epsilon: 1.0    steps: 244    lr: 0.0001     reward: 1.59\n",
      "epis: 187   score: 1.0   mem len: 34400   epsilon: 1.0    steps: 151    lr: 0.0001     reward: 1.59\n",
      "epis: 188   score: 2.0   mem len: 34598   epsilon: 1.0    steps: 198    lr: 0.0001     reward: 1.59\n",
      "epis: 189   score: 0.0   mem len: 34721   epsilon: 1.0    steps: 123    lr: 0.0001     reward: 1.59\n",
      "epis: 190   score: 2.0   mem len: 34937   epsilon: 1.0    steps: 216    lr: 0.0001     reward: 1.59\n",
      "epis: 191   score: 4.0   mem len: 35218   epsilon: 1.0    steps: 281    lr: 0.0001     reward: 1.62\n",
      "epis: 192   score: 0.0   mem len: 35341   epsilon: 1.0    steps: 123    lr: 0.0001     reward: 1.61\n",
      "epis: 193   score: 1.0   mem len: 35510   epsilon: 1.0    steps: 169    lr: 0.0001     reward: 1.61\n",
      "epis: 194   score: 2.0   mem len: 35729   epsilon: 1.0    steps: 219    lr: 0.0001     reward: 1.62\n"
     ]
    },
    {
     "ename": "KeyboardInterrupt",
     "evalue": "",
     "output_type": "error",
     "traceback": [
      "\u001b[0;31m---------------------------------------------------------------------------\u001b[0m",
      "\u001b[0;31mKeyboardInterrupt\u001b[0m                         Traceback (most recent call last)",
      "\u001b[0;32m/tmp/ipykernel_84156/607054412.py\u001b[0m in \u001b[0;36m<module>\u001b[0;34m\u001b[0m\n\u001b[1;32m     25\u001b[0m         \u001b[0mnext_state\u001b[0m\u001b[0;34m,\u001b[0m \u001b[0mreward\u001b[0m\u001b[0;34m,\u001b[0m \u001b[0mdone\u001b[0m\u001b[0;34m,\u001b[0m \u001b[0m_\u001b[0m\u001b[0;34m,\u001b[0m \u001b[0minfo\u001b[0m \u001b[0;34m=\u001b[0m \u001b[0menv\u001b[0m\u001b[0;34m.\u001b[0m\u001b[0mstep\u001b[0m\u001b[0;34m(\u001b[0m\u001b[0maction\u001b[0m \u001b[0;34m+\u001b[0m \u001b[0;36m1\u001b[0m\u001b[0;34m)\u001b[0m\u001b[0;34m\u001b[0m\u001b[0;34m\u001b[0m\u001b[0m\n\u001b[1;32m     26\u001b[0m \u001b[0;34m\u001b[0m\u001b[0m\n\u001b[0;32m---> 27\u001b[0;31m         \u001b[0mframe_next_state\u001b[0m \u001b[0;34m=\u001b[0m \u001b[0mget_frame\u001b[0m\u001b[0;34m(\u001b[0m\u001b[0mnext_state\u001b[0m\u001b[0;34m)\u001b[0m\u001b[0;34m\u001b[0m\u001b[0;34m\u001b[0m\u001b[0m\n\u001b[0m\u001b[1;32m     28\u001b[0m         \u001b[0mhistory\u001b[0m\u001b[0;34m[\u001b[0m\u001b[0;36m4\u001b[0m\u001b[0;34m,\u001b[0m \u001b[0;34m:\u001b[0m\u001b[0;34m,\u001b[0m \u001b[0;34m:\u001b[0m\u001b[0;34m]\u001b[0m \u001b[0;34m=\u001b[0m \u001b[0mframe_next_state\u001b[0m\u001b[0;34m\u001b[0m\u001b[0;34m\u001b[0m\u001b[0m\n\u001b[1;32m     29\u001b[0m         \u001b[0mterminal_state\u001b[0m \u001b[0;34m=\u001b[0m \u001b[0mcheck_live\u001b[0m\u001b[0;34m(\u001b[0m\u001b[0mlife\u001b[0m\u001b[0;34m,\u001b[0m \u001b[0minfo\u001b[0m\u001b[0;34m[\u001b[0m\u001b[0;34m'lives'\u001b[0m\u001b[0;34m]\u001b[0m\u001b[0;34m)\u001b[0m\u001b[0;34m\u001b[0m\u001b[0;34m\u001b[0m\u001b[0m\n",
      "\u001b[0;32m~/Documents/Spring2023/Deep-Learning-for-CV/spring2023/MP5/assignment5_materials/assignment5_materials/utils.py\u001b[0m in \u001b[0;36mget_frame\u001b[0;34m(X)\u001b[0m\n\u001b[1;32m     16\u001b[0m \u001b[0;34m\u001b[0m\u001b[0m\n\u001b[1;32m     17\u001b[0m \u001b[0;32mdef\u001b[0m \u001b[0mget_frame\u001b[0m\u001b[0;34m(\u001b[0m\u001b[0mX\u001b[0m\u001b[0;34m)\u001b[0m\u001b[0;34m:\u001b[0m\u001b[0;34m\u001b[0m\u001b[0;34m\u001b[0m\u001b[0m\n\u001b[0;32m---> 18\u001b[0;31m     \u001b[0mx\u001b[0m \u001b[0;34m=\u001b[0m \u001b[0mnp\u001b[0m\u001b[0;34m.\u001b[0m\u001b[0muint8\u001b[0m\u001b[0;34m(\u001b[0m\u001b[0mresize\u001b[0m\u001b[0;34m(\u001b[0m\u001b[0mrgb2gray\u001b[0m\u001b[0;34m(\u001b[0m\u001b[0mX\u001b[0m\u001b[0;34m)\u001b[0m\u001b[0;34m,\u001b[0m \u001b[0;34m(\u001b[0m\u001b[0mHEIGHT\u001b[0m\u001b[0;34m,\u001b[0m \u001b[0mWIDTH\u001b[0m\u001b[0;34m)\u001b[0m\u001b[0;34m,\u001b[0m \u001b[0mmode\u001b[0m\u001b[0;34m=\u001b[0m\u001b[0;34m'reflect'\u001b[0m\u001b[0;34m)\u001b[0m \u001b[0;34m*\u001b[0m \u001b[0;36m255\u001b[0m\u001b[0;34m)\u001b[0m\u001b[0;34m\u001b[0m\u001b[0;34m\u001b[0m\u001b[0m\n\u001b[0m\u001b[1;32m     19\u001b[0m     \u001b[0;32mreturn\u001b[0m \u001b[0mx\u001b[0m\u001b[0;34m\u001b[0m\u001b[0;34m\u001b[0m\u001b[0m\n\u001b[1;32m     20\u001b[0m \u001b[0;34m\u001b[0m\u001b[0m\n",
      "\u001b[0;31mKeyboardInterrupt\u001b[0m: "
     ]
    },
    {
     "data": {
      "image/png": "[encoded data removed]",
      "text/plain": [
       "<Figure size 640x480 with 1 Axes>"
      ]
     },
     "metadata": {},
     "output_type": "display_data"
    }
   ],
   "source": [
    "rewards, episodes = [], []\n",
    "best_eval_reward = 0\n",
    "for e in range(EPISODES):\n",
    "    done = False\n",
    "    score = 0\n",
    "\n",
    "    history = np.zeros([5, 84, 84], dtype=np.uint8)\n",
    "    step = 0\n",
    "    state = env.reset()\n",
    "    next_state = state\n",
    "    life = number_lives\n",
    "\n",
    "    get_init_state(history, state, HISTORY_SIZE)\n",
    "\n",
    "    while not done:\n",
    "        step += 1\n",
    "        frame += 1\n",
    "\n",
    "        # Perform a fire action if ball is no longer on screen to continue onto next life\n",
    "        if step > 1 and len(np.unique(next_state[:189] == state[:189])) < 2:\n",
    "            action = 0\n",
    "        else:\n",
    "            action = agent.get_action(np.float32(history[:4, :, :]) / 255.)\n",
    "        state = next_state\n",
    "        next_state, reward, done, _, info = env.step(action + 1)\n",
    "        \n",
    "        frame_next_state = get_frame(next_state)\n",
    "        history[4, :, :] = frame_next_state\n",
    "        terminal_state = check_live(life, info['lives'])\n",
    "\n",
    "        life = info['lives']\n",
    "        r = reward\n",
    "\n",
    "        # Store the transition in memory \n",
    "        agent.memory.push(deepcopy(frame_next_state), action, r, terminal_state)\n",
    "        # Start training after random sample generation\n",
    "        if(frame >= train_frame):\n",
    "            agent.train_policy_net(frame)\n",
    "            # Update the target network only for Double DQN only\n",
    "            if double_dqn and (frame % update_target_network_frequency)== 0:\n",
    "                agent.update_target_net()\n",
    "        score += reward\n",
    "        history[:4, :, :] = history[1:, :, :]\n",
    "            \n",
    "        if done:\n",
    "            evaluation_reward.append(score)\n",
    "            rewards.append(np.mean(evaluation_reward))\n",
    "            episodes.append(e)\n",
    "            pylab.plot(episodes, rewards, 'b')\n",
    "            pylab.xlabel('Episodes')\n",
    "            pylab.ylabel('Rewards') \n",
    "            pylab.title('Episodes vs Reward')\n",
    "            pylab.savefig(\"./save_graph/breakout_dqn.png\") # save graph for training visualization\n",
    "            \n",
    "            # every episode, plot the play time\n",
    "            print(\"epis:\", e, \"  score:\", score, \"  mem len:\",\n",
    "                  len(agent.memory), \"  epsilon:\", round(agent.epsilon, 4), \"   steps:\", step,\n",
    "                  \"   lr:\", round(agent.optimizer.param_groups[0]['lr'], 7), \"    reward:\", round(np.mean(evaluation_reward), 2))\n",
    "\n",
    "            # if the mean of scores of last 100 episode is bigger than 5 save model\n",
    "            ### Change this save condition to whatever you prefer ###\n",
    "            if np.mean(evaluation_reward) > 5 and np.mean(evaluation_reward) > best_eval_reward:\n",
    "                torch.save(agent.policy_net, \"./save_model/breakout_double_dqn.pth\")\n",
    "                best_eval_reward = np.mean(evaluation_reward)\n"
   ]
  },
  {
   "cell_type": "markdown",
   "metadata": {},
   "source": [
    "# Visualize Agent Performance"
   ]
  },
  {
   "cell_type": "markdown",
   "metadata": {},
   "source": [
    "BE AWARE THIS CODE BELOW MAY CRASH THE KERNEL IF YOU RUN THE SAME CELL TWICE.\n",
    "\n",
    "Please save your model before running this portion of the code."
   ]
  },
  {
   "cell_type": "code",
   "execution_count": null,
   "metadata": {},
   "outputs": [],
   "source": [
    "torch.save(agent.policy_net, \"./save_model/breakout_double_dqn_latest.pth\")"
   ]
  },
  {
   "cell_type": "code",
   "execution_count": null,
   "metadata": {},
   "outputs": [],
   "source": [
    "from gym.wrappers import RecordVideo # If importing monitor raises issues, try using `from gym.wrappers import RecordVideo`\n",
    "import glob\n",
    "import io\n",
    "import base64\n",
    "\n",
    "from IPython.display import HTML\n",
    "from IPython import display as ipythondisplay\n",
    "\n",
    "from pyvirtualdisplay import Display\n",
    "\n",
    "# Displaying the game live\n",
    "def show_state(env, step=0, info=\"\"):\n",
    "    plt.figure(3)\n",
    "    plt.clf()\n",
    "    plt.imshow(env.render(mode='rgb_array'))\n",
    "    plt.title(\"%s | Step: %d %s\" % (\"Agent Playing\",step, info))\n",
    "    plt.axis('off')\n",
    "\n",
    "    ipythondisplay.clear_output(wait=True)\n",
    "    ipythondisplay.display(plt.gcf())\n",
    "    \n",
    "# Recording the game and replaying the game afterwards\n",
    "def show_video():\n",
    "    mp4list = glob.glob('video/*.mp4')\n",
    "    if len(mp4list) > 0:\n",
    "        mp4 = mp4list[0]\n",
    "        video = io.open(mp4, 'r+b').read()\n",
    "        encoded = base64.b64encode(video)\n",
    "        ipythondisplay.display(HTML(data='''<video alt=\"test\" autoplay \n",
    "                loop controls style=\"height: 400px;\">\n",
    "                <source src=\"data:video/mp4;base64,{0}\" type=\"video/mp4\" />\n",
    "             </video>'''.format(encoded.decode('ascii'))))\n",
    "    else: \n",
    "        print(\"Could not find video\")\n",
    "    \n",
    "\n",
    "def wrap_env(env):\n",
    "    env = RecordVideo(env, './video')\n",
    "    return env"
   ]
  },
  {
   "cell_type": "code",
   "execution_count": null,
   "metadata": {},
   "outputs": [],
   "source": [
    "display = Display(visible=0, size=(300, 200))\n",
    "display.start()\n",
    "\n",
    "# Load agent\n",
    "# agent.load_policy_net(\"./save_model/breakout_dqn.pth\")\n",
    "agent.epsilon = 0.0 # Set agent to only exploit the best action\n",
    "\n",
    "env = gym.make('BreakoutDeterministic-v4')\n",
    "env = wrap_env(env)\n",
    "\n",
    "done = False\n",
    "score = 0\n",
    "step = 0\n",
    "state = env.reset()\n",
    "next_state = state\n",
    "life = number_lives\n",
    "history = np.zeros([5, 84, 84], dtype=np.uint8)\n",
    "get_init_state(history, state)\n",
    "\n",
    "while not done:\n",
    "    \n",
    "    # Render breakout\n",
    "    env.render()\n",
    "#     show_state(env,step) # uncommenting this provides another way to visualize the game\n",
    "\n",
    "    step += 1\n",
    "    frame += 1\n",
    "\n",
    "    # Perform a fire action if ball is no longer on screen\n",
    "    if step > 1 and len(np.unique(next_state[:189] == state[:189])) < 2:\n",
    "        action = 0\n",
    "    else:\n",
    "        action = agent.get_action(np.float32(history[:4, :, :]) / 255.)\n",
    "    state = next_state\n",
    "    \n",
    "    next_state, reward, done, _, info = env.step(action + 1)\n",
    "        \n",
    "    frame_next_state = get_frame(next_state)\n",
    "    history[4, :, :] = frame_next_state\n",
    "    terminal_state = check_live(life, info['ale.lives'])\n",
    "        \n",
    "    life = info['ale.lives']\n",
    "    r = np.clip(reward, -1, 1) \n",
    "    r = reward\n",
    "\n",
    "    # Store the transition in memory \n",
    "    agent.memory.push(deepcopy(frame_next_state), action, r, terminal_state)\n",
    "    # Start training after random sample generation\n",
    "    score += reward\n",
    "    \n",
    "    history[:4, :, :] = history[1:, :, :]\n",
    "env.close()\n",
    "show_video()\n",
    "display.stop()"
   ]
  },
  {
   "cell_type": "code",
   "execution_count": null,
   "metadata": {},
   "outputs": [],
   "source": []
  }
 ],
 "metadata": {
  "kernelspec": {
   "display_name": "Python 3 (ipykernel)",
   "language": "python",
   "name": "python3"
  },
  "language_info": {
   "codemirror_mode": {
    "name": "ipython",
    "version": 3
   },
   "file_extension": ".py",
   "mimetype": "text/x-python",
   "name": "python",
   "nbconvert_exporter": "python",
   "pygments_lexer": "ipython3",
   "version": "3.9.13"
  }
 },
 "nbformat": 4,
 "nbformat_minor": 2
}
