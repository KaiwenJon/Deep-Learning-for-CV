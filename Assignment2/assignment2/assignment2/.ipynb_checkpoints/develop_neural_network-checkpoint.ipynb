{
 "cells": [
  {
   "cell_type": "markdown",
   "metadata": {},
   "source": [
    "# Implement a Neural Network\n",
    "\n",
    "This notebook contains useful information and testing code to help you develop a neural network by implementing the forward pass and backpropagation algorithm in the `models/neural_net.py` file. \n",
    "\n",
    "You will implement your network in the class `NeuralNetwork` inside the file `models/neural_net.py` to represent instances of the network. The network parameters are stored in the instance variable `self.params` where keys are string parameter names and values are numpy arrays."
   ]
  },
  {
   "cell_type": "code",
   "execution_count": 158,
   "metadata": {},
   "outputs": [
    {
     "name": "stdout",
     "output_type": "stream",
     "text": [
      "The autoreload extension is already loaded. To reload it, use:\n",
      "  %reload_ext autoreload\n"
     ]
    }
   ],
   "source": [
    "import matplotlib.pyplot as plt\n",
    "import numpy as np\n",
    "\n",
    "from models.neural_net import NeuralNetwork\n",
    "\n",
    "%matplotlib inline\n",
    "plt.rcParams['figure.figsize'] = (10.0, 8.0)  # set default size of plots\n",
    "\n",
    "# For auto-reloading external modules\n",
    "# See http://stackoverflow.com/questions/1907993/autoreload-of-modules-in-ipython\n",
    "%load_ext autoreload\n",
    "%autoreload 2\n",
    "\n",
    "def rel_error(x, y):\n",
    "    \"\"\"Returns relative error\"\"\"\n",
    "    return np.max(np.abs(x - y) / (np.maximum(1e-8, np.abs(x) + np.abs(y))))"
   ]
  },
  {
   "cell_type": "markdown",
   "metadata": {},
   "source": [
    "The cell below initializes a toy dataset and corresponding model which will allow you to check your forward and backward pass by using a numeric gradient check. Note that we set a random seed for repeatable experiments."
   ]
  },
  {
   "cell_type": "code",
   "execution_count": 159,
   "metadata": {},
   "outputs": [],
   "source": [
    "input_size = 4\n",
    "hidden_size = 10\n",
    "num_classes = 3\n",
    "num_inputs = 9\n",
    "\n",
    "def init_toy_model(num_layers):\n",
    "    \"\"\"Initializes a toy model\"\"\"\n",
    "    np.random.seed(0)\n",
    "    hidden_sizes = [hidden_size] * (num_layers - 1)\n",
    "    return NeuralNetwork(input_size, hidden_sizes, num_classes, num_layers)\n",
    "\n",
    "def init_toy_data():\n",
    "    \"\"\"Initializes a toy dataset\"\"\"\n",
    "    np.random.seed(0)\n",
    "    X = 10 * np.random.randn(num_inputs, input_size)\n",
    "    y = np.random.randint(num_classes, size=num_inputs)\n",
    "    return X, y"
   ]
  },
  {
   "cell_type": "markdown",
   "metadata": {},
   "source": [
    "# Implement forward and backward pass\n",
    "\n",
    "The first thing you will do is implement the forward pass of your neural network. The forward pass should be implemented in the `forward` function. You can use helper functions like `linear`, `relu`, and `softmax` to help organize your code.\n",
    "\n",
    "Next, you will implement the backward pass using the backpropagation algorithm. Backpropagation will compute the gradient of the loss with respect to the model parameters `W1`, `b1`, ... etc. Use a softmax fuction with cross entropy loss for loss calcuation. Fill in the code blocks in `NeuralNetwork.backward`. "
   ]
  },
  {
   "cell_type": "markdown",
   "metadata": {},
   "source": [
    "# Gradient  check\n",
    "\n",
    "If you have implemented your forward pass through the network correctly, you can use the following cell to debug your backward pass with a numeric gradient check. If your backward pass has been implemented correctly, the max relative error between your analytic solution and the numeric solution should be around 1e-7 or less for all parameters.\n",
    "\n",
    "**Hints:**\n",
    "\n",
    "1. If you change the regularization coefficient to 0 and it works, but it doesn't work when your regularization coefficient is > 0, then there is a bug in your regularization code. Make sure both the loss and gradient calculations account for regularization correctly.\n",
    "2. If your bias vectors look good but your weight matrices don't, there is either a bug in your regularization loss or in your weight gradient calculation.\n",
    "3. If all of your parameters are incorrect, then there may be a bug in your gradient of the cross-entropy loss. See https://deepnotes.io/softmax-crossentropy.\n",
    "4. If you see numeric issues like underflow or division by zero, you may need to subtract the maximum element in your softmax. See https://deepnotes.io/softmax-crossentropy."
   ]
  },
  {
   "cell_type": "code",
   "execution_count": 170,
   "metadata": {},
   "outputs": [
    {
     "name": "stdout",
     "output_type": "stream",
     "text": [
      "[[ 3.56  8.3  -8.85  5.04  1.95 -3.14 -0.99  3.67 14.26  0.26]\n",
      " [ 4.35 22.01 -7.99  1.53  1.18  0.3  -1.21 -4.21  3.94 -0.21]\n",
      " [ 2.96 16.81  0.54 -0.35 -1.72  0.91  0.05  3.47  9.68  1.41]\n",
      " [ 4.82 23.3  -0.02  1.07 -2.41 -0.21  0.09 16.54 10.48  2.88]]\n",
      "[[ 3.56  8.3  -8.85  5.04  1.95 -3.14 -0.99  3.67 14.26  0.26]\n",
      " [ 4.35 22.01 -7.99  1.53  1.18  0.3  -1.21 -4.21  3.94 -0.21]\n",
      " [ 2.96 16.81  0.54 -0.35 -1.72  0.91  0.05  3.47  9.68  1.41]\n",
      " [ 4.82 23.3  -0.02  1.07 -2.41 -0.21  0.09 16.54 10.48  2.88]]\n",
      "W1 max relative error: 4.055041e-07\n",
      "[ 0.27  3.24 -0.55  0.26  0.1   0.18 -0.05  1.24  1.27  0.19]\n",
      "[ 0.27  3.24 -0.55  0.26  0.1   0.18 -0.05  1.24  1.27  0.19]\n",
      "b1 max relative error: 4.753664e-09\n",
      "[[  5.83 -12.89   7.05]\n",
      " [ 36.01 -15.95 -20.06]\n",
      " [ 17.46 -12.06  -5.39]\n",
      " [  4.01 -13.73   9.72]\n",
      " [ 40.86 -18.63 -22.23]\n",
      " [ 10.93  -6.27  -4.66]\n",
      " [ 57.74 -20.52 -37.22]\n",
      " [ 22.41   0.3  -22.71]\n",
      " [ 17.41 -12.05  -5.36]\n",
      " [  6.27   0.25  -6.51]]\n",
      "[[  5.83 -12.89   7.05]\n",
      " [ 36.01 -15.95 -20.06]\n",
      " [ 17.46 -12.06  -5.39]\n",
      " [  4.01 -13.73   9.72]\n",
      " [ 40.86 -18.63 -22.23]\n",
      " [ 10.93  -6.27  -4.66]\n",
      " [ 57.74 -20.52 -37.22]\n",
      " [ 22.41   0.3  -22.71]\n",
      " [ 17.41 -12.05  -5.36]\n",
      " [  6.27   0.25  -6.51]]\n",
      "W2 max relative error: 6.603435e-09\n",
      "[ 4.56 -1.9  -2.66]\n",
      "[ 4.56 -1.9  -2.66]\n",
      "b2 max relative error: 1.199555e-09\n",
      "[[-36.85  -1.98 -19.05   0.78  45.45  -2.58  22.64   9.67   0.54  -3.51]\n",
      " [  7.91   0.58   3.6   -0.26 -13.75  -6.66   5.62  -1.07   0.57  -0.28]\n",
      " [-14.9    0.05  -7.96   0.76  14.75  -1.28  13.42   5.94  -0.07   0.37]\n",
      " [ -3.26   0.29  -2.77  -1.53   1.07   1.08  30.8   12.11   2.72   2.48]]\n",
      "[[-37.76  -2.14 -19.61   0.78  46.03  -2.58  24.58  10.53   0.81  -3.29]\n",
      " [  7.71   0.54   3.47  -0.26 -13.62  -6.66   6.06  -0.87   0.63  -0.23]\n",
      " [-15.4   -0.04  -8.28   0.76  15.07  -1.28  14.5    6.42   0.09   0.5 ]\n",
      " [ -4.42   0.09  -3.49  -1.53   1.81   1.08  33.27  13.21   3.07   2.77]]\n",
      "W1 max relative error: 1.000000e+00\n",
      "[-2.39  0.15 -1.23 -0.    2.96  0.35  2.41  1.28 -0.11  0.06]\n",
      "[-2.44  0.14 -1.27 -0.    3.    0.35  2.52  1.32 -0.09  0.08]\n",
      "b1 max relative error: 8.893476e-02\n",
      "[[  0.39   6.16   9.11   0.    -2.75  20.9    0.47   0.     2.63  20.62]\n",
      " [  1.52   2.89   0.6   -3.36  -0.32  15.85   1.36   0.01  10.58   9.08]\n",
      " [  0.34  12.47  16.77   0.    -5.13  23.72   1.31   0.     2.29  16.48]\n",
      " [  0.    21.15  32.35   0.    -9.76  43.93   1.17   0.     0.    36.18]\n",
      " [  1.88  26.89  34.41   0.   -10.59  62.06   3.57   0.    12.69  43.92]\n",
      " [  0.06   1.57  -0.56  -2.57   0.     2.8    0.09   1.03   2.25   0.77]\n",
      " [  2.93   4.25   0.95  -6.51  -0.46  28.38   2.16   0.    19.84  15.48]\n",
      " [  1.85   2.18   0.    -6.76  -0.02  15.54   0.61   1.02  12.57   6.7 ]\n",
      " [ -0.31   5.06   5.3    0.16  -1.91   8.04   0.72   0.12   0.69   4.3 ]\n",
      " [  0.74  14.06  17.46  -2.04  -5.32  29.52   1.3    0.99   5.05  21.31]]\n",
      "[[  0.44   6.16   9.11   0.    -2.75  21.31   0.48   0.     2.97  20.78]\n",
      " [  1.66   2.89   0.6   -3.36  -0.32  16.96   1.39   0.01  11.51   9.52]\n",
      " [  0.38  12.47  16.77   0.    -5.13  24.07   1.32   0.     2.59  16.62]\n",
      " [  0.    21.15  32.35   0.    -9.76  43.93   1.17   0.     0.    36.18]\n",
      " [  2.12  26.89  34.41   0.   -10.59  64.03   3.62   0.    14.33  44.69]\n",
      " [  0.06   1.57  -0.56  -2.57   0.     2.8    0.09   1.03   2.25   0.77]\n",
      " [  3.19   4.25   0.95  -6.51  -0.46  30.41   2.22   0.    21.54  16.29]\n",
      " [  1.96   2.18   0.    -6.76  -0.02  16.41   0.63   1.02  13.29   7.04]\n",
      " [ -0.28   5.06   5.3    0.16  -1.91   8.27   0.72   0.12   0.88   4.39]\n",
      " [  0.79  14.06  17.46  -2.04  -5.32  29.98   1.32   0.99   5.43  21.49]]\n",
      "W2 max relative error: 1.222481e-01\n",
      "[ 0.19  1.89  1.45 -1.08 -0.48  4.33  0.3   0.27  1.57  2.93]\n",
      "[ 0.2   1.89  1.45 -1.08 -0.48  4.41  0.3   0.27  1.64  2.96]\n",
      "b2 max relative error: 2.534191e-02\n",
      "[[  0.01  15.05 -15.06]\n",
      " [ -0.07  10.43 -10.35]\n",
      " [  0.1    4.87  -4.96]\n",
      " [  0.48   9.3   -9.78]\n",
      " [ -9.33  27.43 -18.1 ]\n",
      " [-15.66  77.31 -61.65]\n",
      " [ -0.29   8.31  -8.02]\n",
      " [  0.77   0.32  -1.09]\n",
      " [  0.18  11.95 -12.13]\n",
      " [ -7.34  41.01 -33.67]]\n",
      "[[  0.01  15.6  -15.61]\n",
      " [ -0.07  10.43 -10.35]\n",
      " [  0.1    4.87  -4.96]\n",
      " [  0.48   9.3   -9.78]\n",
      " [ -9.33  27.43 -18.1 ]\n",
      " [-15.66  81.3  -65.64]\n",
      " [ -0.29   8.97  -8.67]\n",
      " [  0.77   0.32  -1.09]\n",
      " [  0.18  12.4  -12.58]\n",
      " [ -7.34  43.28 -35.94]]\n",
      "W3 max relative error: 3.926577e-02\n",
      "[-1.9   6.56 -4.66]\n",
      "[-1.9   6.68 -4.78]\n",
      "b3 max relative error: 1.215961e-02\n"
     ]
    }
   ],
   "source": [
    "from copy import deepcopy\n",
    "\n",
    "from utils.gradient_check import eval_numerical_gradient\n",
    "\n",
    "X, y = init_toy_data()\n",
    "regularization = 0.05\n",
    "\n",
    "def f(W):\n",
    "    net.forward(X)\n",
    "    return net.backward(y, regularization)\n",
    "\n",
    "for num in [2, 3]:\n",
    "    net = init_toy_model(num)\n",
    "    net.forward(X)\n",
    "    net.backward(y, regularization)\n",
    "    gradients = deepcopy(net.gradients)\n",
    "\n",
    "    for param_name in net.params:\n",
    "        np.set_printoptions(suppress=True)\n",
    "        param_grad_num = eval_numerical_gradient(f, net.params[param_name], verbose=False)\n",
    "        print('%s max relative error: %e' % (param_name, rel_error(param_grad_num, gradients[param_name])))\n",
    "                print(\"Numeric gradient\")\n",
    "        print(param_grad_num)\n",
    "        print(\"My gradient\")\n",
    "        print(np.around(gradients[param_name], 2))"
   ]
  },
  {
   "cell_type": "markdown",
   "metadata": {},
   "source": [
    "# Train the network\n",
    "To train the network we will use stochastic gradient descent (SGD), similar to the SVM and Softmax classifiers you trained. This should be similar to the training procedure you used for the SVM and Softmax classifiers.\n",
    "\n",
    "Once you have implemented the `update` method, run the code below to train a two-layer network on toy data."
   ]
  },
  {
   "cell_type": "code",
   "execution_count": 174,
   "metadata": {},
   "outputs": [
    {
     "name": "stdout",
     "output_type": "stream",
     "text": [
      "last output after softmax\n",
      " [[1.   0.   0.  ]\n",
      " [0.33 0.   0.67]\n",
      " [0.99 0.01 0.  ]\n",
      " [0.98 0.   0.02]\n",
      " [0.28 0.   0.72]\n",
      " [0.97 0.03 0.  ]\n",
      " [0.14 0.   0.86]\n",
      " [1.   0.   0.  ]\n",
      " [0.86 0.06 0.08]]\n",
      "Epoch1\t, acc:0.3333, loss:43.6420\n",
      "last output after softmax\n",
      " [[0.   0.   1.  ]\n",
      " [0.   0.   1.  ]\n",
      " [0.   0.35 0.65]\n",
      " [0.   0.09 0.91]\n",
      " [0.   0.35 0.65]\n",
      " [0.2  0.8  0.  ]\n",
      " [0.   0.01 0.99]\n",
      " [0.   0.98 0.02]\n",
      " [0.32 0.13 0.55]]\n",
      "Epoch2\t, acc:0.7778, loss:32.5011\n",
      "last output after softmax\n",
      " [[0.   0.06 0.94]\n",
      " [1.   0.   0.  ]\n",
      " [0.   0.23 0.77]\n",
      " [0.01 0.61 0.38]\n",
      " [1.   0.   0.  ]\n",
      " [0.09 0.91 0.  ]\n",
      " [1.   0.   0.  ]\n",
      " [0.   1.   0.  ]\n",
      " [0.47 0.1  0.43]]\n",
      "Epoch3\t, acc:0.5556, loss:27.6821\n",
      "last output after softmax\n",
      " [[0.   0.   1.  ]\n",
      " [0.   0.   1.  ]\n",
      " [0.   0.06 0.94]\n",
      " [0.   0.   1.  ]\n",
      " [0.   0.   1.  ]\n",
      " [0.03 0.97 0.  ]\n",
      " [0.   0.   1.  ]\n",
      " [0.   0.   1.  ]\n",
      " [0.1  0.06 0.83]]\n",
      "Epoch4\t, acc:0.6667, loss:45.0907\n",
      "last output after softmax\n",
      " [[0.   1.   0.  ]\n",
      " [0.58 0.31 0.1 ]\n",
      " [0.   0.88 0.12]\n",
      " [0.   0.98 0.01]\n",
      " [0.03 0.97 0.  ]\n",
      " [0.04 0.96 0.  ]\n",
      " [1.   0.   0.  ]\n",
      " [0.   1.   0.  ]\n",
      " [0.21 0.07 0.73]]\n",
      "Epoch5\t, acc:0.4444, loss:31.2061\n"
     ]
    }
   ],
   "source": [
    "# Hyperparameters\n",
    "epochs = 5#20\n",
    "batch_size = 1\n",
    "learning_rate = 0.01\n",
    "learning_rate_decay = 0.95\n",
    "regularization = 5e-6\n",
    "\n",
    "# Initialize a new neural network model\n",
    "net = init_toy_model(2)\n",
    "\n",
    "# Variables to store performance for each epoch\n",
    "train_loss = np.zeros(epochs)\n",
    "train_accuracy = np.zeros(epochs)\n",
    "\n",
    "# For each epoch...\n",
    "for epoch in range(epochs):        \n",
    "    # Run the forward pass of the model to get a prediction and compute the accuracy\n",
    "    scores = net.forward(X)\n",
    "    pred = np.argmax(scores, axis=1)\n",
    "    train_accuracy[epoch] += (pred == y).sum()\n",
    "    \n",
    "    # Run the backward pass of the model to compute the loss, and update the weights\n",
    "    train_loss[epoch] += net.backward(y, regularization)\n",
    "    print(f\"Epoch{epoch+1}\\t, acc:{train_accuracy[epoch]/num_inputs:.4f}, loss:{train_loss[epoch]:.4f}\")\n",
    "    net.update(learning_rate)\n",
    "\n",
    "train_accuracy /= num_inputs"
   ]
  },
  {
   "cell_type": "markdown",
   "metadata": {},
   "source": [
    "If you implemented things correctly, you should rapidly see the loss decrease to 0 and the accuracy increase to 100%. Your final loss may not be exactly 0 due to regularization."
   ]
  },
  {
   "cell_type": "code",
   "execution_count": 150,
   "metadata": {},
   "outputs": [
    {
     "name": "stdout",
     "output_type": "stream",
     "text": [
      "Epoch1\t, acc:0.2222, loss:79.9492\n",
      "Epoch2\t, acc:0.2222, loss:inf\n",
      "Epoch3\t, acc:0.2222, loss:inf\n"
     ]
    },
    {
     "data": {
      "image/png": "[encoded data removed]",
      "text/plain": [
       "<Figure size 1000x800 with 2 Axes>"
      ]
     },
     "metadata": {},
     "output_type": "display_data"
    }
   ],
   "source": [
    "for epoch in range(epochs):        \n",
    "    print(f\"Epoch{epoch+1}\\t, acc:{train_accuracy[epoch]:.4f}, loss:{train_loss[epoch]:.4f}\")\n",
    "\n",
    "# Plot the loss function and train accuracy\n",
    "plt.subplot(2, 1, 1)\n",
    "plt.plot(train_loss)\n",
    "plt.title('Loss history')\n",
    "plt.xlabel('Iteration')\n",
    "plt.ylabel('Loss')\n",
    "\n",
    "plt.subplot(2, 1, 2)\n",
    "plt.plot(train_accuracy)\n",
    "plt.title('Classification accuracy history')\n",
    "plt.xlabel('Epoch')\n",
    "plt.ylabel('Classification accuracy')\n",
    "\n",
    "plt.tight_layout()\n",
    "plt.show()"
   ]
  },
  {
   "cell_type": "code",
   "execution_count": null,
   "metadata": {},
   "outputs": [],
   "source": []
  },
  {
   "cell_type": "code",
   "execution_count": null,
   "metadata": {},
   "outputs": [],
   "source": []
  }
 ],
 "metadata": {
  "kernelspec": {
   "display_name": "Python 3 (ipykernel)",
   "language": "python",
   "name": "python3"
  },
  "language_info": {
   "codemirror_mode": {
    "name": "ipython",
    "version": 3
   },
   "file_extension": ".py",
   "mimetype": "text/x-python",
   "name": "python",
   "nbconvert_exporter": "python",
   "pygments_lexer": "ipython3",
   "version": "3.8.10"
  }
 },
 "nbformat": 4,
 "nbformat_minor": 2
}
