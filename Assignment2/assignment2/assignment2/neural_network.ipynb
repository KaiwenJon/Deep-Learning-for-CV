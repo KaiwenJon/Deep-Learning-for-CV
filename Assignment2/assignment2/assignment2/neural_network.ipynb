{
 "cells": [
  {
   "cell_type": "markdown",
   "metadata": {},
   "source": [
    "# CS444 Assignment 2"
   ]
  },
  {
   "cell_type": "code",
   "execution_count": 3,
   "metadata": {},
   "outputs": [],
   "source": [
    "import matplotlib.pyplot as plt\n",
    "import numpy as np\n",
    "\n",
    "from kaggle_submission import output_submission_csv\n",
    "from models.neural_net import NeuralNetwork\n",
    "from utils.data_process import get_FASHION_data\n",
    "\n",
    "%matplotlib inline\n",
    "plt.rcParams['figure.figsize'] = (10.0, 8.0)  # set default size of plots\n",
    "\n",
    "# For auto-reloading external modules\n",
    "# See http://stackoverflow.com/questions/1907993/autoreload-of-modules-in-ipython\n",
    "%load_ext autoreload\n",
    "%autoreload 2"
   ]
  },
  {
   "cell_type": "markdown",
   "metadata": {},
   "source": [
    "## Loading Fashion-MNIST\n",
    "Now that you have implemented a neural network that passes gradient checks and works on toy data, you will test your network on the Fashion-MNIST dataset."
   ]
  },
  {
   "cell_type": "code",
   "execution_count": 30,
   "metadata": {},
   "outputs": [],
   "source": [
    "# You can change these numbers for experimentation\n",
    "# For submission be sure they are set to the default values\n",
    "TRAIN_IMAGES = 50000\n",
    "VAL_IMAGES = 10000\n",
    "TEST_IMAGES = 10000\n",
    "\n",
    "data = get_FASHION_data(TRAIN_IMAGES, VAL_IMAGES, TEST_IMAGES)\n",
    "X_train, y_train = data['X_train'], data['y_train']\n",
    "X_val, y_val = data['X_val'], data['y_val']\n",
    "X_test, y_test = data['X_test'], data['y_test']"
   ]
  },
  {
   "cell_type": "markdown",
   "metadata": {},
   "source": [
    "## Train using SGD\n",
    "To train our network we will use SGD. In addition, we will adjust the learning rate with an exponential learning rate schedule as optimization proceeds; after each epoch, we will reduce the learning rate by multiplying it by a decay rate.\n",
    "\n",
    "You can try different numbers of layers and other hyperparameters on the Fashion-MNIST dataset below."
   ]
  },
  {
   "cell_type": "code",
   "execution_count": 45,
   "metadata": {},
   "outputs": [
    {
     "name": "stdout",
     "output_type": "stream",
     "text": [
      "Epoch1, acc:75.9000, loss:12.9860\n",
      "Epoch11, acc:93.9000, loss:0.3817\n",
      "Epoch21, acc:96.5000, loss:0.1026\n",
      "Epoch31, acc:96.7000, loss:0.0992\n",
      "Epoch41, acc:96.7000, loss:0.0925\n",
      "Epoch51, acc:96.8000, loss:0.0879\n",
      "Epoch61, acc:96.7000, loss:0.0866\n",
      "Epoch71, acc:96.9000, loss:0.0832\n",
      "Epoch81, acc:97.0000, loss:0.0814\n",
      "Epoch91, acc:97.0000, loss:0.0801\n",
      "Epoch101, acc:97.0000, loss:0.0789\n",
      "Epoch111, acc:97.0000, loss:0.0778\n",
      "Epoch121, acc:97.0000, loss:0.0817\n",
      "Epoch131, acc:94.6000, loss:0.3655\n",
      "Epoch141, acc:97.1000, loss:0.0800\n",
      "Epoch151, acc:97.0000, loss:0.0786\n",
      "Epoch161, acc:97.0000, loss:0.0778\n",
      "Epoch171, acc:97.1000, loss:0.0734\n",
      "Epoch181, acc:97.2000, loss:0.0719\n",
      "Epoch191, acc:97.2000, loss:0.0712\n",
      "Epoch201, acc:95.5000, loss:0.1421\n",
      "Epoch211, acc:96.9000, loss:0.0793\n",
      "Epoch221, acc:97.3000, loss:0.0718\n",
      "Epoch231, acc:97.3000, loss:0.0681\n",
      "Epoch241, acc:97.3000, loss:0.0667\n",
      "Epoch251, acc:97.3000, loss:0.0663\n",
      "Epoch261, acc:97.3000, loss:0.0658\n",
      "Epoch271, acc:97.3000, loss:0.0661\n",
      "Epoch281, acc:97.4000, loss:0.0611\n",
      "Epoch291, acc:97.4000, loss:0.0605\n",
      "Epoch301, acc:97.7000, loss:0.0603\n",
      "Epoch311, acc:95.5000, loss:0.3737\n",
      "Epoch321, acc:97.5000, loss:0.0689\n",
      "Epoch331, acc:97.6000, loss:0.0659\n",
      "Epoch341, acc:97.7000, loss:0.0632\n",
      "Epoch351, acc:97.8000, loss:0.0618\n",
      "Epoch361, acc:97.8000, loss:0.0645\n",
      "Epoch371, acc:97.6000, loss:0.0641\n",
      "Epoch381, acc:97.8000, loss:0.0613\n",
      "Epoch391, acc:97.9000, loss:0.0583\n",
      "Epoch401, acc:97.9000, loss:0.0569\n",
      "Epoch411, acc:98.1000, loss:0.0559\n",
      "Epoch421, acc:97.9000, loss:0.0572\n",
      "Epoch431, acc:98.0000, loss:0.0557\n",
      "Epoch441, acc:97.9000, loss:0.0554\n",
      "Epoch451, acc:97.9000, loss:0.0558\n",
      "Epoch461, acc:78.1000, loss:13.8319\n",
      "Epoch471, acc:97.3000, loss:0.0729\n",
      "Epoch481, acc:97.7000, loss:0.0609\n",
      "Epoch491, acc:97.7000, loss:0.0606\n",
      "Epoch501, acc:97.7000, loss:0.0602\n",
      "Epoch511, acc:97.7000, loss:0.0600\n",
      "Epoch521, acc:97.7000, loss:0.0567\n",
      "Epoch531, acc:97.8000, loss:0.0565\n",
      "Epoch541, acc:97.8000, loss:0.0563\n",
      "Epoch551, acc:97.8000, loss:0.0560\n",
      "Epoch561, acc:97.8000, loss:0.0559\n",
      "Epoch571, acc:97.8000, loss:0.0558\n",
      "Epoch581, acc:97.7000, loss:0.0598\n",
      "Epoch591, acc:97.9000, loss:0.0576\n",
      "Epoch601, acc:98.0000, loss:0.0537\n",
      "Epoch611, acc:98.0000, loss:0.0534\n",
      "Epoch621, acc:98.0000, loss:0.0532\n",
      "Epoch631, acc:98.0000, loss:0.0529\n",
      "Epoch641, acc:98.0000, loss:0.0527\n",
      "Epoch651, acc:98.0000, loss:0.0526\n",
      "Epoch661, acc:98.0000, loss:0.0523\n",
      "Epoch671, acc:98.0000, loss:0.0522\n",
      "Epoch681, acc:97.4000, loss:0.0732\n",
      "Epoch691, acc:97.3000, loss:0.0628\n",
      "Epoch701, acc:97.9000, loss:0.0536\n",
      "Epoch711, acc:98.0000, loss:0.0514\n",
      "Epoch721, acc:98.1000, loss:0.0495\n",
      "Epoch731, acc:98.1000, loss:0.0492\n",
      "Epoch741, acc:98.1000, loss:0.0490\n",
      "Epoch751, acc:98.1000, loss:0.0489\n",
      "Epoch761, acc:98.1000, loss:0.0488\n",
      "Epoch771, acc:98.1000, loss:0.0487\n",
      "Epoch781, acc:98.1000, loss:0.0487\n",
      "Epoch791, acc:98.1000, loss:0.0486\n",
      "Epoch801, acc:98.1000, loss:0.0486\n",
      "Epoch811, acc:98.1000, loss:0.0485\n",
      "Epoch821, acc:98.1000, loss:0.0485\n",
      "Epoch831, acc:98.1000, loss:0.0485\n",
      "Epoch841, acc:97.0000, loss:0.1698\n",
      "Epoch851, acc:98.1000, loss:0.0489\n",
      "Epoch861, acc:98.1000, loss:0.0486\n",
      "Epoch871, acc:98.1000, loss:0.0484\n",
      "Epoch881, acc:98.1000, loss:0.0484\n",
      "Epoch891, acc:98.1000, loss:0.0483\n",
      "Epoch901, acc:98.1000, loss:0.0485\n",
      "Epoch911, acc:98.1000, loss:0.0484\n",
      "Epoch921, acc:98.1000, loss:0.0482\n",
      "Epoch931, acc:98.1000, loss:0.0482\n",
      "Epoch941, acc:98.1000, loss:0.0433\n",
      "Epoch951, acc:98.3000, loss:0.0409\n",
      "Epoch961, acc:98.3000, loss:0.0407\n",
      "Epoch971, acc:98.3000, loss:0.0406\n",
      "Epoch981, acc:98.3000, loss:0.0405\n",
      "Epoch991, acc:98.3000, loss:0.0404\n"
     ]
    }
   ],
   "source": [
    "crop = 1000\n",
    "X_train = X_train[0:crop, :]\n",
    "y_train = y_train[0:crop]\n",
    "n_samples = X_train.shape[0]\n",
    "# Hyperparameters\n",
    "input_size = 28 * 28\n",
    "num_layers = 2#2\n",
    "hidden_size = 20#20\n",
    "hidden_sizes = [hidden_size] * (num_layers - 1)\n",
    "num_classes = 10\n",
    "epochs = 1000#100\n",
    "batch_size = 50\n",
    "learning_rate = 0.001 #1e-3\n",
    "learning_rate_decay = 0.95\n",
    "regularization = 0.1\n",
    "\n",
    "# M = np.max(X_train, axis=0)\n",
    "# m = np.min(X_train, axis=0)\n",
    "# print(M)\n",
    "# print(m)\n",
    "# print(M-m)\n",
    "# X_train = (X_train - m)/(255)\n",
    "# print(X_train)\n",
    "np.histogram(X_train)\n",
    "\n",
    "\n",
    "# Initialize a new neural network model\n",
    "net = NeuralNetwork(input_size, hidden_sizes, num_classes, num_layers)\n",
    "\n",
    "# Variables to store performance for each epoch\n",
    "train_loss = np.zeros(epochs)\n",
    "train_accuracy = np.zeros(epochs)\n",
    "val_accuracy = np.zeros(epochs)\n",
    "np.set_printoptions(suppress=True)\n",
    "np.set_printoptions(precision=3)\n",
    "# For each epoch...\n",
    "for epoch in range(epochs):\n",
    "    # Shuffle the dataset\n",
    "    \n",
    "    # Training\n",
    "#     For each mini-batch...\n",
    "    for index in range(0, n_samples, batch_size):\n",
    "        batch_X = X_train[index:min(index + batch_size, n_samples),:]\n",
    "        batch_y = y_train[index:min(index + batch_size, n_samples)]\n",
    "#         batch_y = np.reshape(batch_y, (-1, 1))\n",
    "        scores = net.forward(batch_X)\n",
    "        loss = net.cross_entropy(scores, batch_y)\n",
    "#         print(\"loss:\", loss)\n",
    "        net.backward(batch_y, regularization)\n",
    "        net.update(lr=learning_rate, opt=\"RMSProp\")\n",
    "#     scores = net.forward(X_train)\n",
    "#     pred = np.argmax(scores, axis=1)\n",
    "#     net.backward(y_train, regularization)\n",
    "#     net.update(lr=learning_rate)\n",
    "    if(epoch % 10 == 0):\n",
    "        scores = net.forward(X_train)\n",
    "        pred = np.argmax(scores, axis=1)\n",
    "        acc = (pred == y_train).sum() / len(y_train) * 100\n",
    "        loss = net.backward(y_train, regularization)\n",
    "        print(f\"Epoch{epoch+1}, acc:{acc:.4f}, loss:{loss:.4f}\")\n",
    "        \n",
    "        \n",
    "#     for batch in range(TRAIN_IMAGES // batch_size):\n",
    "#         # Create a mini-batch of training data and labels\n",
    "#         X_batch = None\n",
    "#         y_batch = None\n",
    "        \n",
    "#         # Run the forward pass of the model to get a prediction and compute the accuracy\n",
    "#         train_accuracy[epoch] += 0\n",
    "\n",
    "#         # Run the backward pass of the model to compute the loss, and update the weights\n",
    "#         train_loss[epoch] += 0\n",
    "\n",
    "    # Validation\n",
    "    # No need to run the backward pass here, just run the forward pass to compute accuracy\n",
    "    val_accuracy[epoch] += 0\n",
    "    \n",
    "    # Implement learning rate decay"
   ]
  },
  {
   "cell_type": "markdown",
   "metadata": {},
   "source": [
    "## Train using Adam\n",
    "Next we will train the same model using the Adam optimizer. You should take the above code for SGD and modify it to use Adam instead. For implementation details, see the lecture slides. The original paper that introduced Adam is also a good reference, and contains suggestions for default values: https://arxiv.org/pdf/1412.6980.pdf"
   ]
  },
  {
   "cell_type": "code",
   "execution_count": null,
   "metadata": {},
   "outputs": [],
   "source": [
    "# TODO: implement me"
   ]
  },
  {
   "cell_type": "markdown",
   "metadata": {},
   "source": [
    "## Graph loss and train/val accuracies\n",
    "\n",
    "Examining the loss graph along with the train and val accuracy graphs should help you gain some intuition for the hyperparameters you should try in the hyperparameter tuning below. It should also help with debugging any issues you might have with your network."
   ]
  },
  {
   "cell_type": "code",
   "execution_count": null,
   "metadata": {},
   "outputs": [],
   "source": [
    "# Plot the loss function and train / validation accuracies\n",
    "plt.subplot(2, 1, 1)\n",
    "plt.plot(train_loss)\n",
    "plt.title('Loss history')\n",
    "plt.xlabel('Iteration')\n",
    "plt.ylabel('Loss')\n",
    "\n",
    "plt.subplot(2, 1, 2)\n",
    "plt.plot(train_accuracy, label='train')\n",
    "plt.plot(val_accuracy, label='val')\n",
    "plt.title('Classification accuracy history')\n",
    "plt.xlabel('Epoch')\n",
    "plt.ylabel('Classification accuracy')\n",
    "plt.legend()\n",
    "\n",
    "plt.tight_layout()\n",
    "plt.show()"
   ]
  },
  {
   "cell_type": "markdown",
   "metadata": {},
   "source": [
    "## Hyperparameter tuning\n",
    "\n",
    "Once you have successfully trained a network you can tune your hyparameters to increase your accuracy.\n",
    "\n",
    "Based on the graphs of the loss function above you should be able to develop some intuition about what hyperparameter adjustments may be necessary. A very noisy loss implies that the learning rate might be too high, while a linearly decreasing loss would suggest that the learning rate may be too low. A large gap between training and validation accuracy would suggest overfitting due to a large model without much regularization. No gap between training and validation accuracy would indicate low model capacity. \n",
    "\n",
    "You will compare networks of two and three layers using the different optimization methods you implemented. \n",
    "\n",
    "The different hyperparameters you can experiment with are:\n",
    "- **Batch size**: We recommend you leave this at 200 initially which is the batch size we used. \n",
    "- **Number of iterations**: You can gain an intuition for how many iterations to run by checking when the validation accuracy plateaus in your train/val accuracy graph.\n",
    "- **Initialization** Weight initialization is very important for neural networks. We used the initialization `W = np.random.randn(n) / sqrt(n)` where `n` is the input dimension for layer corresponding to `W`. We recommend you stick with the given initializations, but you may explore modifying these. Typical initialization practices: http://cs231n.github.io/neural-networks-2/#init\n",
    "- **Learning rate**: Generally from around 1e-4 to 1e-1 is a good range to explore according to our implementation.\n",
    "- **Learning rate decay**: We recommend a 0.95 decay to start.\n",
    "- **Hidden layer size**: You should explore up to around 120 units per layer. For three-layer network, we fixed the two hidden layers to be the same size when obtaining the target numbers. However, you may experiment with having different size hidden layers.\n",
    "- **Regularization coefficient**: We recommend trying values in the range 0 to 0.1. \n",
    "\n",
    "Hints:\n",
    "- After getting a sense of the parameters by trying a few values yourself, you will likely want to write a few for-loops to traverse over a set of hyperparameters.\n",
    "- If you find that your train loss is decreasing, but your train and val accuracy start to decrease rather than increase, your model likely started minimizing the regularization term. To prevent this you will need to decrease the regularization coefficient. "
   ]
  },
  {
   "cell_type": "markdown",
   "metadata": {},
   "source": [
    "## Run on the test set\n",
    "When you are done experimenting, you should evaluate your final trained networks on the test set."
   ]
  },
  {
   "cell_type": "code",
   "execution_count": null,
   "metadata": {},
   "outputs": [],
   "source": [
    "best_2layer_sgd_prediction = None\n",
    "best_3layer_sgd_prediction = None\n",
    "best_2layer_adam_prediction = None\n",
    "best_3layer_adam_prediction = None"
   ]
  },
  {
   "cell_type": "markdown",
   "metadata": {},
   "source": [
    "## Kaggle output\n",
    "\n",
    "Once you are satisfied with your solution and test accuracy, output a file to submit your test set predictions to the Kaggle for Assignment 2 Neural Network. Use the following code to do so:"
   ]
  },
  {
   "cell_type": "code",
   "execution_count": null,
   "metadata": {},
   "outputs": [],
   "source": [
    "output_submission_csv('./nn_2layer_sgd_submission.csv', best_2layer_sgd_prediction)\n",
    "output_submission_csv('./nn_3layer_sgd_submission.csv', best_3layer_sgd_prediction)\n",
    "output_submission_csv('./nn_2layer_adam_submission.csv', best_2layer_adam_prediction)\n",
    "output_submission_csv('./nn_3layer_adam_submission.csv', best_3layer_adam_prediction)"
   ]
  },
  {
   "cell_type": "markdown",
   "metadata": {},
   "source": [
    "## Compare SGD and Adam\n",
    "Create graphs to compare training loss and validation accuracy between SGD and Adam. The code is similar to the above code, but instead of comparing train and validation, we are comparing SGD and Adam."
   ]
  },
  {
   "cell_type": "code",
   "execution_count": null,
   "metadata": {},
   "outputs": [],
   "source": [
    "# TODO: implement me"
   ]
  }
 ],
 "metadata": {
  "kernelspec": {
   "display_name": "Python 3 (ipykernel)",
   "language": "python",
   "name": "python3"
  },
  "language_info": {
   "codemirror_mode": {
    "name": "ipython",
    "version": 3
   },
   "file_extension": ".py",
   "mimetype": "text/x-python",
   "name": "python",
   "nbconvert_exporter": "python",
   "pygments_lexer": "ipython3",
   "version": "3.8.10"
  }
 },
 "nbformat": 4,
 "nbformat_minor": 1
}
